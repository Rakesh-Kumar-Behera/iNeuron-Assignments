{
 "cells": [
  {
   "cell_type": "markdown",
   "id": "768e656f",
   "metadata": {},
   "source": [
    "### Assignment 1"
   ]
  },
  {
   "cell_type": "markdown",
   "id": "9aa0c1f7",
   "metadata": {},
   "source": [
    "<b>Q1. What is the purpose of Python's OOP?</b>"
   ]
  },
  {
   "cell_type": "markdown",
   "id": "a3b21775",
   "metadata": {},
   "source": [
    "In Python, <b>object-oriented Programming (OOPs)</b> is a programming paradigm that uses objects and classes in programming. It aims to implement real-world entities like <b>inheritance, polymorphisms, encapsulation, etc.</b> in the programming. The main concept of OOPs is to bind the data and the functions that work on that together as a single unit so that no other part of the code can access this data."
   ]
  },
  {
   "cell_type": "markdown",
   "id": "dbe561c7",
   "metadata": {},
   "source": [
    "<b>Q2. Where does an inheritance search look for an attribute?<b>"
   ]
  },
  {
   "cell_type": "markdown",
   "id": "e1c4f06a",
   "metadata": {},
   "source": [
    "While searching for the attributes the child class will first search the attribute in its own class, if not found, then it will search in its parent classes"
   ]
  },
  {
   "cell_type": "markdown",
   "id": "12cea177",
   "metadata": {},
   "source": [
    "<b>Q3. How do you distinguish between a class object and an instance object?</b>"
   ]
  },
  {
   "cell_type": "markdown",
   "id": "fef9822d",
   "metadata": {},
   "source": [
    "Class objects represent the class itself, while instance objects represent individual instances of the class. Class objects can have class-level access.Class objects are shared across all objects while instance objects are for data unique to each instance. "
   ]
  },
  {
   "cell_type": "markdown",
   "id": "7920edd2",
   "metadata": {},
   "source": [
    "<b>Q4. What makes the first argument in a class’s method function special?</b>"
   ]
  },
  {
   "cell_type": "markdown",
   "id": "bec85794",
   "metadata": {},
   "source": [
    "The self parameter is the first parameter and it is a reference to the current instance of the class, and is used to access variables that belongs to the class.It acts as an pointer to the class and binds the method to the class."
   ]
  },
  {
   "cell_type": "markdown",
   "id": "7c85f8bd",
   "metadata": {},
   "source": [
    "<b>Q5. What is the purpose of the init method?</b>"
   ]
  },
  {
   "cell_type": "markdown",
   "id": "54f21ad7",
   "metadata": {},
   "source": [
    "The `__init__()` function is called automatically every time the class is being used to create a new object.The `__init__` method lets the class initialize the object's attributes.  `__init__()` function is used to assign values to object properties, or other operations that are necessary to do when the object is being created"
   ]
  },
  {
   "cell_type": "markdown",
   "id": "d500013b",
   "metadata": {},
   "source": [
    "<b>Q6. What is the process for creating a class instance?</b>"
   ]
  },
  {
   "cell_type": "markdown",
   "id": "78b7d2b9",
   "metadata": {},
   "source": [
    "To create instances of a class, you call the class using class name and pass in whatever arguments its __init__ method accepts."
   ]
  },
  {
   "cell_type": "raw",
   "id": "36d62952",
   "metadata": {},
   "source": [
    "\"This would create first object of Employee class\"\n",
    "emp1 = Employee(\"Zara\", 2000)\n",
    "\"This would create second object of Employee class\"\n",
    "emp2 = Employee(\"Manni\", 5000)"
   ]
  },
  {
   "cell_type": "markdown",
   "id": "3043b3ca",
   "metadata": {},
   "source": [
    "<b>Q7. What is the process for creating a class?</b>"
   ]
  },
  {
   "cell_type": "markdown",
   "id": "a0879e32",
   "metadata": {},
   "source": [
    "- Classes are created using class keyword.\n",
    "- A colon (:) is used after the class name.\n",
    "- The class is made up of attributes (data) and methods (functions).\n",
    "- Attributes that apply to the whole class are defined first and are called class attributes.\n",
    "- Attributes can be accessed using the dot (.) operator via objects."
   ]
  },
  {
   "cell_type": "code",
   "execution_count": 5,
   "id": "f79c6ce4",
   "metadata": {},
   "outputs": [],
   "source": [
    "#class is defined using class keyword\n",
    "class Dog:\n",
    "    #data members of class\n",
    "    color = \"black\"  #attribute 1\n",
    "    name = \"Polo\"    #attribute 2\n",
    "    \n",
    "    #class constructor\n",
    "    def __init__(self): \n",
    "        pass\n",
    "  \n",
    "  #user defined function of class\n",
    "    def func():\n",
    "        pass\n",
    "   \n",
    "\n"
   ]
  },
  {
   "cell_type": "code",
   "execution_count": 6,
   "id": "d9b4a9d5",
   "metadata": {},
   "outputs": [
    {
     "data": {
      "text/plain": [
       "'Polo'"
      ]
     },
     "execution_count": 6,
     "metadata": {},
     "output_type": "execute_result"
    }
   ],
   "source": [
    "d1 = Dog()\n",
    "d1.name"
   ]
  },
  {
   "cell_type": "markdown",
   "id": "387662a4",
   "metadata": {},
   "source": [
    "<b>Q8. How would you define the superclasses of a class?</b>"
   ]
  },
  {
   "cell_type": "markdown",
   "id": "ea2379f2",
   "metadata": {},
   "source": [
    "Superclass name can be defined by mentioning the parent class name in the definition of the child class. \n",
    "\n",
    "Example: `class subclass_name (superclass_name)`"
   ]
  },
  {
   "cell_type": "raw",
   "id": "b4d68ac2",
   "metadata": {},
   "source": [
    "Class SuperClass:\n",
    "    {Body}\n",
    "Class SubClass(SuperClass):\n",
    "    {Body}"
   ]
  },
  {
   "cell_type": "code",
   "execution_count": null,
   "id": "494cc133",
   "metadata": {},
   "outputs": [],
   "source": []
  }
 ],
 "metadata": {
  "kernelspec": {
   "display_name": "Python 3 (ipykernel)",
   "language": "python",
   "name": "python3"
  },
  "language_info": {
   "codemirror_mode": {
    "name": "ipython",
    "version": 3
   },
   "file_extension": ".py",
   "mimetype": "text/x-python",
   "name": "python",
   "nbconvert_exporter": "python",
   "pygments_lexer": "ipython3",
   "version": "3.9.13"
  }
 },
 "nbformat": 4,
 "nbformat_minor": 5
}
