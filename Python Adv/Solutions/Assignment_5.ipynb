{
 "cells": [
  {
   "attachments": {},
   "cell_type": "markdown",
   "id": "118c2b9b",
   "metadata": {},
   "source": [
    "### Assignment 5 (Advanced Python))\n"
   ]
  },
  {
   "attachments": {},
   "cell_type": "markdown",
   "id": "70e6c6c1",
   "metadata": {},
   "source": [
    "<b>Q1. What is the meaning of multiple inheritance?</b>"
   ]
  },
  {
   "attachments": {},
   "cell_type": "markdown",
   "id": "d3cf922c",
   "metadata": {},
   "source": [
    "When a class is derived from more than one base class it is called multiple Inheritance. The derived class inherits all the features of the base case."
   ]
  },
  {
   "cell_type": "code",
   "execution_count": 1,
   "id": "0ed8559f",
   "metadata": {},
   "outputs": [
    {
     "name": "stdout",
     "output_type": "stream",
     "text": [
      "method1 of Base1\n",
      "method2 of Base2\n"
     ]
    }
   ],
   "source": [
    "class Base1:\n",
    "    def fun1(self):\n",
    "        print(\"method1 of Base1\")\n",
    "\n",
    "class Base2:\n",
    "    def fun2(self):\n",
    "        print(\"method2 of Base2\")\n",
    "\n",
    "class Child(Base1, Base2):\n",
    "    pass\n",
    "\n",
    "obj = Child()\n",
    "obj.fun1()\n",
    "obj.fun2()"
   ]
  },
  {
   "attachments": {},
   "cell_type": "markdown",
   "id": "d60f98e1",
   "metadata": {},
   "source": [
    "Q2. What is the concept of delegation?"
   ]
  },
  {
   "attachments": {},
   "cell_type": "markdown",
   "id": "61803bbd",
   "metadata": {},
   "source": [
    "Delegation provides a proxy object for any class that you want on top of the main class. It's like a wrapper to your class so that you can access limited resources of the main class.\n",
    "\n",
    "It wraps the object of main class into a smaller object with limited access."
   ]
  },
  {
   "cell_type": "code",
   "execution_count": 3,
   "id": "45f8b55b",
   "metadata": {},
   "outputs": [
    {
     "name": "stdout",
     "output_type": "stream",
     "text": [
      "Welcome! Have a nice day\n",
      "Welcome! Have a nice day\n",
      "Hey! I am back\n"
     ]
    }
   ],
   "source": [
    "class MyClass(object):\n",
    "    def sayHi(self):\n",
    "        print(\"Hey! I am back\")\n",
    "    def greet(self):\n",
    "        print(\"Welcome! Have a nice day\")\n",
    "\n",
    "class NewClass(object):\n",
    "    def __init__(self,obj):\n",
    "        self.main = obj\n",
    "    def welcome(self):\n",
    "        self.main.greet()\n",
    "\n",
    "m = MyClass()\n",
    "\n",
    "n = NewClass(m)\n",
    "\n",
    "m.greet()\n",
    "\n",
    "n.welcome()\n",
    "\n",
    "n.main.sayHi()"
   ]
  },
  {
   "attachments": {},
   "cell_type": "markdown",
   "id": "64ffb9c3",
   "metadata": {},
   "source": [
    "Q3. What is the concept of composition?"
   ]
  },
  {
   "attachments": {},
   "cell_type": "markdown",
   "id": "e83bfc66",
   "metadata": {},
   "source": [
    "It is one of the fundamental concepts of Object-Oriented Programming. This concept describes a class that references to one or more objects of other classes as an Instance variable. Here, by using the class name or by creating the object we can access the members of one class inside another class. It enables creating complex types by combining objects of different classes. It means that a class Composite can contain an object of another class Component. This type of relationship is known as **Has-A** Relation.\n",
    "\n"
   ]
  },
  {
   "cell_type": "code",
   "execution_count": 4,
   "id": "efe4c340",
   "metadata": {},
   "outputs": [
    {
     "name": "stdout",
     "output_type": "stream",
     "text": [
      "Component class object created...\n",
      "Composite class object also created...\n",
      "Composite class m2() method executed...\n",
      "Component class m1() method executed...\n"
     ]
    }
   ],
   "source": [
    "class Component:\n",
    "  \n",
    "   # composite class constructor\n",
    "    def __init__(self):\n",
    "        print('Component class object created...')\n",
    "  \n",
    "    # composite class instance method\n",
    "    def m1(self):``\n",
    "        print('Component class m1() method executed...')\n",
    "  \n",
    "  \n",
    "class Composite:\n",
    "  \n",
    "    # composite class constructor\n",
    "    def __init__(self):\n",
    "  \n",
    "        # creating object of component class\n",
    "        self.obj1 = Component()\n",
    "          \n",
    "        print('Composite class object also created...')\n",
    "  \n",
    "     # composite class instance method\n",
    "    def m2(self):\n",
    "        \n",
    "        print('Composite class m2() method executed...')\n",
    "  \n",
    "        # calling m1() method of component class\n",
    "        self.obj1.m1()\n",
    "  \n",
    "  \n",
    "# creating object of composite class\n",
    "obj2 = Composite()\n",
    "  \n",
    "# calling m2() method of composite class\n",
    "obj2.m2()"
   ]
  },
  {
   "attachments": {},
   "cell_type": "markdown",
   "id": "632ba144",
   "metadata": {},
   "source": [
    "Q4. What are bound methods and how do we use them?"
   ]
  },
  {
   "attachments": {},
   "cell_type": "markdown",
   "id": "52c15b97",
   "metadata": {},
   "source": [
    "A bound method is the one which is dependent on the instance of the class as the first argument. It passes the instance as the first argument which is used to access the variables and functions. In Python 3 and newer versions of python, all functions in the class are by default bound methods."
   ]
  },
  {
   "cell_type": "code",
   "execution_count": 5,
   "id": "517b6c1b",
   "metadata": {},
   "outputs": [
    {
     "name": "stdout",
     "output_type": "stream",
     "text": [
      "Car1 gears before calling change_gears() =  5\n",
      "Gears after calling change_gears() =  6\n",
      "<bound method Car.change_gears of <class '__main__.Car'>>\n"
     ]
    }
   ],
   "source": [
    "# Python code to demonstrate\n",
    "# use of bound methods\n",
    "  \n",
    "  \n",
    "class Car:\n",
    "    # Car class created\n",
    "    gears = 5\n",
    "  \n",
    "    # a class method to change the number of gears \n",
    "    @classmethod\n",
    "    def change_gears(cls, gears):\n",
    "        cls.gears = gears\n",
    "  \n",
    "  \n",
    "# instance of class Car created\n",
    "Car1 = Car()\n",
    "  \n",
    "  \n",
    "print(\"Car1 gears before calling change_gears() = \", Car1.gears)\n",
    "Car1.change_gears(6) \n",
    "print(\"Gears after calling change_gears() = \", Car1.gears)\n",
    "  \n",
    "# bound method\n",
    "print(Car1.change_gears)"
   ]
  },
  {
   "cell_type": "markdown",
   "id": "d07e7305",
   "metadata": {},
   "source": [
    "Q5. What is the purpose of pseudoprivate attributes?"
   ]
  },
  {
   "attachments": {},
   "cell_type": "markdown",
   "id": "8c71cd7e",
   "metadata": {},
   "source": [
    "In Python, all instance attributes wind up in the single instance object at the bottom of the class tree.\n",
    "\n",
    "Within a class method in Python, whenever a method assigns to a self attribute (e.g., self.attr=value), it changes or creates an attribute in the instance (inheritance search only happens on reference, not assignment). Because this is true even if multiple classes in a hierarchy assign to the same attribute, collisions are possible.\n",
    "\n",
    "When thus prefixed, the X attributes are expanded to include the name of the class, before being added to the instance. Because the expansion makes the names unique within the instance, the class coders can assume they truly own any names that they prefix with two underscores:\n",
    "\n",
    "% python private.py {'_C2__X': 99, '_C1__X': 88} 88 99\n",
    "\n",
    "This trick can avoid potential name collisions in the instance, but note that it is not true privacy at all. If you know the name of the enclosing class, you can still access these attributes anywhere you have a reference to the instance, by using the fully expended name (e.g., I._C1__X=77). "
   ]
  },
  {
   "cell_type": "markdown",
   "id": "18b8e60e",
   "metadata": {},
   "source": []
  }
 ],
 "metadata": {
  "kernelspec": {
   "display_name": "base",
   "language": "python",
   "name": "python3"
  },
  "language_info": {
   "codemirror_mode": {
    "name": "ipython",
    "version": 3
   },
   "file_extension": ".py",
   "mimetype": "text/x-python",
   "name": "python",
   "nbconvert_exporter": "python",
   "pygments_lexer": "ipython3",
   "version": "3.9.13"
  }
 },
 "nbformat": 4,
 "nbformat_minor": 5
}
