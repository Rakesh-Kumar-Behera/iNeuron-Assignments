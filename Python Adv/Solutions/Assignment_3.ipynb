{
 "cells": [
  {
   "cell_type": "markdown",
   "id": "cce7236e",
   "metadata": {},
   "source": [
    "## Assignment 3"
   ]
  },
  {
   "cell_type": "markdown",
   "id": "c0433c80",
   "metadata": {},
   "source": [
    "<b>1. What is the concept of an abstract superclass?</b>"
   ]
  },
  {
   "cell_type": "markdown",
   "id": "84d577a5",
   "metadata": {},
   "source": [
    "- Abstraction is the concept in object-oriented programming that is used to hide the internal functionality of the classes from the users. Abstraction is implemented using the abstract classes. \n",
    "\n",
    "- Abstract classes are used to create a blueprint of our classes as they don't contain the method implementation. \n",
    "\n",
    "- Abstract methods force the child classes to give the implementation of these methods in them and thus help us achieve abstraction as each subclass can give its own implementation."
   ]
  },
  {
   "cell_type": "markdown",
   "id": "c41add98",
   "metadata": {},
   "source": [
    "<b>2. What happens when a class statement's top level contains a basic assignment statement?</b>"
   ]
  },
  {
   "cell_type": "markdown",
   "id": "ff0bf742",
   "metadata": {},
   "source": [
    "An assignment statement evaluates the expression list (remember that this can be a single expression or a comma-separated list, the latter yielding a tuple) and assigns the single resulting object to each of the target lists, from left to right."
   ]
  },
  {
   "cell_type": "markdown",
   "id": "2959ce27",
   "metadata": {},
   "source": [
    "<b>3. Why does a class need to manually call a superclass's init method?</b>"
   ]
  },
  {
   "cell_type": "markdown",
   "id": "b1493ad8",
   "metadata": {},
   "source": [
    "- The “__init__” is a reserved method in python classes. It is known as a constructor in Object-Oriented terminology. This method when called, allows the class to initialize the attributes of the class.\n",
    "- In a subclass, a parent class can be referred to using the super() function. It returns a temporary object of the superclass and this allows access to all of its methods to its child class. \n",
    "- `super().__init__()` inherits all the parent class attributes\n"
   ]
  },
  {
   "cell_type": "markdown",
   "id": "bf5fcad1",
   "metadata": {},
   "source": [
    "<b>4. How can you augment, instead of completely replacing, an inherited method?</b>"
   ]
  },
  {
   "cell_type": "code",
   "execution_count": 4,
   "id": "014e03ff",
   "metadata": {},
   "outputs": [
    {
     "name": "stdout",
     "output_type": "stream",
     "text": [
      "--------------------\n"
     ]
    },
    {
     "data": {
      "text/plain": [
       "<map at 0x2ba736a5670>"
      ]
     },
     "execution_count": 4,
     "metadata": {},
     "output_type": "execute_result"
    }
   ],
   "source": [
    "class Baseclass:\n",
    "    def update(self):\n",
    "        print('This is the Parent class update method')\n",
    "\n",
    "class child1(Baseclass):\n",
    "    def update(self):\n",
    "        print('this is child1 update method')\n",
    "        Baseclass.update(self)\n",
    "\n",
    "def child2(st):\n",
    "    tmp = st.update # it is a bound method that doesn't take any arguments\n",
    "    def newUpdate():\n",
    "        print('this is child2 new update method')\n",
    "        tmp()\n",
    "    st.update = newUpdate\n",
    "\n",
    "\n",
    "from operator import methodcaller    \n",
    "L = [Baseclass(), child1()]\n",
    "map(methodcaller('update'), L)\n",
    "map(child2, L)\n",
    "print(\"-\"*20)\n",
    "map(methodcaller('update'), L)"
   ]
  },
  {
   "cell_type": "markdown",
   "id": "67d4cc11",
   "metadata": {},
   "source": [
    "<b>5. How is the local scope of a class different from that of a function?</b>"
   ]
  },
  {
   "cell_type": "markdown",
   "id": "0891a39e",
   "metadata": {},
   "source": [
    "- in function scope the variables that you define in this scope are only available or visible to the code within the scope.\n",
    "\n",
    "- But incase of class, we can specify access specifier to attributes and methods and can access the atributes and methods in the child or subclass."
   ]
  },
  {
   "cell_type": "code",
   "execution_count": null,
   "id": "577b82a1",
   "metadata": {},
   "outputs": [],
   "source": []
  }
 ],
 "metadata": {
  "kernelspec": {
   "display_name": "Python 3 (ipykernel)",
   "language": "python",
   "name": "python3"
  },
  "language_info": {
   "codemirror_mode": {
    "name": "ipython",
    "version": 3
   },
   "file_extension": ".py",
   "mimetype": "text/x-python",
   "name": "python",
   "nbconvert_exporter": "python",
   "pygments_lexer": "ipython3",
   "version": "3.9.13"
  }
 },
 "nbformat": 4,
 "nbformat_minor": 5
}
