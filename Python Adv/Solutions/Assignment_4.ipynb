{
 "cells": [
  {
   "cell_type": "markdown",
   "id": "9aa79d8f",
   "metadata": {},
   "source": [
    "# Assignment 4"
   ]
  },
  {
   "cell_type": "markdown",
   "id": "645fe05b",
   "metadata": {},
   "source": [
    "<b>Q1. Which two operator overloading methods can you use in your classes to support iteration?</b>"
   ]
  },
  {
   "cell_type": "markdown",
   "id": "c9cb750a",
   "metadata": {},
   "source": [
    "The `__iter__` returns the iterator object and is implicitly called at the start of loops. The `__next__` method returns the next value and is implicitly called at each loop increment. `__next__` raises a StopIteration exception when there are no more value to return, which is implicitly captured by looping constructs to stop iterating."
   ]
  },
  {
   "cell_type": "code",
   "execution_count": 1,
   "id": "ff642d63",
   "metadata": {},
   "outputs": [
    {
     "name": "stdout",
     "output_type": "stream",
     "text": [
      "5\n",
      "6\n",
      "7\n",
      "8\n",
      "9\n",
      "10\n",
      "11\n",
      "12\n",
      "13\n",
      "14\n",
      "15\n"
     ]
    }
   ],
   "source": [
    "class Counter:\n",
    "    def __init__(self, low, high):\n",
    "        self.current = low\n",
    "        self.high = high\n",
    " \n",
    "    def __iter__(self):\n",
    "        return self\n",
    " \n",
    "    def __next__(self):\n",
    "        if self.current > self.high:\n",
    "            raise StopIteration\n",
    "        else:\n",
    "            self.current += 1\n",
    "            return self.current - 1\n",
    " \n",
    " \n",
    "for num in Counter(5, 15):\n",
    "    print(num)"
   ]
  },
  {
   "cell_type": "markdown",
   "id": "19b0d283",
   "metadata": {},
   "source": [
    "<b>Q2. In what contexts do the two operator overloading methods manage printing?</b>"
   ]
  },
  {
   "cell_type": "markdown",
   "id": "65823975",
   "metadata": {},
   "source": [
    "The operator overloading in Python means provide extended meaning beyond their predefined operational meaning. Such as, we use the \"+\" operator for adding two integers as well as joining two strings or merging two lists."
   ]
  },
  {
   "cell_type": "code",
   "execution_count": 2,
   "id": "04db13fd",
   "metadata": {},
   "outputs": [
    {
     "name": "stdout",
     "output_type": "stream",
     "text": [
      "46\n",
      "JavaTpoint\n",
      "322\n",
      "X Y Z X Y Z X Y Z \n"
     ]
    }
   ],
   "source": [
    "print (14 + 32)  \n",
    "   \n",
    "# Now, we will concatenate the two strings  \n",
    "print (\"Java\" + \"Tpoint\")  \n",
    "   \n",
    "# We will check the product of two numbers  \n",
    "print (23 * 14)  \n",
    "   \n",
    "# Here, we will try to repeat the String  \n",
    "print (\"X Y Z \" * 3)  "
   ]
  },
  {
   "cell_type": "markdown",
   "id": "a6106ab6",
   "metadata": {},
   "source": [
    "<b>Q3. In a class, how do you intercept slice operations?</b>"
   ]
  },
  {
   "cell_type": "markdown",
   "id": "a85a611b",
   "metadata": {},
   "source": [
    "The `__getitem__` method is used for accessing list items, array elements, dictionary entries etc. slice is a constructor in Python that creates slice object to represent set of indices that the range(start, stop, step) specifies. `__getitem__` method can be implement in a class, and the behavior of slicing can be defined inside it.\n",
    "\n",
    "Syntax:\n",
    "\n",
    "`__getitem__(slice(start, stop, step))`"
   ]
  },
  {
   "cell_type": "code",
   "execution_count": 3,
   "id": "de20183d",
   "metadata": {},
   "outputs": [
    {
     "name": "stdout",
     "output_type": "stream",
     "text": [
      "1\n",
      "(1, 2)\n",
      "(1, 2, 3)\n"
     ]
    },
    {
     "data": {
      "text/plain": [
       "(1, 2, 3)"
      ]
     },
     "execution_count": 3,
     "metadata": {},
     "output_type": "execute_result"
    }
   ],
   "source": [
    "class Demo:\n",
    "    def __getitem__(self, key):\n",
    "          \n",
    "        # print a[1], a[1, 2], \n",
    "        # a[1, 2, 3]\n",
    "        print(key)\n",
    "          \n",
    "        return key\n",
    "a = Demo()\n",
    "  \n",
    "  \n",
    "\n",
    "a[1]\n",
    "  \n",
    "# => slice(1, 2)\n",
    "a[1, 2]\n",
    "  \n",
    "# => (1, 2, 3)\n",
    "a[1, 2, 3]"
   ]
  },
  {
   "cell_type": "code",
   "execution_count": 6,
   "id": "293e90bb",
   "metadata": {},
   "outputs": [
    {
     "name": "stdout",
     "output_type": "stream",
     "text": [
      "(1, 2, 3, 4, 5)\n"
     ]
    },
    {
     "data": {
      "text/plain": [
       "(1, 2, 3)"
      ]
     },
     "execution_count": 6,
     "metadata": {},
     "output_type": "execute_result"
    }
   ],
   "source": [
    "a[1,2,3,4,5][:3]"
   ]
  },
  {
   "cell_type": "code",
   "execution_count": 10,
   "id": "a8cde197",
   "metadata": {},
   "outputs": [
    {
     "name": "stdout",
     "output_type": "stream",
     "text": [
      "(1, 3, 5, 7, 9, 2, 4, 6, 8)\n"
     ]
    },
    {
     "data": {
      "text/plain": [
       "(1, 5, 9, 4, 8)"
      ]
     },
     "execution_count": 10,
     "metadata": {},
     "output_type": "execute_result"
    }
   ],
   "source": [
    "a[1,3,5,7,9,2,4,6,8][::2]"
   ]
  },
  {
   "cell_type": "markdown",
   "id": "e3f84eeb",
   "metadata": {},
   "source": [
    "<b>Q4. In a class, how do you capture in-place addition?</b>"
   ]
  },
  {
   "cell_type": "markdown",
   "id": "83bf74ec",
   "metadata": {},
   "source": [
    "Python provides the operator `x += y` to add two objects in-place by calculating the sum `x + y` and assigning the result to the first operands variable name x . You can set up the in-place addition behavior for your own class by overriding the magic `“dunder”` method `__iadd__(self, other)` in your class definition."
   ]
  },
  {
   "cell_type": "code",
   "execution_count": 11,
   "id": "cc1ecfc3",
   "metadata": {},
   "outputs": [
    {
     "name": "stdout",
     "output_type": "stream",
     "text": [
      "42\n"
     ]
    }
   ],
   "source": [
    "class Data:\n",
    "\n",
    "    def __init__(self, data):\n",
    "        self.data = data\n",
    "\n",
    "    def __iadd__(self, other):\n",
    "        self.data += other.data\n",
    "        return self\n",
    "\n",
    "x = Data(40)\n",
    "y = Data(2)\n",
    "\n",
    "x += y\n",
    "print(x.data)\n",
    "# 42"
   ]
  },
  {
   "cell_type": "markdown",
   "id": "348cd4a4",
   "metadata": {},
   "source": [
    "<b>Q5. When is it appropriate to use operator overloading?</b>"
   ]
  },
  {
   "cell_type": "markdown",
   "id": "123a4a24",
   "metadata": {},
   "source": [
    "Operator overloading allows operators to have user-defined meanings on user-defined types (classes). It is used to customize the definition of Python operators for a user-defined class.\n",
    "\n",
    "Operator overloading in Python provides the ability to override the functionality of a built-in operator in user-defined classes. When you want to change the functionality of a built-in operator , then we can use operator overloading . It can also be achived by using dunder or magic methods.\n",
    "\n",
    "Few examples for magic methods are: `__init__, __add__, __len__, __repr__` etc\n",
    "\n",
    "For example, the “*” operator can be overloaded not only as a multiplier for numbers but also as a repetition operator for lists or strings."
   ]
  },
  {
   "cell_type": "code",
   "execution_count": null,
   "id": "4e4df4a3",
   "metadata": {},
   "outputs": [],
   "source": []
  }
 ],
 "metadata": {
  "kernelspec": {
   "display_name": "Python 3 (ipykernel)",
   "language": "python",
   "name": "python3"
  },
  "language_info": {
   "codemirror_mode": {
    "name": "ipython",
    "version": 3
   },
   "file_extension": ".py",
   "mimetype": "text/x-python",
   "name": "python",
   "nbconvert_exporter": "python",
   "pygments_lexer": "ipython3",
   "version": "3.9.13"
  }
 },
 "nbformat": 4,
 "nbformat_minor": 5
}
