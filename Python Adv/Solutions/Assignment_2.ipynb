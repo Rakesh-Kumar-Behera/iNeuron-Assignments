{
 "cells": [
  {
   "cell_type": "markdown",
   "id": "78b6843a",
   "metadata": {},
   "source": [
    "### Assignment 2"
   ]
  },
  {
   "cell_type": "markdown",
   "id": "462b4d7b",
   "metadata": {},
   "source": []
  },
  {
   "cell_type": "markdown",
   "id": "e18fce3a",
   "metadata": {},
   "source": [
    "<b>Q1. What is the relationship between classes and modules?</b>"
   ]
  },
  {
   "cell_type": "markdown",
   "id": "eb06ebe8",
   "metadata": {},
   "source": [
    "- The difference between a class and a module in python is that a class is used to define a blueprint for a given object, whereas a module is used to reuse a given piece of code inside another program.\n",
    "\n",
    "- A class can have its own instance, but a module cannot be instantiated. We use the ‘class’ keyword to define a class, whereas to use modules, we use the ‘import’ keyword. We can inherit a particular class and modify it using inheritance. But while using modules, it is simply a code containing variables, functions, and classes.\n",
    "\n",
    "- Modules are files present inside a package, whereas a class is used to encapsulate data and functions together inside the same unit."
   ]
  },
  {
   "cell_type": "markdown",
   "id": "d6e80a11",
   "metadata": {},
   "source": [
    "<b>Q2. How do you make instances and classes?</b>"
   ]
  },
  {
   "cell_type": "markdown",
   "id": "570d70a9",
   "metadata": {},
   "source": [
    "- A Class is like an object constructor, or a \"blueprint\" for creating objects. To create a class,we use the keyword `class`\n",
    "\n",
    "- To create instances of a class, you call the class using class name and pass in whatever arguments its `__init__` method accepts."
   ]
  },
  {
   "cell_type": "code",
   "execution_count": 2,
   "id": "263dc87f",
   "metadata": {},
   "outputs": [
    {
     "name": "stdout",
     "output_type": "stream",
     "text": [
      "5\n"
     ]
    }
   ],
   "source": [
    "class MyClass: #creating class\n",
    "  x = 5\n",
    "\n",
    "p1 = MyClass() #creating instance of a class\n",
    "print(p1.x)"
   ]
  },
  {
   "cell_type": "code",
   "execution_count": 4,
   "id": "56be3e93",
   "metadata": {},
   "outputs": [
    {
     "name": "stdout",
     "output_type": "stream",
     "text": [
      "John\n",
      "36\n"
     ]
    }
   ],
   "source": [
    "class Person: #Class person\n",
    "    def __init__(self, name, age):\n",
    "        self.name = name\n",
    "        self.age = age\n",
    "\n",
    "p1 = Person(\"John\", 36) #instance or object of class person\n",
    "\n",
    "print(p1.name)\n",
    "print(p1.age)"
   ]
  },
  {
   "cell_type": "markdown",
   "id": "1952fe0b",
   "metadata": {},
   "source": [
    "<b>Q3. Where and how should be class attributes created?</b>"
   ]
  },
  {
   "cell_type": "markdown",
   "id": "f2513d51",
   "metadata": {},
   "source": [
    "To define a class attribute, you place it outside of the `__init__()` method. Use class_name. class_attribute or object_name. class_attribute to access the value of the class_attribute ."
   ]
  },
  {
   "cell_type": "code",
   "execution_count": 5,
   "id": "e50cadd6",
   "metadata": {},
   "outputs": [],
   "source": [
    "class Circle:\n",
    "    pi = 3.14159 #class attribute or variable\n",
    "\n",
    "    def __init__(self, radius):\n",
    "        self.radius = radius\n",
    "\n",
    "    def area(self):\n",
    "        return self.pi * self.radius**2\n",
    "\n",
    "    def circumference(self):\n",
    "        return 2 * self.pi * self.radius\n"
   ]
  },
  {
   "cell_type": "code",
   "execution_count": 6,
   "id": "a49e9f71",
   "metadata": {},
   "outputs": [
    {
     "name": "stdout",
     "output_type": "stream",
     "text": [
      "3.14159\n",
      "3.14159\n"
     ]
    }
   ],
   "source": [
    "c = Circle(10)\n",
    "print(c.pi)\n",
    "print(Circle.pi)"
   ]
  },
  {
   "cell_type": "markdown",
   "id": "d83dfea4",
   "metadata": {},
   "source": [
    "<b>Q4. Where and how are instance attributes created?</b>"
   ]
  },
  {
   "cell_type": "markdown",
   "id": "30cd76a0",
   "metadata": {},
   "source": [
    "An instance attribute is a Python variable belonging to one, and only one, object. This variable is only accessible in the scope of this object, and it’s defined inside the constructor function, `__init__`(self,..) of the class."
   ]
  },
  {
   "cell_type": "code",
   "execution_count": 8,
   "id": "d78f1f1a",
   "metadata": {},
   "outputs": [
    {
     "name": "stdout",
     "output_type": "stream",
     "text": [
      "raka\n",
      "abhi\n"
     ]
    }
   ],
   "source": [
    "class Student:\n",
    "    school = \"iNeuron\" #class variable\n",
    "    \n",
    "    def __init__(self, name, course):\n",
    "        self.name = name #instance attribute\n",
    "        self.course = course\n",
    "    \n",
    "Student1 = Student(\"raka\", \"JavaScript\")\n",
    "Student2 = Student(\"abhi\", \"Python\")\n",
    "\n",
    "print(Student1.name) # Jane\n",
    "print(Student2.name) # John"
   ]
  },
  {
   "cell_type": "markdown",
   "id": "fcbc18db",
   "metadata": {},
   "source": [
    "<b>Q5. What does the term \"self\" in a Python class mean?</b>"
   ]
  },
  {
   "cell_type": "markdown",
   "id": "070e343e",
   "metadata": {},
   "source": [
    "The self parameter is a reference to the current instance of the class, and is used to access variables that belongs to the class. Or in other words it acts as an pointer to the class and binds the attributes and methods to the current class\n",
    "\n",
    "It does not have to be named self , you can call it whatever you like, but it has to be the first parameter of any function in the class"
   ]
  },
  {
   "cell_type": "markdown",
   "id": "6d353444",
   "metadata": {},
   "source": [
    "<b>Q6. How does a Python class handle operator overloading?</b>"
   ]
  },
  {
   "cell_type": "code",
   "execution_count": 9,
   "id": "d60ac54e",
   "metadata": {},
   "outputs": [],
   "source": [
    "#operator overloading\n",
    "def func(a,b):\n",
    "    return a+b"
   ]
  },
  {
   "cell_type": "code",
   "execution_count": 11,
   "id": "dce4a52b",
   "metadata": {},
   "outputs": [
    {
     "data": {
      "text/plain": [
       "12"
      ]
     },
     "execution_count": 11,
     "metadata": {},
     "output_type": "execute_result"
    }
   ],
   "source": [
    "func(9,3) #'+' ad addition operator"
   ]
  },
  {
   "cell_type": "code",
   "execution_count": 12,
   "id": "4a6b1b5d",
   "metadata": {},
   "outputs": [
    {
     "data": {
      "text/plain": [
       "'rakeshbehera'"
      ]
     },
     "execution_count": 12,
     "metadata": {},
     "output_type": "execute_result"
    }
   ],
   "source": [
    "func('rakesh','behera') # '+' as concatenation operator"
   ]
  },
  {
   "cell_type": "markdown",
   "id": "5d51fc6f",
   "metadata": {},
   "source": [
    "This feature in Python that allows the same operator to have different meaning according to the context is called operator overloading. \n",
    "\n",
    "The operator overloading in Python means provide extended meaning beyond their predefined operational meaning. Such as, we use the \"+\" operator for adding two integers as well as joining two strings or merging two lists. We can achieve this as the \"+\" operator is overloaded by the \"int\" class and \"str\" class."
   ]
  },
  {
   "cell_type": "markdown",
   "id": "240b9707",
   "metadata": {},
   "source": [
    "<b>Q7. When do you consider allowing operator overloading of your classes?</b>"
   ]
  },
  {
   "cell_type": "markdown",
   "id": "7f4ec11e",
   "metadata": {},
   "source": [
    "Operator overloading allows operators to have user-defined meanings on user-defined types (classes). It is used to customize the definition of Python operators for a user-defined class.\n",
    "\n",
    "Operator overloading in Python provides the ability to override the functionality of a built-in operator in user-defined classes.\n",
    "\n",
    "For example, the “*” operator can be overloaded not only as a multiplier for numbers but also as a repetition operator for lists or strings."
   ]
  },
  {
   "cell_type": "markdown",
   "id": "5f5d2d21",
   "metadata": {},
   "source": [
    "<b>Q8. What is the most popular form of operator overloading?</b>"
   ]
  },
  {
   "cell_type": "markdown",
   "id": "ac10de80",
   "metadata": {},
   "source": [
    "The most popular form of overloading is '+'operator overloading"
   ]
  },
  {
   "cell_type": "code",
   "execution_count": 13,
   "id": "b785469d",
   "metadata": {},
   "outputs": [],
   "source": [
    "def func2(a,b):\n",
    "    return a+b"
   ]
  },
  {
   "cell_type": "code",
   "execution_count": 14,
   "id": "a60ae3b2",
   "metadata": {},
   "outputs": [
    {
     "data": {
      "text/plain": [
       "112"
      ]
     },
     "execution_count": 14,
     "metadata": {},
     "output_type": "execute_result"
    }
   ],
   "source": [
    "func2(45,67) #integer addition"
   ]
  },
  {
   "cell_type": "code",
   "execution_count": 15,
   "id": "47a4d6ba",
   "metadata": {},
   "outputs": [
    {
     "data": {
      "text/plain": [
       "'DataScience'"
      ]
     },
     "execution_count": 15,
     "metadata": {},
     "output_type": "execute_result"
    }
   ],
   "source": [
    "func2('Data','Science') # string concatenation"
   ]
  },
  {
   "cell_type": "code",
   "execution_count": 16,
   "id": "d7c52de1",
   "metadata": {},
   "outputs": [
    {
     "data": {
      "text/plain": [
       "[1, 2, 3, 4, 7, 8, 9, 10]"
      ]
     },
     "execution_count": 16,
     "metadata": {},
     "output_type": "execute_result"
    }
   ],
   "source": [
    "func2([1,2,3,4], [7,8,9,10]) # merging 2 lists"
   ]
  },
  {
   "cell_type": "markdown",
   "id": "0b64e350",
   "metadata": {},
   "source": [
    "<b>Q9. What are the two most important concepts to grasp in order to comprehend Python OOP code</b>"
   ]
  },
  {
   "cell_type": "markdown",
   "id": "a44ca57d",
   "metadata": {},
   "source": [
    "Inheritance and polymorphism are fundamental concepts of object oriented programming. These concepts help us to create code that can be extended and easily maintainable."
   ]
  },
  {
   "cell_type": "code",
   "execution_count": null,
   "id": "b590e30e",
   "metadata": {},
   "outputs": [],
   "source": []
  }
 ],
 "metadata": {
  "kernelspec": {
   "display_name": "Python 3 (ipykernel)",
   "language": "python",
   "name": "python3"
  },
  "language_info": {
   "codemirror_mode": {
    "name": "ipython",
    "version": 3
   },
   "file_extension": ".py",
   "mimetype": "text/x-python",
   "name": "python",
   "nbconvert_exporter": "python",
   "pygments_lexer": "ipython3",
   "version": "3.9.13"
  }
 },
 "nbformat": 4,
 "nbformat_minor": 5
}
