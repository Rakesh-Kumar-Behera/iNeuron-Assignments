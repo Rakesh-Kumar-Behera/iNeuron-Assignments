{
 "cells": [
  {
   "attachments": {},
   "cell_type": "markdown",
   "id": "34154c41",
   "metadata": {},
   "source": [
    "Q1. Describe three applications for exception processing."
   ]
  },
  {
   "cell_type": "markdown",
   "id": "a9d0b383",
   "metadata": {},
   "source": [
    "- Exception handling allows you to separate error-handling code from normal code.\n",
    "- In Python, you can raise an exception in the program by using the raise exception method.\n",
    "- Raising an exception helps you to break the current code execution and returns the exception back to expection until it is handled.\n",
    "- Python also allows you to create your own exceptions by deriving classes from the standard built-in exceptions."
   ]
  },
  {
   "attachments": {},
   "cell_type": "markdown",
   "id": "e3f568a3",
   "metadata": {},
   "source": [
    "Q2. What happens if you don't do something extra to treat an exception?"
   ]
  },
  {
   "cell_type": "markdown",
   "id": "31c79971",
   "metadata": {},
   "source": [
    "When an exception occurred, if you don't handle it, the program terminates abruptly and the code past the line that caused the exception will not get executed."
   ]
  },
  {
   "attachments": {},
   "cell_type": "markdown",
   "id": "e655b6a4",
   "metadata": {},
   "source": [
    "Q3. What are your options for recovering from an exception in your script?"
   ]
  },
  {
   "cell_type": "markdown",
   "id": "e6f8c828",
   "metadata": {},
   "source": [
    "`Try` and `except` statements are used to catch and handle exceptions in Python. Statements that can raise exceptions are kept inside the try clause and the statements that handle the exception are written inside except clause."
   ]
  },
  {
   "attachments": {},
   "cell_type": "markdown",
   "id": "6582d8c6",
   "metadata": {},
   "source": [
    "Q4. Describe two methods for triggering exceptions in your script."
   ]
  },
  {
   "cell_type": "markdown",
   "id": "1d9478de",
   "metadata": {},
   "source": [
    "- <b>Try</b> – This method catches the exceptions raised by the program\n",
    "- <b>Raise</b> – Triggers an exception manually using custom exceptions"
   ]
  },
  {
   "cell_type": "code",
   "execution_count": 1,
   "id": "63706812",
   "metadata": {},
   "outputs": [
    {
     "name": "stdout",
     "output_type": "stream",
     "text": [
      "Error: Denominator cannot be 0.\n"
     ]
    }
   ],
   "source": [
    "try:\n",
    "    numerator = 10\n",
    "    denominator = 0\n",
    "\n",
    "    result = numerator/denominator\n",
    "\n",
    "    print(result)\n",
    "except:\n",
    "    print(\"Error: Denominator cannot be 0.\")\n",
    "\n",
    "# Output: Error: Denominator cannot be 0. "
   ]
  },
  {
   "cell_type": "code",
   "execution_count": 2,
   "id": "469a9389",
   "metadata": {},
   "outputs": [
    {
     "name": "stdout",
     "output_type": "stream",
     "text": [
      "Exception occurred: Invalid Age\n"
     ]
    }
   ],
   "source": [
    "# define Python user-defined exceptions\n",
    "class InvalidAgeException(Exception):\n",
    "    \"Raised when the input value is less than 18\"\n",
    "    pass\n",
    "\n",
    "# you need to guess this number\n",
    "number = 18\n",
    "\n",
    "try:\n",
    "    input_num = int(input(\"Enter a number: \"))\n",
    "    if input_num < number:\n",
    "        raise InvalidAgeException\n",
    "    else:\n",
    "        print(\"Eligible to Vote\")\n",
    "        \n",
    "except InvalidAgeException:\n",
    "    print(\"Exception occurred: Invalid Age\")"
   ]
  },
  {
   "attachments": {},
   "cell_type": "markdown",
   "id": "fa06214e",
   "metadata": {},
   "source": [
    "Q5. Identify two methods for specifying actions to be executed at termination time, regardless of whether or not an exception exists."
   ]
  },
  {
   "cell_type": "markdown",
   "id": "9d767242",
   "metadata": {},
   "source": [
    "- `else` : The else block lets you execute code when there is no error.\n",
    "\n",
    "- `finally` : The finally block lets you execute code, regardless of the result of the try- and except blocks."
   ]
  },
  {
   "cell_type": "code",
   "execution_count": 3,
   "id": "268487ab",
   "metadata": {},
   "outputs": [
    {
     "name": "stdout",
     "output_type": "stream",
     "text": [
      "Hello\n",
      "Nothing went wrong\n"
     ]
    }
   ],
   "source": [
    "try:\n",
    "  print(\"Hello\")\n",
    "except:\n",
    "  print(\"Something went wrong\")\n",
    "else:\n",
    "  print(\"Nothing went wrong\")"
   ]
  },
  {
   "cell_type": "code",
   "execution_count": 5,
   "id": "23f8da5c",
   "metadata": {},
   "outputs": [
    {
     "name": "stdout",
     "output_type": "stream",
     "text": [
      "Error: Denominator cannot be 0.\n",
      "This is finally block.\n"
     ]
    }
   ],
   "source": [
    "try:\n",
    "    numerator = 10\n",
    "    denominator = 0\n",
    "\n",
    "    result = numerator/denominator\n",
    "\n",
    "    print(result)\n",
    "except:\n",
    "    print(\"Error: Denominator cannot be 0.\")\n",
    "    \n",
    "finally:\n",
    "    print(\"This is finally block.\")"
   ]
  },
  {
   "cell_type": "markdown",
   "id": "430ce8b9",
   "metadata": {},
   "source": []
  }
 ],
 "metadata": {
  "kernelspec": {
   "display_name": "Python 3",
   "language": "python",
   "name": "python3"
  },
  "language_info": {
   "codemirror_mode": {
    "name": "ipython",
    "version": 3
   },
   "file_extension": ".py",
   "mimetype": "text/x-python",
   "name": "python",
   "nbconvert_exporter": "python",
   "pygments_lexer": "ipython3",
   "version": "3.9.13"
  }
 },
 "nbformat": 4,
 "nbformat_minor": 5
}
