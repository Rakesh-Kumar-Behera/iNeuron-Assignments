{
 "cells": [
  {
   "cell_type": "markdown",
   "id": "f23e4090-8773-4335-8f0d-a6ccdd854b02",
   "metadata": {},
   "source": [
    "## Programming Assignment 13"
   ]
  },
  {
   "cell_type": "raw",
   "id": "354887f9-383f-4c71-b578-94cd6f62da9f",
   "metadata": {},
   "source": []
  },
  {
   "cell_type": "markdown",
   "id": "749489ce-fc53-416e-b599-5e3f97c7faa5",
   "metadata": {},
   "source": [
    "--------"
   ]
  },
  {
   "cell_type": "markdown",
   "id": "409843c4-96f5-45b0-a8bc-d21579729451",
   "metadata": {},
   "source": [
    "Question 1:\n",
    "\n",
    "Write a program that calculates and prints the value according to the given formula:\n",
    "\n",
    "Q = Square root of [(2 * C * D)/H]\n",
    "\n",
    "Following are the fixed values of C and H:\n",
    "\n",
    "C is 50. H is 30.\n",
    "\n",
    "D is the variable whose values should be input to your program in a comma-separated sequence.\n",
    "\n",
    "Example\n",
    "\n",
    "Let us assume the following comma separated input sequence is given to the program:\n",
    "\n",
    "100,150,180\n",
    "\n",
    "The output of the program should be:\n",
    "\n",
    "18,22,24\n"
   ]
  },
  {
   "cell_type": "code",
   "execution_count": 7,
   "id": "c511a434-4798-4d62-b93e-86752f4ab174",
   "metadata": {},
   "outputs": [
    {
     "name": "stdin",
     "output_type": "stream",
     "text": [
      "How many number you want to give input :  3\n"
     ]
    },
    {
     "name": "stdout",
     "output_type": "stream",
     "text": [
      "Enter 3 numbers \n"
     ]
    },
    {
     "name": "stdin",
     "output_type": "stream",
     "text": [
      " 100\n",
      " 150\n",
      " 180\n"
     ]
    },
    {
     "name": "stdout",
     "output_type": "stream",
     "text": [
      "[18, 22, 24]\n"
     ]
    }
   ],
   "source": [
    "#Q = Square root of [(2 * C * D)/H] , where C is 50. H is 30.\n",
    "n = int(input(\"How many number you want to give input : \"))\n",
    "D = []\n",
    "print(f\"Enter {n} numbers \")\n",
    "for i in range(n):\n",
    "    D.append(int(input()))\n",
    "\n",
    "def Q_value(num) :\n",
    "    C,H = 50,30\n",
    "    Q = int(((2*C*num)/H) ** (1/2))\n",
    "    return Q\n",
    "\n",
    "list_D = list(map(Q_value,D))\n",
    "print(list_D)"
   ]
  },
  {
   "cell_type": "markdown",
   "id": "0d4cf044-cbb2-4cbb-b626-bafcb62c185b",
   "metadata": {},
   "source": [
    "------------------------------------------------------"
   ]
  },
  {
   "cell_type": "markdown",
   "id": "f33d28bf-cf31-48ea-bae0-0b16fc451a9d",
   "metadata": {},
   "source": [
    "Question 2:\n",
    "Write a program which takes 2 digits, X,Y as input and generates a 2-dimensional array. The element value in the i-th row and j-th column of the array should be i*j.\n",
    "\n",
    "Note: i=0,1.., X-1; j=0,1,¡¬Y-1.\n",
    "\n",
    "Example\n",
    "\n",
    "Suppose the following inputs are given to the program:\n",
    "\n",
    "3,5\n",
    "\n",
    "Then, the output of the program should be:\n",
    "\n",
    "[[0, 0, 0, 0, 0], [0, 1, 2, 3, 4], [0, 2, 4, 6, 8]] "
   ]
  },
  {
   "cell_type": "code",
   "execution_count": 11,
   "id": "308f8ed6-31fc-47e4-82ac-74b0c06182aa",
   "metadata": {},
   "outputs": [
    {
     "name": "stdin",
     "output_type": "stream",
     "text": [
      "Row size:  3\n",
      "Column size:  5\n"
     ]
    },
    {
     "name": "stdout",
     "output_type": "stream",
     "text": [
      "output : \n",
      "[[0, 0, 0, 0, 0], [0, 1, 2, 3, 4], [0, 2, 4, 6, 8]]\n"
     ]
    }
   ],
   "source": [
    "x = int(input(\"Row size: \"))\n",
    "y = int(input(\"Column size: \"))\n",
    "\n",
    "mat = []\n",
    "\n",
    "for i in range(x):\n",
    "    mat.append([])\n",
    "    for j in range(y):\n",
    "        mat[i].append(i*j)\n",
    "print(\"output : \")\n",
    "print(mat)"
   ]
  },
  {
   "cell_type": "markdown",
   "id": "520726dd-3ddd-4550-b215-34369e73a740",
   "metadata": {},
   "source": [
    "----------------------------------------------------------"
   ]
  },
  {
   "cell_type": "markdown",
   "id": "9a39bec4-0134-471c-9197-4260aadba0f3",
   "metadata": {},
   "source": [
    "Question 3:\n",
    "Write a program that accepts a comma separated sequence of words as input and prints the words in a comma-separated sequence after sorting them alphabetically.\n",
    "\n",
    "Suppose the following input is supplied to the program:\n",
    "\n",
    "without,hello,bag,world\n",
    "\n",
    "Then, the output should be:\n",
    "\n",
    "bag,hello,without,world"
   ]
  },
  {
   "cell_type": "code",
   "execution_count": 3,
   "id": "f1a90995-6ddf-4989-89b6-1cf51de010e0",
   "metadata": {},
   "outputs": [
    {
     "name": "stdin",
     "output_type": "stream",
     "text": [
      "Enter the input string :  without,hello,bag,world\n"
     ]
    },
    {
     "name": "stdout",
     "output_type": "stream",
     "text": [
      "Output string : bag,hello,without,world\n"
     ]
    }
   ],
   "source": [
    "str1 = input(\"Enter the input string : \")\n",
    "\n",
    "list_str = str1.split(\",\")\n",
    "list_str.sort()\n",
    "\n",
    "print(f\"Output string : {','.join(list_str)}\")"
   ]
  },
  {
   "cell_type": "markdown",
   "id": "7647f3a7-74ac-45e7-b405-381f03662079",
   "metadata": {},
   "source": [
    "-----\n",
    "Question 4:\n",
    "Write a program that accepts a sequence of whitespace separated words as input and prints the words after removing all duplicate words and sorting them alphanumerically.\n",
    "\n",
    "Suppose the following input is supplied to the program:\n",
    "\n",
    "hello world and practice makes perfect and hello world again\n",
    "\n",
    "Then, the output should be:\n",
    "\n",
    "again and hello makes perfect practice world\n"
   ]
  },
  {
   "cell_type": "code",
   "execution_count": 13,
   "id": "337860c0-fbb0-49a7-bd3e-dc32e71f266b",
   "metadata": {},
   "outputs": [
    {
     "name": "stdin",
     "output_type": "stream",
     "text": [
      "Enter the input string :  hello world and practice makes perfect and hello world again\n"
     ]
    },
    {
     "name": "stdout",
     "output_type": "stream",
     "text": [
      "output string : again and hello makes perfect practice world\n"
     ]
    }
   ],
   "source": [
    "str2 = input(\"Enter the input string : \")\n",
    "\n",
    "list_str = str2.split(\" \")\n",
    "list_str = list(set(list_str))\n",
    "list_str.sort()\n",
    "print(f\"output string : {' '.join(list_str)}\")"
   ]
  },
  {
   "cell_type": "markdown",
   "id": "44577503-e782-4c0c-bb64-e8e00d3a3a8f",
   "metadata": {},
   "source": [
    "-----\n",
    "Question 5:\n",
    "Write a program that accepts a sentence and calculate the number of letters and digits.\n",
    "\n",
    "Suppose the following input is supplied to the program:\n",
    "\n",
    "hello world! 123\n",
    "\n",
    "Then, the output should be:\n",
    "\n",
    "LETTERS 10\n",
    "\n",
    "DIGITS 3"
   ]
  },
  {
   "cell_type": "code",
   "execution_count": 16,
   "id": "152102d0-5520-43cd-96c6-18f970d48edf",
   "metadata": {},
   "outputs": [
    {
     "name": "stdin",
     "output_type": "stream",
     "text": [
      "Enter a alphanumeric string :  hello world! 123\n"
     ]
    },
    {
     "name": "stdout",
     "output_type": "stream",
     "text": [
      "LETTERS 10\n",
      "DIGITS 3\n"
     ]
    }
   ],
   "source": [
    "str3 = input(\"Enter a alphanumeric string : \")\n",
    "\n",
    "ltr = 0 \n",
    "dgt = 0\n",
    "\n",
    "for i in str3:\n",
    "    if i.isalpha():\n",
    "        ltr += 1\n",
    "    if i.isdigit():\n",
    "        dgt += 1\n",
    "        \n",
    "print(f\"LETTERS {ltr}\")\n",
    "print(f\"DIGITS {dgt}\")"
   ]
  },
  {
   "cell_type": "markdown",
   "id": "6b63d186-f143-4ed3-b1e4-acff0b153375",
   "metadata": {},
   "source": [
    "---------------------------\n",
    "Question 6:\n",
    "A website requires the users to input username and password to register. Write a program to check the validity of password input by users.\n",
    "\n",
    "Following are the criteria for checking the password:\n",
    "\n",
    "1. At least 1 letter between [a-z]\n",
    "\n",
    "2. At least 1 number between [0-9]\n",
    "\n",
    "1. At least 1 letter between [A-Z]\n",
    "\n",
    "3. At least 1 character from [$#@]\n",
    "\n",
    "4. Minimum length of transaction password: 6\n",
    "\n",
    "5. Maximum length of transaction password: 12\n",
    "\n",
    "Your program should accept a sequence of comma separated passwords and will check them according to the above criteria. Passwords that match the criteria are to be printed, each separated by a comma.\n",
    "\n",
    "Example\n",
    "\n",
    "If the following passwords are given as input to the program:\n",
    "\n",
    "ABd1234@1,a F1#,2w3E*,2We3345\n",
    "\n",
    "Then, the output of the program should be:\n",
    "\n",
    "ABd1234@1"
   ]
  },
  {
   "cell_type": "code",
   "execution_count": 34,
   "id": "1f328920-5090-4ec1-8a47-fff7c58fe474",
   "metadata": {},
   "outputs": [
    {
     "name": "stdin",
     "output_type": "stream",
     "text": [
      "input string :  ABd1234@1,a F1#,2w3E*,2We3345, saD12$wU\n"
     ]
    },
    {
     "name": "stdout",
     "output_type": "stream",
     "text": [
      "output strings : ABd1234@1, saD12$wU\n"
     ]
    }
   ],
   "source": [
    "def is_valid(st):\n",
    "    small = 0\n",
    "    capital = 0\n",
    "    digit = 0\n",
    "    spcl = 0\n",
    "    if len(st) < 6 or len(st) > 12:\n",
    "        return False\n",
    "    for i in st:\n",
    "        if i.islower():\n",
    "            small += 1\n",
    "        if i.isupper():\n",
    "            capital += 1\n",
    "        if i.isdigit():\n",
    "            digit += 1\n",
    "        if i in '$#@':\n",
    "            spcl += 1\n",
    "    if small == 0 or capital == 0 or digit == 0 or spcl == 0:\n",
    "        return False\n",
    "    return True\n",
    "\n",
    "inp_str = input(\"input string : \")\n",
    "str_list = inp_str.split(',')\n",
    "    \n",
    "valid_str = [x for x in str_list if is_valid(x)]\n",
    "print(f\"output strings : {','.join(valid_str)}\")"
   ]
  },
  {
   "cell_type": "code",
   "execution_count": null,
   "id": "1f554075-5e0e-4c46-a6aa-4cad19daac77",
   "metadata": {},
   "outputs": [],
   "source": []
  },
  {
   "cell_type": "code",
   "execution_count": null,
   "id": "9f61ab84-9e62-4e0f-89af-55632f60fdf1",
   "metadata": {},
   "outputs": [],
   "source": []
  }
 ],
 "metadata": {
  "kernelspec": {
   "display_name": "Python 3 (ipykernel)",
   "language": "python",
   "name": "python3"
  },
  "language_info": {
   "codemirror_mode": {
    "name": "ipython",
    "version": 3
   },
   "file_extension": ".py",
   "mimetype": "text/x-python",
   "name": "python",
   "nbconvert_exporter": "python",
   "pygments_lexer": "ipython3",
   "version": "3.10.6"
  }
 },
 "nbformat": 4,
 "nbformat_minor": 5
}
