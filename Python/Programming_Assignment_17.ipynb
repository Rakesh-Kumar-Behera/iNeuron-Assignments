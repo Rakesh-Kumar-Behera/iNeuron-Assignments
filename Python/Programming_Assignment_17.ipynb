{
 "cells": [
  {
   "cell_type": "markdown",
   "id": "0f81bdcd-8b35-4a8f-93f1-b42262e8cf85",
   "metadata": {},
   "source": [
    "## Programming Assignment 17"
   ]
  },
  {
   "cell_type": "markdown",
   "id": "fd02447f-b0fb-4e2c-9009-da29b903c456",
   "metadata": {},
   "source": [
    "---\n",
    "Question1. \n",
    "\n",
    "Create a function that takes three arguments a, b, c and returns the sum of the numbers that are evenly divided by c from the range a, b inclusive.\n",
    "\n",
    "```Examples\n",
    "evenly_divisible(1, 10, 20) ➞ 0\n",
    "# No number between 1 and 10 can be evenly divided by 20.\n",
    "\n",
    "evenly_divisible(1, 10, 2) ➞ 30\n",
    "# 2 + 4 + 6 + 8 + 10 = 30\n",
    "\n",
    "evenly_divisible(1, 10, 3) ➞ 18\n",
    "# 3 + 6 + 9 = 18\n"
   ]
  },
  {
   "cell_type": "code",
   "execution_count": 3,
   "id": "c586bc80-1e97-425e-8f80-cdaeddb9d0c8",
   "metadata": {},
   "outputs": [
    {
     "name": "stdin",
     "output_type": "stream",
     "text": [
      "Num 1 :  1\n",
      "Num 2 :  10\n",
      "Num 3 :  2\n"
     ]
    },
    {
     "name": "stdout",
     "output_type": "stream",
     "text": [
      "Output : 30\n"
     ]
    }
   ],
   "source": [
    "a = int(input(\"Num 1 : \"))\n",
    "b = int(input(\"Num 2 : \"))\n",
    "c = int(input(\"Num 3 : \"))\n",
    "\n",
    "def evenly_divisible(a,b,c):\n",
    "    res = 0\n",
    "    for i in range(a,b+1):\n",
    "        if i % c == 0:\n",
    "            res += i\n",
    "            \n",
    "    return res\n",
    "\n",
    "print(f\"Output : {evenly_divisible(a,b,c)}\")"
   ]
  },
  {
   "cell_type": "code",
   "execution_count": 4,
   "id": "5756df20-3ac4-459a-8c78-b1f7e28d2646",
   "metadata": {},
   "outputs": [
    {
     "data": {
      "text/plain": [
       "18"
      ]
     },
     "execution_count": 4,
     "metadata": {},
     "output_type": "execute_result"
    }
   ],
   "source": [
    "evenly_divisible(1,10,3)"
   ]
  },
  {
   "cell_type": "markdown",
   "id": "5041ee6f-0c43-4250-a54e-2b7dbdf5e0df",
   "metadata": {},
   "source": [
    "------------\n",
    "Question2. \n",
    "\n",
    "Create a function that returns True if a given inequality expression is correct and False otherwise.\n",
    "\n",
    "```\n",
    "Examples\n",
    "correct_signs(\"3 < 7 < 11\") ➞ True\n",
    "\n",
    "correct_signs(\"13 > 44 > 33 > 1\") ➞ False\n",
    "\n",
    "correct_signs(\"1 < 2 < 6 < 9 > 3\") ➞ True\n"
   ]
  },
  {
   "cell_type": "code",
   "execution_count": 5,
   "id": "11023364-e970-484d-8e24-52d57a8d830f",
   "metadata": {},
   "outputs": [
    {
     "data": {
      "text/plain": [
       "True"
      ]
     },
     "execution_count": 5,
     "metadata": {},
     "output_type": "execute_result"
    }
   ],
   "source": [
    "def correct_signs(exp):\n",
    "    return eval(exp)\n",
    "correct_signs(\"3 < 7 < 11\")"
   ]
  },
  {
   "cell_type": "code",
   "execution_count": 6,
   "id": "3d4d401b-0e8c-4b83-8d7e-226560bff174",
   "metadata": {},
   "outputs": [
    {
     "data": {
      "text/plain": [
       "False"
      ]
     },
     "execution_count": 6,
     "metadata": {},
     "output_type": "execute_result"
    }
   ],
   "source": [
    "correct_signs(\"13 > 44 > 33 > 1\")"
   ]
  },
  {
   "cell_type": "code",
   "execution_count": 7,
   "id": "67cc7669-7c4e-4b0a-93b3-3cabbcfd1545",
   "metadata": {},
   "outputs": [
    {
     "data": {
      "text/plain": [
       "True"
      ]
     },
     "execution_count": 7,
     "metadata": {},
     "output_type": "execute_result"
    }
   ],
   "source": [
    "correct_signs(\"1 < 2 < 6 < 9 > 3\")"
   ]
  },
  {
   "cell_type": "markdown",
   "id": "cf0478e6-b2e3-47a5-8e31-1e726961ea34",
   "metadata": {},
   "source": [
    "----\n",
    "Question3. \n",
    "\n",
    "Create a function that replaces all the vowels in a string with a specified character.\n",
    "```\n",
    "Examples\n",
    "replace_vowels(\"the aardvark\", \"#\") ➞ \"th# ##rdv#rk\"\n",
    "\n",
    "replace_vowels(\"minnie mouse\", \"?\") ➞ \"m?nn?? m??s?\"\n",
    "\n",
    "replace_vowels(\"shakespeare\", \"*\") ➞ \"sh*k*sp**r*\"\n"
   ]
  },
  {
   "cell_type": "code",
   "execution_count": 10,
   "id": "ef03dcaf-3e12-4b1c-90c9-795d881b3f87",
   "metadata": {},
   "outputs": [
    {
     "name": "stdin",
     "output_type": "stream",
     "text": [
      "Enter a String :  the aardvark\n",
      "Enter a special character :  #\n"
     ]
    },
    {
     "name": "stdout",
     "output_type": "stream",
     "text": [
      "output : th# ##rdv#rk\n"
     ]
    }
   ],
   "source": [
    "str1 = input(\"Enter a String : \")\n",
    "spcl_ch = input(\"Enter a special character : \")\n",
    "\n",
    "vowel = ['a' , 'e' , 'i' , 'o' , 'u']\n",
    "\n",
    "def replace_vowels(str1, ch):\n",
    "    for i in str1:\n",
    "        if i.lower() in vowel:\n",
    "            str1 = str1.replace(i,ch)\n",
    "    return str1\n",
    "\n",
    "print(f\"output : {replace_vowels(str1,spcl_ch)}\")"
   ]
  },
  {
   "cell_type": "code",
   "execution_count": 11,
   "id": "b3622ec7-06ff-4466-8a4f-50d768e0e233",
   "metadata": {},
   "outputs": [
    {
     "data": {
      "text/plain": [
       "'m?nn?? m??s?'"
      ]
     },
     "execution_count": 11,
     "metadata": {},
     "output_type": "execute_result"
    }
   ],
   "source": [
    "replace_vowels(\"minnie mouse\", \"?\")"
   ]
  },
  {
   "cell_type": "code",
   "execution_count": 12,
   "id": "a652ec5a-e091-444b-b0d3-97f8efda560b",
   "metadata": {},
   "outputs": [
    {
     "data": {
      "text/plain": [
       "'sh*k*sp**r*'"
      ]
     },
     "execution_count": 12,
     "metadata": {},
     "output_type": "execute_result"
    }
   ],
   "source": [
    "replace_vowels(\"shakespeare\", \"*\")"
   ]
  },
  {
   "cell_type": "markdown",
   "id": "18139d0c-5882-406d-871e-cd9d1bc61170",
   "metadata": {},
   "source": [
    "--------------\n",
    "Question4. \n",
    "\n",
    "Write a function that calculates the factorial of a number recursively.\n",
    "```\n",
    "Examples\n",
    "factorial(5) ➞ 120\n",
    "\n",
    "factorial(3) ➞ 6\n",
    "\n",
    "factorial(1) ➞ 1\n",
    "\n",
    "factorial(0) ➞ 1\n"
   ]
  },
  {
   "cell_type": "code",
   "execution_count": 13,
   "id": "7b29ae7c-e3cd-4ef3-9aa9-0ba8d92dcbee",
   "metadata": {},
   "outputs": [
    {
     "name": "stdin",
     "output_type": "stream",
     "text": [
      "Enter a number :  5\n"
     ]
    },
    {
     "name": "stdout",
     "output_type": "stream",
     "text": [
      "5 Factorial = 120\n"
     ]
    }
   ],
   "source": [
    "n = int(input(\"Enter a number : \"))\n",
    "\n",
    "def factorial(n):\n",
    "    if n == 0:\n",
    "        return 1\n",
    "    return n * factorial(n-1)\n",
    "\n",
    "print(f\"{n} Factorial = {factorial(n)}\")"
   ]
  },
  {
   "cell_type": "code",
   "execution_count": 14,
   "id": "0edb529d-aa51-4238-a7f7-de8736bce146",
   "metadata": {},
   "outputs": [
    {
     "data": {
      "text/plain": [
       "6"
      ]
     },
     "execution_count": 14,
     "metadata": {},
     "output_type": "execute_result"
    }
   ],
   "source": [
    "factorial(3)"
   ]
  },
  {
   "cell_type": "code",
   "execution_count": 15,
   "id": "6fb8929c-fb7c-4efc-be10-c559fbab96a1",
   "metadata": {},
   "outputs": [
    {
     "data": {
      "text/plain": [
       "1"
      ]
     },
     "execution_count": 15,
     "metadata": {},
     "output_type": "execute_result"
    }
   ],
   "source": [
    "factorial(0)"
   ]
  },
  {
   "cell_type": "code",
   "execution_count": 16,
   "id": "425b6eb4-f390-482e-adc6-bb1479918bd2",
   "metadata": {},
   "outputs": [
    {
     "data": {
      "text/plain": [
       "1"
      ]
     },
     "execution_count": 16,
     "metadata": {},
     "output_type": "execute_result"
    }
   ],
   "source": [
    "factorial(1)"
   ]
  },
  {
   "cell_type": "markdown",
   "id": "c631dd6b-2be5-4734-8772-a974d5b340a3",
   "metadata": {},
   "source": [
    "---------------------\n",
    "Question 5\n",
    "\n",
    "Hamming distance is the number of characters that differ between two strings.\n",
    "\n",
    "To illustrate:\n",
    "\n",
    "String1: \"abcbba\"\n",
    "\n",
    "String2: \"abcbda\"\n",
    "```\n",
    "Hamming Distance: 1 - \"b\" vs. \"d\" is the only difference.\n",
    "Create a function that computes the hamming distance between two strings.\n",
    "Examples\n",
    "hamming_distance(\"abcde\", \"bcdef\") ➞ 5\n",
    "\n",
    "hamming_distance(\"abcde\", \"abcde\") ➞ 0\n",
    "\n",
    "hamming_distance(\"strong\", \"strung\") ➞ 1\n"
   ]
  },
  {
   "cell_type": "code",
   "execution_count": 18,
   "id": "f89b1caf-0341-435a-b62d-2edcd4603566",
   "metadata": {},
   "outputs": [
    {
     "name": "stdin",
     "output_type": "stream",
     "text": [
      "Enter String 1 :  abcde\n",
      "Enter String 2 :  bcdef\n"
     ]
    },
    {
     "name": "stdout",
     "output_type": "stream",
     "text": [
      "output: 5\n"
     ]
    }
   ],
   "source": [
    "str1 = input(\"Enter String 1 : \")\n",
    "str2 = input(\"Enter String 2 : \")\n",
    "\n",
    "def hamming_distance(str1, str2): \n",
    "    count = 0\n",
    "    for i in range(len(str1)):\n",
    "        if str1[i] != str2[i]:\n",
    "            count += 1\n",
    "    return count\n",
    "\n",
    "print(f\"output: {hamming_distance(str1,str2)}\")"
   ]
  },
  {
   "cell_type": "code",
   "execution_count": 19,
   "id": "c2fda846-caf3-4619-8d05-6fb93365830e",
   "metadata": {},
   "outputs": [
    {
     "data": {
      "text/plain": [
       "0"
      ]
     },
     "execution_count": 19,
     "metadata": {},
     "output_type": "execute_result"
    }
   ],
   "source": [
    "hamming_distance(\"abcde\", \"abcde\") "
   ]
  },
  {
   "cell_type": "code",
   "execution_count": 21,
   "id": "4b337088-44e7-41c8-98b4-1980c19bf4c6",
   "metadata": {},
   "outputs": [
    {
     "data": {
      "text/plain": [
       "1"
      ]
     },
     "execution_count": 21,
     "metadata": {},
     "output_type": "execute_result"
    }
   ],
   "source": [
    "hamming_distance(\"strong\", \"strung\")"
   ]
  },
  {
   "cell_type": "code",
   "execution_count": null,
   "id": "ab502002-40a7-4e14-8810-9c717a37506c",
   "metadata": {},
   "outputs": [],
   "source": []
  }
 ],
 "metadata": {
  "kernelspec": {
   "display_name": "Python 3 (ipykernel)",
   "language": "python",
   "name": "python3"
  },
  "language_info": {
   "codemirror_mode": {
    "name": "ipython",
    "version": 3
   },
   "file_extension": ".py",
   "mimetype": "text/x-python",
   "name": "python",
   "nbconvert_exporter": "python",
   "pygments_lexer": "ipython3",
   "version": "3.10.6"
  }
 },
 "nbformat": 4,
 "nbformat_minor": 5
}
