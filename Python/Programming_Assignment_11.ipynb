{
 "cells": [
  {
   "cell_type": "markdown",
   "id": "633c2bb8-aaf9-428b-bd39-7c2f6e565211",
   "metadata": {},
   "source": [
    "## Programming Assignment 11"
   ]
  },
  {
   "cell_type": "markdown",
   "id": "f6881c54-9b94-4cfa-8b9d-dfdb26ceb666",
   "metadata": {},
   "source": [
    "1.\tWrite a Python program to find words which are greater than given length k?\n",
    "\n",
    "2.\tWrite a Python program for removing i-th character from a string?\n",
    "\n",
    "3.\tWrite a Python program to split and join a string?\n",
    "\n",
    "4.\tWrite a Python to check if a given string is binary string or not?\n",
    "\n",
    "5.\tWrite a Python program to find uncommon words from two Strings?\n",
    "\n",
    "6.\tWrite a Python to find all duplicate characters in string?\n",
    "\n",
    "7.\tWrite a Python Program to check if a string contains any special character?\n"
   ]
  },
  {
   "cell_type": "markdown",
   "id": "81edd96d-b217-4a80-b444-382f76051265",
   "metadata": {},
   "source": [
    "1. Write a Python program to find words which are greater than given length k?"
   ]
  },
  {
   "cell_type": "code",
   "execution_count": 1,
   "id": "f1df2502-50c4-446a-abe5-d85c78ea98e1",
   "metadata": {},
   "outputs": [
    {
     "name": "stdin",
     "output_type": "stream",
     "text": [
      "Enter word length :  5\n"
     ]
    },
    {
     "name": "stdout",
     "output_type": "stream",
     "text": [
      "banana, orange, strawberry, pomagranate, "
     ]
    }
   ],
   "source": [
    "fruits = [\"apple\" , 'banana' , 'orange' , 'lemon' , 'lichi' , 'kiwi', 'strawberry' , 'pomagranate']\n",
    "\n",
    "n = int(input(\"Enter word length : \"))\n",
    "\n",
    "for i in fruits:\n",
    "    if len(i) > n:\n",
    "        print(i , end=\", \")"
   ]
  },
  {
   "cell_type": "markdown",
   "id": "cb4f51ed-2de7-4d5c-a97a-8b5532ca8ac0",
   "metadata": {},
   "source": [
    "2. Write a Python program for removing i-th character from a string?"
   ]
  },
  {
   "cell_type": "code",
   "execution_count": 3,
   "id": "f30d5e6f-9bdc-43e8-8601-8da38f225994",
   "metadata": {},
   "outputs": [
    {
     "name": "stdin",
     "output_type": "stream",
     "text": [
      "Enter a word :  orange\n",
      "Enter the position of the character to remove :  3\n"
     ]
    },
    {
     "name": "stdout",
     "output_type": "stream",
     "text": [
      "New string after removing the 3th character : ornge\n"
     ]
    }
   ],
   "source": [
    "# considering the string to be 1-index based , ineuron - 3rd char - 'e' ---> new string -> 'inuron'\n",
    "st = input(\"Enter a word : \")\n",
    "n = int(input(\"Enter the position of the character to remove : \"))\n",
    "new_st = \"\"\n",
    "\n",
    "new_st = st[:n-1] + st[n:]\n",
    "print(f\"New string after removing the {n}th character : {new_st}\")"
   ]
  },
  {
   "cell_type": "markdown",
   "id": "ea3cc7d9-e35b-461f-8132-4caf12321b84",
   "metadata": {},
   "source": [
    "3. Write a Python program to split and join a string?"
   ]
  },
  {
   "cell_type": "code",
   "execution_count": 10,
   "id": "cc08da3f-94cc-41ff-920f-a9819ae3f8bb",
   "metadata": {},
   "outputs": [
    {
     "name": "stdout",
     "output_type": "stream",
     "text": [
      "['iNeuron', 'Fullstack', 'Data', 'Science', 'course']\n",
      "iNeuron_*_Fullstack_*_Data_*_Science_*_course\n",
      "i$N$e$u$r$o$n$ $F$u$l$l$s$t$a$c$k$ $D$a$t$a$ $S$c$i$e$n$c$e$ $c$o$u$r$s$e\n"
     ]
    }
   ],
   "source": [
    "str1 = \"iNeuron Fullstack Data Science course\"\n",
    "\n",
    "split_str = str1.split(\" \")\n",
    "print(split_str) #split with space\n",
    "\n",
    "join_str = '_*_'.join(split_str) #joining with '_*_'\n",
    "print(join_str)\n",
    "\n",
    "print(\"$\".join(str1))"
   ]
  },
  {
   "cell_type": "markdown",
   "id": "2a80b166-bf4e-4dac-88a5-27b8c78c324e",
   "metadata": {},
   "source": [
    "4. Write a Python to check if a given string is binary string or not?"
   ]
  },
  {
   "cell_type": "markdown",
   "id": "aa471330-64ef-4ad0-8739-3e101eb6ac80",
   "metadata": {},
   "source": [
    " > A binary string is a string that only has two characters, usually the numbers 0 and 1, and it represents a series of binary digits."
   ]
  },
  {
   "cell_type": "code",
   "execution_count": 24,
   "id": "8d7d154c-daad-42f8-93ea-55ae1df7b437",
   "metadata": {},
   "outputs": [
    {
     "name": "stdin",
     "output_type": "stream",
     "text": [
      "Enter a string :  10110\n"
     ]
    },
    {
     "name": "stdout",
     "output_type": "stream",
     "text": [
      "10110 is a binary string\n"
     ]
    }
   ],
   "source": [
    "st = input(\"Enter a string : \")\n",
    "\n",
    "def isBanaryString(st):\n",
    "    for i in st:\n",
    "        if i != '0' and i != '1':\n",
    "            return False\n",
    "    return True\n",
    "\n",
    "if isBanaryString(st):\n",
    "    print(f\"{st} is a binary string\")\n",
    "else:\n",
    "    print(f\"{st} is not a binary string\")"
   ]
  },
  {
   "cell_type": "markdown",
   "id": "de16ca1b-a781-4024-920d-93820289ba21",
   "metadata": {},
   "source": [
    "5. Write a Python program to find uncommon words from two Strings?"
   ]
  },
  {
   "cell_type": "code",
   "execution_count": 26,
   "id": "cad056d3-7259-4d6b-8fa2-cf0b195b7e6d",
   "metadata": {},
   "outputs": [
    {
     "name": "stdin",
     "output_type": "stream",
     "text": [
      "Enter first string :  Google is a product based company\n",
      "Enter second string :  TCS is a service based company\n"
     ]
    },
    {
     "name": "stdout",
     "output_type": "stream",
     "text": [
      "uncommon words in the above strings are ['TCS', 'product', 'Google', 'service']\n"
     ]
    }
   ],
   "source": [
    "st1 = input(\"Enter first string : \")\n",
    "st2 = input(\"Enter second string : \")\n",
    "\n",
    "set1 = set(st1.split(\" \"))\n",
    "set2 = set(st2.split(\" \"))\n",
    "\n",
    "set3 = set1.symmetric_difference(set2)\n",
    "#print(set3)\n",
    "print(f\"uncommon words in the above strings are {list(set3)}\")"
   ]
  },
  {
   "cell_type": "markdown",
   "id": "f1fb55e0-e7f0-474a-8226-5b6a80ca1bec",
   "metadata": {},
   "source": [
    "6. Write a Python to find all duplicate characters in string? "
   ]
  },
  {
   "cell_type": "code",
   "execution_count": 28,
   "id": "5e72a83f-3993-4358-a003-0bdd2dcfcef2",
   "metadata": {},
   "outputs": [
    {
     "name": "stdin",
     "output_type": "stream",
     "text": [
      "Enter a string :  singing\n"
     ]
    },
    {
     "name": "stdout",
     "output_type": "stream",
     "text": [
      "['n', 'i', 'g']\n"
     ]
    }
   ],
   "source": [
    "st = input(\"Enter a string : \")\n",
    "list_st = list(st)\n",
    "set_ch = set()\n",
    "for i in list_st:\n",
    "    if list_st.count(i) > 1:\n",
    "        set_ch.add(i)\n",
    "        \n",
    "print(list(set_ch))"
   ]
  },
  {
   "cell_type": "markdown",
   "id": "318e2fbd-0d8f-4323-8685-4b42b5e8cfdd",
   "metadata": {},
   "source": [
    "7. Write a Python Program to check if a string contains any special character?"
   ]
  },
  {
   "cell_type": "code",
   "execution_count": 32,
   "id": "3605f902-5326-424d-a0b3-81e931084d6f",
   "metadata": {},
   "outputs": [
    {
     "name": "stdin",
     "output_type": "stream",
     "text": [
      "Enter a string :  sfsg&\n"
     ]
    },
    {
     "name": "stdout",
     "output_type": "stream",
     "text": [
      "True\n"
     ]
    }
   ],
   "source": [
    "st = input(\"Enter a string : \")\n",
    "spl_char = '[@_!#$%^&*()<>?/\\|}{~:]'\n",
    "\n",
    "def checkSpecialChar(st):\n",
    "    for i in st:\n",
    "        if i in spl_char:\n",
    "            return True\n",
    "    return False\n",
    "\n",
    "print(checkSpecialChar(st))"
   ]
  },
  {
   "cell_type": "code",
   "execution_count": null,
   "id": "8887bf59-5f45-496b-91da-f4a785906d8a",
   "metadata": {},
   "outputs": [],
   "source": []
  }
 ],
 "metadata": {
  "kernelspec": {
   "display_name": "Python 3 (ipykernel)",
   "language": "python",
   "name": "python3"
  },
  "language_info": {
   "codemirror_mode": {
    "name": "ipython",
    "version": 3
   },
   "file_extension": ".py",
   "mimetype": "text/x-python",
   "name": "python",
   "nbconvert_exporter": "python",
   "pygments_lexer": "ipython3",
   "version": "3.10.6"
  }
 },
 "nbformat": 4,
 "nbformat_minor": 5
}
