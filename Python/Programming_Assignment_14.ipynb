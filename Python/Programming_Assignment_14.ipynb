{
 "cells": [
  {
   "cell_type": "markdown",
   "id": "be1834ea-9ce3-47ea-9da6-9f305f56ca70",
   "metadata": {},
   "source": [
    "## Programming Assignment 14"
   ]
  },
  {
   "cell_type": "markdown",
   "id": "c7743f37-6e2c-4e05-b4e2-59c4bd7b860e",
   "metadata": {},
   "source": [
    "------------------------------------\n",
    "Question 1:\n",
    "\n",
    "Define a class with a generator which can iterate the numbers, which are divisible by 7, between a given range 0 and n."
   ]
  },
  {
   "cell_type": "code",
   "execution_count": 1,
   "id": "b1ccc92a-e885-4406-9605-bf1a236838f2",
   "metadata": {},
   "outputs": [
    {
     "name": "stdout",
     "output_type": "stream",
     "text": [
      "0\n",
      "7\n",
      "14\n",
      "21\n",
      "28\n",
      "35\n",
      "42\n",
      "49\n",
      "56\n",
      "63\n",
      "70\n"
     ]
    }
   ],
   "source": [
    "def divisibilityBy7(n):\n",
    "    for i in range(n):\n",
    "        if i % 7 == 0:\n",
    "            yield i\n",
    "\n",
    "gen1 = divisibilityBy7(72)           \n",
    "            \n",
    "for i in gen1:\n",
    "    print(i)"
   ]
  },
  {
   "cell_type": "markdown",
   "id": "bcaafc8d-0c2e-4ec2-872a-8b311c7bd87b",
   "metadata": {},
   "source": [
    "--------------------------\n",
    "Question 2: Write a program to compute the frequency of the words from the input. The output should output after sorting the key alphanumerically.\n",
    "\n",
    "Suppose the following input is supplied to the program:\n",
    "\n",
    "New to Python or choosing between Python 2 and Python 3? Read Python 2 or Python 3.\n",
    "\n",
    "Then, the output should be:\n",
    "\n",
    "2:2\n",
    "\n",
    "3.:1\n",
    "\n",
    "3?:1\n",
    "\n",
    "New:1\n",
    "\n",
    "Python:5\n",
    "\n",
    "Read:1\n",
    "\n",
    "and:1\n",
    "\n",
    "between:1\n",
    "\n",
    "choosing:1\n",
    "\n",
    "or:2\n",
    "\n",
    "to:1"
   ]
  },
  {
   "cell_type": "code",
   "execution_count": 3,
   "id": "318bbe12-53e4-4a4b-a8c7-8ca6e267654c",
   "metadata": {},
   "outputs": [
    {
     "name": "stdin",
     "output_type": "stream",
     "text": [
      "Enter a string :  New to Python or choosing between Python 2 and Python 3? Read Python 2 or Python 3.\n"
     ]
    },
    {
     "name": "stdout",
     "output_type": "stream",
     "text": [
      "2 : 2\n",
      "3. : 1\n",
      "3? : 1\n",
      "New : 1\n",
      "Python : 5\n",
      "Read : 1\n",
      "and : 1\n",
      "between : 1\n",
      "choosing : 1\n",
      "or : 2\n",
      "to : 1\n"
     ]
    }
   ],
   "source": [
    "str1 = input(\"Enter a string : \")\n",
    "\n",
    "set_str = set(str1.split(\" \"))\n",
    "list_str = list(set_str)\n",
    "list_str.sort()\n",
    "\n",
    "for i in list_str:\n",
    "    print(f\"{i} : {str1.count(i)}\")\n"
   ]
  },
  {
   "cell_type": "markdown",
   "id": "450ec0cb-1dc3-4396-888e-04996b4653f0",
   "metadata": {},
   "source": [
    "------\n",
    "Question 3:\n",
    "\n",
    "Define a class Person and its two child classes: Male and Female. All classes have a method \"getGender\" which can print \"Male\" for Male class and \"Female\" for Female class."
   ]
  },
  {
   "cell_type": "code",
   "execution_count": 4,
   "id": "0eb142c1-73e9-43e1-985e-60ed3060144e",
   "metadata": {},
   "outputs": [],
   "source": [
    "class Person:\n",
    "    \n",
    "    def getGender(self):\n",
    "        print(\"This is getGender method of Parent class\")\n",
    "    \n",
    "class Male(Person):\n",
    "    def getGender(self):\n",
    "        print(\"This is getGender method of Parent class\")\n",
    "    \n",
    "class Female(Person):\n",
    "    def getGender(self):\n",
    "        print(\"This is getGender method of Parent class\")"
   ]
  },
  {
   "cell_type": "code",
   "execution_count": 5,
   "id": "8a89c96c-ba5f-495a-9677-b77534519ae3",
   "metadata": {},
   "outputs": [],
   "source": [
    "male1 = Male()"
   ]
  },
  {
   "cell_type": "code",
   "execution_count": 6,
   "id": "8cb6c225-d177-4dc1-b653-1e0338bef37b",
   "metadata": {},
   "outputs": [
    {
     "name": "stdout",
     "output_type": "stream",
     "text": [
      "This is getGender method of Parent class\n"
     ]
    }
   ],
   "source": [
    "male1.getGender()"
   ]
  },
  {
   "cell_type": "code",
   "execution_count": 7,
   "id": "d0cd303d-8d5f-42c7-a38c-e10919ac3878",
   "metadata": {},
   "outputs": [],
   "source": [
    "female1 = Female()"
   ]
  },
  {
   "cell_type": "code",
   "execution_count": 8,
   "id": "0e41092c-817c-42a8-8eb0-2c46813b433f",
   "metadata": {},
   "outputs": [
    {
     "name": "stdout",
     "output_type": "stream",
     "text": [
      "This is getGender method of Parent class\n"
     ]
    }
   ],
   "source": [
    "female1.getGender()"
   ]
  },
  {
   "cell_type": "markdown",
   "id": "6be496f4-bb05-4388-ae11-6b5670a1279c",
   "metadata": {},
   "source": [
    "--------------------------\n",
    "Question 4: \n",
    "\n",
    "Please write a program to generate all sentences where subject is in [\"I\", \"You\"] and verb is in [\"Play\", \"Love\"] and the object is in [\"Hockey\",\"Football\"]."
   ]
  },
  {
   "cell_type": "code",
   "execution_count": 2,
   "id": "7cb41745-3e58-468b-8dcd-074befd6def7",
   "metadata": {},
   "outputs": [
    {
     "name": "stdout",
     "output_type": "stream",
     "text": [
      "I Play Hockey\n",
      "I Play Football\n",
      "I Love Hockey\n",
      "I Love Football\n",
      "You Play Hockey\n",
      "You Play Football\n",
      "You Love Hockey\n",
      "You Love Football\n"
     ]
    }
   ],
   "source": [
    "subject = ['I' , 'You']\n",
    "verb = ['Play' , 'Love']\n",
    "object1 = ['Hockey' , 'Football']\n",
    "\n",
    "for i in subject:\n",
    "    for j in verb:\n",
    "        for k in object1:\n",
    "            print(f\"{i} {j} {k}\")\n"
   ]
  },
  {
   "cell_type": "markdown",
   "id": "f602d76a-c3ff-432b-89f2-b86954040661",
   "metadata": {},
   "source": [
    "------------------\n",
    "Question 5: \n",
    "\n",
    "Please write a program to compress and decompress the string \"hello world!hello world!hello world!hello world!\"."
   ]
  },
  {
   "cell_type": "markdown",
   "id": "2cb4810f-fe46-4772-8392-3987390be90d",
   "metadata": {},
   "source": [
    "With the help of `gzip.compress(s)` method, we can compress the  bytes of string. And decompress it back into original string by using `gzip.decompress(s)` method."
   ]
  },
  {
   "cell_type": "code",
   "execution_count": 7,
   "id": "49233037-f786-4e0c-970f-bcf2ef40e53f",
   "metadata": {},
   "outputs": [
    {
     "name": "stdout",
     "output_type": "stream",
     "text": [
      "After compression : b'\\x1f\\x8b\\x08\\x00\\x95d}d\\x02\\xff\\xcbH\\xcd\\xc9\\xc9W(\\xcf/\\xcaIQ\\xcc \\x82\\r\\x00\\xd3\\xe6\\xcf\\xae0\\x00\\x00\\x00'\n",
      "After decompression : b'hello world!hello world!hello world!hello world!'\n"
     ]
    }
   ],
   "source": [
    "# import gzip \n",
    "import gzip\n",
    "s = b'hello world!hello world!hello world!hello world!'\n",
    "s = gzip.compress(s)\n",
    "print(f\"After compression : {s}\")\n",
    "  \n",
    "# using gzip.decompress(s) method\n",
    "t = gzip.decompress(s)\n",
    "print(f\"After decompression : {t}\")"
   ]
  },
  {
   "cell_type": "markdown",
   "id": "6e891068-9c01-47b3-a9dc-c734dfc9787a",
   "metadata": {},
   "source": [
    "---------------------------------------------------\n",
    "Question 6: \n",
    "\n",
    "Please write a binary search function which searches an item in a sorted list. The function should return the index of element to be searched in the list."
   ]
  },
  {
   "cell_type": "code",
   "execution_count": 23,
   "id": "c3b78f3c-a5cf-49ed-a38e-27f5fd57b891",
   "metadata": {},
   "outputs": [
    {
     "name": "stdout",
     "output_type": "stream",
     "text": [
      "[3, 4, 5, 6, 17, 28, 49, 67]\n"
     ]
    },
    {
     "name": "stdin",
     "output_type": "stream",
     "text": [
      "Enter a number to search :  17\n"
     ]
    },
    {
     "name": "stdout",
     "output_type": "stream",
     "text": [
      "Element is present at index 4\n"
     ]
    }
   ],
   "source": [
    "def binarySearch(li, x, low, high):\n",
    "\n",
    "    \n",
    "    while low <= high:\n",
    "\n",
    "        mid = low + (high - low)//2\n",
    "\n",
    "        if li[mid] == x:\n",
    "            return mid\n",
    "\n",
    "        elif li[mid] < x:\n",
    "            low = mid + 1\n",
    "\n",
    "        else:\n",
    "            high = mid - 1\n",
    "\n",
    "    return -1\n",
    "\n",
    "\n",
    "list2 = [3, 4, 5, 6, 17, 28, 49, 67]\n",
    "print(list2)\n",
    "x = int(input(\"Enter a number to search : \"))\n",
    "\n",
    "result = binarySearch(list2, x, 0, len(list2)-1)\n",
    "\n",
    "if result != -1:\n",
    "    print(\"Element is present at index \" + str(result))\n",
    "else:\n",
    "    print(\"Not found\")"
   ]
  },
  {
   "cell_type": "code",
   "execution_count": 19,
   "id": "c4eaec67-2fca-49ad-8682-06cac02d5c6f",
   "metadata": {},
   "outputs": [
    {
     "name": "stdin",
     "output_type": "stream",
     "text": [
      "Enter a number to search :  45\n"
     ]
    },
    {
     "name": "stdout",
     "output_type": "stream",
     "text": [
      "Element is present at index 3\n"
     ]
    }
   ],
   "source": [
    "list1 = [12,23,34,45,56,67,78]\n",
    "key = int(input(\"Enter a number to search : \"))\n",
    "\n",
    "\n",
    "# Returns index of x in arr if present, else -1\n",
    "def binarySearch(arr, l, r, x):\n",
    "\tif r >= l:\n",
    "\n",
    "\t\tmid = l + (r - l) // 2\n",
    "\t\tif arr[mid] == x:\n",
    "\t\t\treturn mid\n",
    "\t\telif arr[mid] > x:\n",
    "\t\t\treturn binarySearch(arr, l, mid-1, x)\n",
    "\t\telse:\n",
    "\t\t\treturn binarySearch(arr, mid + 1, r, x)\n",
    "\telse:\n",
    "\t\treturn -1\n",
    "\n",
    "\n",
    "\n",
    "result = binarySearch(list1, 0, len(arr)-1, key)\n",
    "\t\n",
    "if result != -1:\n",
    "\tprint(\"Element is present at index\", result)\n",
    "else:\n",
    "\tprint(\"Element is not present in array\")\n"
   ]
  },
  {
   "cell_type": "code",
   "execution_count": null,
   "id": "8177212e-0192-48f1-8d36-ea7516903b38",
   "metadata": {},
   "outputs": [],
   "source": []
  }
 ],
 "metadata": {
  "kernelspec": {
   "display_name": "Python 3 (ipykernel)",
   "language": "python",
   "name": "python3"
  },
  "language_info": {
   "codemirror_mode": {
    "name": "ipython",
    "version": 3
   },
   "file_extension": ".py",
   "mimetype": "text/x-python",
   "name": "python",
   "nbconvert_exporter": "python",
   "pygments_lexer": "ipython3",
   "version": "3.10.6"
  }
 },
 "nbformat": 4,
 "nbformat_minor": 5
}
