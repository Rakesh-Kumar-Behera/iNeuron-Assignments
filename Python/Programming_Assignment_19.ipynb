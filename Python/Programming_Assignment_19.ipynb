{
 "cells": [
  {
   "cell_type": "markdown",
   "id": "224ef17b-c0f5-40a6-a66e-201950ea2a13",
   "metadata": {},
   "source": [
    "## Programming Assignment 19"
   ]
  },
  {
   "cell_type": "markdown",
   "id": "dcfa886b-575a-4839-a62f-82e085238e58",
   "metadata": {},
   "source": [
    "Question1\n",
    "\n",
    "Create a function that takes a string and returns a string in which each character is repeated once.\n",
    "```\n",
    "Examples\n",
    "double_char(\"String\") ➞ \"SSttrriinngg\"\n",
    "\n",
    "double_char(\"Hello World!\") ➞ \"HHeelllloo  WWoorrlldd!!\"\n",
    "\n",
    "double_char(\"1234!_ \") ➞ \"11223344!!__  \"\n"
   ]
  },
  {
   "cell_type": "code",
   "execution_count": 1,
   "id": "3f92f8a3-7604-472e-a9ed-5b8e9ee9e272",
   "metadata": {},
   "outputs": [],
   "source": [
    "def double_char(str1):\n",
    "    new_str = \"\"\n",
    "    for i in str1:\n",
    "        new_str = new_str + i*2\n",
    "    return new_str"
   ]
  },
  {
   "cell_type": "code",
   "execution_count": 2,
   "id": "e754b60a-cbd7-41db-a9f9-8e8ac4b9e91b",
   "metadata": {},
   "outputs": [
    {
     "data": {
      "text/plain": [
       "'SSttrriinngg'"
      ]
     },
     "execution_count": 2,
     "metadata": {},
     "output_type": "execute_result"
    }
   ],
   "source": [
    "double_char(\"String\")"
   ]
  },
  {
   "cell_type": "code",
   "execution_count": 3,
   "id": "a31ca9cb-ebf2-4538-b35a-c28190720633",
   "metadata": {},
   "outputs": [
    {
     "data": {
      "text/plain": [
       "'HHeelllloo  WWoorrlldd!!'"
      ]
     },
     "execution_count": 3,
     "metadata": {},
     "output_type": "execute_result"
    }
   ],
   "source": [
    "double_char(\"Hello World!\")"
   ]
  },
  {
   "cell_type": "code",
   "execution_count": 4,
   "id": "48980616-b97c-41ba-ad75-e51f4a6bb8eb",
   "metadata": {},
   "outputs": [
    {
     "data": {
      "text/plain": [
       "'11223344!!__  '"
      ]
     },
     "execution_count": 4,
     "metadata": {},
     "output_type": "execute_result"
    }
   ],
   "source": [
    "double_char(\"1234!_ \")"
   ]
  },
  {
   "cell_type": "markdown",
   "id": "bb3d957c-20b7-4b54-95c8-c0359a20200b",
   "metadata": {},
   "source": [
    "---------\n",
    "Question2\n",
    "\n",
    "Create a function that reverses a boolean value and returns the string \"boolean expected\" if another variable type is given.\n",
    "\n",
    "```\n",
    "Examples\n",
    "reverse(True) ➞ False\n",
    "\n",
    "reverse(False) ➞ True\n",
    "\n",
    "reverse(0) ➞ \"boolean expected\"\n",
    "\n",
    "reverse(None) ➞ \"boolean expected\"\n"
   ]
  },
  {
   "cell_type": "code",
   "execution_count": 10,
   "id": "cc596352-f13b-4776-9fef-a3e0ca89fb2f",
   "metadata": {},
   "outputs": [],
   "source": [
    "def reverse(val):\n",
    "    if type(val) == bool and val == True:\n",
    "        return False\n",
    "    if type(val) == bool and val == False:\n",
    "        return True\n",
    "    return \"boolean expected\""
   ]
  },
  {
   "cell_type": "code",
   "execution_count": 11,
   "id": "d200bb7b-132a-4004-94cf-a6086c213be1",
   "metadata": {},
   "outputs": [
    {
     "data": {
      "text/plain": [
       "False"
      ]
     },
     "execution_count": 11,
     "metadata": {},
     "output_type": "execute_result"
    }
   ],
   "source": [
    "reverse(True)"
   ]
  },
  {
   "cell_type": "code",
   "execution_count": 12,
   "id": "f08adaca-5c58-4698-9cd9-37124892eec9",
   "metadata": {},
   "outputs": [
    {
     "data": {
      "text/plain": [
       "True"
      ]
     },
     "execution_count": 12,
     "metadata": {},
     "output_type": "execute_result"
    }
   ],
   "source": [
    "reverse(False)"
   ]
  },
  {
   "cell_type": "code",
   "execution_count": 13,
   "id": "eaf30bc3-d563-4320-89c8-4580c4fff7ae",
   "metadata": {},
   "outputs": [
    {
     "data": {
      "text/plain": [
       "'boolean expected'"
      ]
     },
     "execution_count": 13,
     "metadata": {},
     "output_type": "execute_result"
    }
   ],
   "source": [
    "reverse(0)"
   ]
  },
  {
   "cell_type": "code",
   "execution_count": 14,
   "id": "8abed667-c061-4a93-9c3c-48661faed4be",
   "metadata": {},
   "outputs": [
    {
     "data": {
      "text/plain": [
       "'boolean expected'"
      ]
     },
     "execution_count": 14,
     "metadata": {},
     "output_type": "execute_result"
    }
   ],
   "source": [
    "reverse(None)"
   ]
  },
  {
   "cell_type": "markdown",
   "id": "5442cec8-e23e-4368-aa8a-3c80ad31cd2a",
   "metadata": {},
   "source": [
    "---------\n",
    "Question3\n",
    "\n",
    "Create a function that returns the thickness (in meters) of a piece of paper after folding it n number of times. The paper starts off with a thickness of 0.5mm.\n",
    "\n",
    "```\n",
    "Examples\n",
    "num_layers(1) ➞ \"0.001m\"\n",
    "- Paper folded once is 1mm (equal to 0.001m)\n",
    "\n",
    "num_layers(4) ➞ \"0.008m\"\n",
    "- Paper folded 4 times is 8mm (equal to 0.008m)\n",
    "\n",
    "num_layers(21) ➞ \"1048.576m\"\n",
    "- Paper folded 21 times is 1048576mm (equal to 1048.576m)\n"
   ]
  },
  {
   "cell_type": "code",
   "execution_count": 25,
   "id": "4c85f7b8-4999-42d7-9d5c-17cebf6ecf0a",
   "metadata": {},
   "outputs": [],
   "source": [
    "def num_layers(n):\n",
    "    paper_thickness = 0.5\n",
    "    total_thickness = int((2**n) * paper_thickness)\n",
    "    return  f\"Paper folded {n} times is {total_thickness}mm (equal to {total_thickness * (10**-3)}m)\""
   ]
  },
  {
   "cell_type": "code",
   "execution_count": 26,
   "id": "de8eb825-38a6-4288-86b4-85070894ef6c",
   "metadata": {},
   "outputs": [
    {
     "data": {
      "text/plain": [
       "'Paper folded 1 times is 1mm (equal to 0.001m)'"
      ]
     },
     "execution_count": 26,
     "metadata": {},
     "output_type": "execute_result"
    }
   ],
   "source": [
    "num_layers(1)"
   ]
  },
  {
   "cell_type": "code",
   "execution_count": 27,
   "id": "b1ac3bc0-312e-433e-8dbf-fc22d9ab796a",
   "metadata": {},
   "outputs": [
    {
     "data": {
      "text/plain": [
       "'Paper folded 4 times is 8mm (equal to 0.008m)'"
      ]
     },
     "execution_count": 27,
     "metadata": {},
     "output_type": "execute_result"
    }
   ],
   "source": [
    "num_layers(4)"
   ]
  },
  {
   "cell_type": "code",
   "execution_count": 28,
   "id": "b29ad00b-4507-4749-bb34-08e30c569491",
   "metadata": {},
   "outputs": [
    {
     "data": {
      "text/plain": [
       "'Paper folded 21 times is 1048576mm (equal to 1048.576m)'"
      ]
     },
     "execution_count": 28,
     "metadata": {},
     "output_type": "execute_result"
    }
   ],
   "source": [
    "num_layers(21)"
   ]
  },
  {
   "cell_type": "markdown",
   "id": "2fb7c8c1-b227-416a-96b4-11cfa493239d",
   "metadata": {},
   "source": [
    "-----------\n",
    "Question4\n",
    "\n",
    "Create a function that takes a single string as argument and returns an ordered list containing the indices of all capital letters in the string.\n",
    "\n",
    "```\n",
    "Examples\n",
    "index_of_caps(\"eDaBiT\") ➞ [1, 3, 5]\n",
    "\n",
    "index_of_caps(\"eQuINoX\") ➞ [1, 3, 4, 6]\n",
    "\n",
    "index_of_caps(\"determine\") ➞ []\n",
    "\n",
    "index_of_caps(\"STRIKE\") ➞ [0, 1, 2, 3, 4, 5]\n",
    "\n",
    "index_of_caps(\"sUn\") ➞ [1]\n"
   ]
  },
  {
   "cell_type": "code",
   "execution_count": 30,
   "id": "ed2dd841-febd-467f-9a58-90b88a9b2fe2",
   "metadata": {},
   "outputs": [],
   "source": [
    "def index_of_caps(st):\n",
    "    return [x for x in range(len(st)) if st[x].isupper()]"
   ]
  },
  {
   "cell_type": "code",
   "execution_count": 31,
   "id": "76976916-8032-4a48-9735-215e36d5178c",
   "metadata": {},
   "outputs": [
    {
     "data": {
      "text/plain": [
       "[1, 3, 5]"
      ]
     },
     "execution_count": 31,
     "metadata": {},
     "output_type": "execute_result"
    }
   ],
   "source": [
    "index_of_caps(\"eDaBiT\")"
   ]
  },
  {
   "cell_type": "code",
   "execution_count": 32,
   "id": "a9d84225-b454-47c2-afb6-6d586fd1dec4",
   "metadata": {},
   "outputs": [
    {
     "data": {
      "text/plain": [
       "[1, 3, 4, 6]"
      ]
     },
     "execution_count": 32,
     "metadata": {},
     "output_type": "execute_result"
    }
   ],
   "source": [
    "index_of_caps(\"eQuINoX\")"
   ]
  },
  {
   "cell_type": "code",
   "execution_count": 33,
   "id": "6555ef81-ec5c-4349-86f7-e28efff52ae6",
   "metadata": {},
   "outputs": [
    {
     "data": {
      "text/plain": [
       "[]"
      ]
     },
     "execution_count": 33,
     "metadata": {},
     "output_type": "execute_result"
    }
   ],
   "source": [
    "index_of_caps(\"determine\")"
   ]
  },
  {
   "cell_type": "code",
   "execution_count": 34,
   "id": "51a48fe9-e2a9-474e-aa2f-f39f0a0b7452",
   "metadata": {},
   "outputs": [
    {
     "data": {
      "text/plain": [
       "[0, 1, 2, 3, 4, 5]"
      ]
     },
     "execution_count": 34,
     "metadata": {},
     "output_type": "execute_result"
    }
   ],
   "source": [
    "index_of_caps(\"STRIKE\")"
   ]
  },
  {
   "cell_type": "code",
   "execution_count": 35,
   "id": "8051ec2a-9433-4f81-80e0-6d16ca8a5c8f",
   "metadata": {},
   "outputs": [
    {
     "data": {
      "text/plain": [
       "[1]"
      ]
     },
     "execution_count": 35,
     "metadata": {},
     "output_type": "execute_result"
    }
   ],
   "source": [
    "index_of_caps(\"sUn\")"
   ]
  },
  {
   "cell_type": "markdown",
   "id": "d58ff40e-ce03-4bc6-b7de-25c226ca1fa4",
   "metadata": {},
   "source": [
    "-----------------------\n",
    "Question5\n",
    "\n",
    "Using list comprehensions, create a function that finds all even numbers from 1 to the given number.\n",
    "```\n",
    "Examples\n",
    "find_even_nums(8) ➞ [2, 4, 6, 8]\n",
    "\n",
    "find_even_nums(4) ➞ [2, 4]\n",
    "\n",
    "find_even_nums(2) ➞ [2]\n"
   ]
  },
  {
   "cell_type": "code",
   "execution_count": 36,
   "id": "0ad3675c-6ed7-4d7c-b921-bf01af10e121",
   "metadata": {},
   "outputs": [],
   "source": [
    "def find_even_nums(num):\n",
    "    return [x for x in range(1,num+1) if x % 2 == 0]"
   ]
  },
  {
   "cell_type": "code",
   "execution_count": 37,
   "id": "d14b747c-d829-443a-a4b2-53371ee342c7",
   "metadata": {},
   "outputs": [
    {
     "data": {
      "text/plain": [
       "[2, 4, 6, 8]"
      ]
     },
     "execution_count": 37,
     "metadata": {},
     "output_type": "execute_result"
    }
   ],
   "source": [
    "find_even_nums(8)"
   ]
  },
  {
   "cell_type": "code",
   "execution_count": 38,
   "id": "b6e51894-b3cd-4def-bcf4-110f421cb1b7",
   "metadata": {},
   "outputs": [
    {
     "data": {
      "text/plain": [
       "[2, 4]"
      ]
     },
     "execution_count": 38,
     "metadata": {},
     "output_type": "execute_result"
    }
   ],
   "source": [
    "find_even_nums(4)"
   ]
  },
  {
   "cell_type": "code",
   "execution_count": 39,
   "id": "d68679e8-75da-4b8c-98df-b6869ca7dab1",
   "metadata": {},
   "outputs": [
    {
     "data": {
      "text/plain": [
       "[2]"
      ]
     },
     "execution_count": 39,
     "metadata": {},
     "output_type": "execute_result"
    }
   ],
   "source": [
    "find_even_nums(2)"
   ]
  },
  {
   "cell_type": "code",
   "execution_count": null,
   "id": "c5c6b5c1-9340-4adf-b019-a5f8280adc31",
   "metadata": {},
   "outputs": [],
   "source": []
  }
 ],
 "metadata": {
  "kernelspec": {
   "display_name": "Python 3 (ipykernel)",
   "language": "python",
   "name": "python3"
  },
  "language_info": {
   "codemirror_mode": {
    "name": "ipython",
    "version": 3
   },
   "file_extension": ".py",
   "mimetype": "text/x-python",
   "name": "python",
   "nbconvert_exporter": "python",
   "pygments_lexer": "ipython3",
   "version": "3.10.6"
  }
 },
 "nbformat": 4,
 "nbformat_minor": 5
}
