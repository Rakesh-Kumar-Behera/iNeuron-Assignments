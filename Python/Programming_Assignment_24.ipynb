{
 "cells": [
  {
   "cell_type": "markdown",
   "id": "5ee13f16-d0f3-47b8-ae50-b5cc217c2921",
   "metadata": {},
   "source": [
    "## Programming Assignment 24"
   ]
  },
  {
   "cell_type": "markdown",
   "id": "c887debe-7370-47f3-ae74-5b4f27c9a489",
   "metadata": {},
   "source": [
    "Question1\n",
    "\n",
    "Create a function that takes an integer and returns a list from 1 to the given number, where:\n",
    "1. If the number can be divided evenly by 4, amplify it by 10 (i.e. return 10 times the number).\n",
    "2. If the number cannot be divided evenly by 4, simply return the number.\n",
    "```\n",
    "Examples\n",
    "amplify(4) ➞ [1, 2, 3, 40]\n",
    "\n",
    "amplify(3) ➞ [1, 2, 3]\n",
    "\n",
    "amplify(25) ➞ [1, 2, 3, 40, 5, 6, 7, 80, 9, 10, 11, 120, 13, 14, 15, 160, 17, 18, 19, 200, 21, 22, 23, 240, 25]\n",
    "```\n",
    "Notes\n",
    "\n",
    "- The given integer will always be equal to or greater than 1.\n",
    "- Include the number (see example above).\n",
    "- To perform this problem with its intended purpose, try doing it with list comprehensions. If that's too difficult, just solve the challenge any way you can.\n"
   ]
  },
  {
   "cell_type": "code",
   "execution_count": 9,
   "id": "0946bace-ee8b-4dbc-a902-711e8daea912",
   "metadata": {},
   "outputs": [],
   "source": [
    "def amplify(num):\n",
    "    list1 = []\n",
    "    for i in range(1,num+1):\n",
    "        if i % 4 == 0:\n",
    "            list1.append(i * 10)\n",
    "        else:\n",
    "            list1.append(i)\n",
    "    return list1"
   ]
  },
  {
   "cell_type": "code",
   "execution_count": 10,
   "id": "b1979c71-64d7-4f53-a692-60e6707ef978",
   "metadata": {},
   "outputs": [
    {
     "data": {
      "text/plain": [
       "[1, 2, 3, 40]"
      ]
     },
     "execution_count": 10,
     "metadata": {},
     "output_type": "execute_result"
    }
   ],
   "source": [
    "amplify(4)"
   ]
  },
  {
   "cell_type": "code",
   "execution_count": 7,
   "id": "09e0d6b9-7828-4433-8120-cb574f05f663",
   "metadata": {},
   "outputs": [
    {
     "data": {
      "text/plain": [
       "[1, 2, 3]"
      ]
     },
     "execution_count": 7,
     "metadata": {},
     "output_type": "execute_result"
    }
   ],
   "source": [
    "amplify(3)"
   ]
  },
  {
   "cell_type": "code",
   "execution_count": 11,
   "id": "f475a1df-41b9-4b86-bb04-bde95db479a1",
   "metadata": {},
   "outputs": [
    {
     "data": {
      "text/plain": [
       "[1,\n",
       " 2,\n",
       " 3,\n",
       " 40,\n",
       " 5,\n",
       " 6,\n",
       " 7,\n",
       " 80,\n",
       " 9,\n",
       " 10,\n",
       " 11,\n",
       " 120,\n",
       " 13,\n",
       " 14,\n",
       " 15,\n",
       " 160,\n",
       " 17,\n",
       " 18,\n",
       " 19,\n",
       " 200,\n",
       " 21,\n",
       " 22,\n",
       " 23,\n",
       " 240,\n",
       " 25]"
      ]
     },
     "execution_count": 11,
     "metadata": {},
     "output_type": "execute_result"
    }
   ],
   "source": [
    "amplify(25)"
   ]
  },
  {
   "cell_type": "code",
   "execution_count": 12,
   "id": "f375171c-adcd-42a4-838d-2ee72b6a835f",
   "metadata": {},
   "outputs": [
    {
     "data": {
      "text/plain": [
       "[1, 2, 3, 40, 5, 6, 7, 80, 9, 10, 11, 120, 13, 14, 15, 160, 17, 18, 19, 200]"
      ]
     },
     "execution_count": 12,
     "metadata": {},
     "output_type": "execute_result"
    }
   ],
   "source": [
    "amplify(20)"
   ]
  },
  {
   "cell_type": "code",
   "execution_count": 13,
   "id": "9b465360-39bc-4ec0-b1a3-b4499810a0ab",
   "metadata": {},
   "outputs": [],
   "source": [
    "def amplify(num):\n",
    "    return [x if x % 4 != 0 else x * 10 for x in range(1,num+1)]"
   ]
  },
  {
   "cell_type": "code",
   "execution_count": 14,
   "id": "6a4293d4-8521-4d38-abd0-bce85e1b24df",
   "metadata": {},
   "outputs": [
    {
     "data": {
      "text/plain": [
       "[1, 2, 3, 40]"
      ]
     },
     "execution_count": 14,
     "metadata": {},
     "output_type": "execute_result"
    }
   ],
   "source": [
    "amplify(4)"
   ]
  },
  {
   "cell_type": "code",
   "execution_count": 15,
   "id": "5ce3b2f9-fa59-4af8-8cd1-91dadb23f594",
   "metadata": {},
   "outputs": [
    {
     "data": {
      "text/plain": [
       "[1, 2, 3]"
      ]
     },
     "execution_count": 15,
     "metadata": {},
     "output_type": "execute_result"
    }
   ],
   "source": [
    "amplify(3)"
   ]
  },
  {
   "cell_type": "code",
   "execution_count": 16,
   "id": "1ad65142-fa8e-41f6-83a4-045e778c46c6",
   "metadata": {},
   "outputs": [
    {
     "data": {
      "text/plain": [
       "[1,\n",
       " 2,\n",
       " 3,\n",
       " 40,\n",
       " 5,\n",
       " 6,\n",
       " 7,\n",
       " 80,\n",
       " 9,\n",
       " 10,\n",
       " 11,\n",
       " 120,\n",
       " 13,\n",
       " 14,\n",
       " 15,\n",
       " 160,\n",
       " 17,\n",
       " 18,\n",
       " 19,\n",
       " 200,\n",
       " 21,\n",
       " 22,\n",
       " 23,\n",
       " 240,\n",
       " 25]"
      ]
     },
     "execution_count": 16,
     "metadata": {},
     "output_type": "execute_result"
    }
   ],
   "source": [
    "amplify(25)"
   ]
  },
  {
   "cell_type": "markdown",
   "id": "b1be9154-645e-467a-ae53-04856114d661",
   "metadata": {},
   "source": [
    "---------------------------\n",
    "Question2\n",
    "\n",
    "Create a function that takes a list of numbers and return the number that's unique.\n",
    "```\n",
    "Examples\n",
    "unique([3, 3, 3, 7, 3, 3]) ➞ 7\n",
    "\n",
    "unique([0, 0, 0.77, 0, 0]) ➞ 0.77\n",
    "\n",
    "unique([0, 1, 1, 1, 1, 1, 1, 1]) ➞ 0\n",
    "```\n",
    "Notes: \n",
    "Test cases will always have exactly one unique number while all others are the same.\n"
   ]
  },
  {
   "cell_type": "code",
   "execution_count": 17,
   "id": "29def6c9-6305-4e3c-a83c-c67583df4a52",
   "metadata": {},
   "outputs": [],
   "source": [
    "def unique(list1):\n",
    "    unique_ele = list(set(list1))\n",
    "    for i in unique_ele:\n",
    "        if list1.count(i) == 1:\n",
    "            unique = i\n",
    "    return unique"
   ]
  },
  {
   "cell_type": "code",
   "execution_count": 18,
   "id": "30a8f84e-bf9a-46e5-b1e7-0b5d05fe17d1",
   "metadata": {},
   "outputs": [
    {
     "data": {
      "text/plain": [
       "7"
      ]
     },
     "execution_count": 18,
     "metadata": {},
     "output_type": "execute_result"
    }
   ],
   "source": [
    "unique([3, 3, 3, 7, 3, 3])"
   ]
  },
  {
   "cell_type": "code",
   "execution_count": 19,
   "id": "e29194c9-d3c6-40a3-a6a2-ebbbb7a3c4ac",
   "metadata": {},
   "outputs": [
    {
     "data": {
      "text/plain": [
       "0.77"
      ]
     },
     "execution_count": 19,
     "metadata": {},
     "output_type": "execute_result"
    }
   ],
   "source": [
    "unique([0, 0, 0.77, 0, 0])"
   ]
  },
  {
   "cell_type": "code",
   "execution_count": 20,
   "id": "4a6d0236-2bbc-4025-857c-5f98266bda28",
   "metadata": {},
   "outputs": [
    {
     "data": {
      "text/plain": [
       "0"
      ]
     },
     "execution_count": 20,
     "metadata": {},
     "output_type": "execute_result"
    }
   ],
   "source": [
    "unique([0, 1, 1, 1, 1, 1, 1, 1])"
   ]
  },
  {
   "cell_type": "markdown",
   "id": "eb85d1c0-85bc-4936-8259-4eb07c27b07d",
   "metadata": {},
   "source": [
    "----------------\n",
    "Question3\n",
    "\n",
    "Your task is to create a Circle constructor that creates a circle with a radius provided by an argument. The circles constructed must have two getters getArea() (PIr^2) and getPerimeter() (2PI*r) which give both respective areas and perimeter (circumference).\n",
    "\n",
    "For help with this class, I have provided you with a Rectangle constructor which you can use as a base example.\n",
    "\n",
    "```\n",
    "Examples\n",
    "circy = Circle(11)\n",
    "circy.getArea()\n",
    "\n",
    "# Should return 380.132711084365\n",
    "\n",
    "circy = Circle(4.44)\n",
    "circy.getPerimeter()\n",
    "\n",
    "# Should return 27.897342763877365\n",
    "\n",
    "```\n",
    "Notes : \n",
    "Round results up to the nearest integer.\n"
   ]
  },
  {
   "cell_type": "code",
   "execution_count": 21,
   "id": "789f568b-d622-4f27-903c-dcd2dcf09cff",
   "metadata": {},
   "outputs": [],
   "source": [
    "import math\n",
    "class Circle:\n",
    "    \n",
    "    def __init__(self,radius):\n",
    "        self.radius = radius\n",
    "        \n",
    "    def getArea(self):\n",
    "        return math.pi * self.radius * self.radius\n",
    "    \n",
    "    def getPerimeter(self):\n",
    "        return 2*math.pi*self.radius"
   ]
  },
  {
   "cell_type": "code",
   "execution_count": 22,
   "id": "b990e8da-8f85-4f30-83cf-26f50ea94da2",
   "metadata": {},
   "outputs": [
    {
     "data": {
      "text/plain": [
       "380.1327110843649"
      ]
     },
     "execution_count": 22,
     "metadata": {},
     "output_type": "execute_result"
    }
   ],
   "source": [
    "circy = Circle(11)\n",
    "circy.getArea()"
   ]
  },
  {
   "cell_type": "code",
   "execution_count": 23,
   "id": "cf59972a-15cc-4e2f-be86-864b0fdcbaa5",
   "metadata": {},
   "outputs": [
    {
     "data": {
      "text/plain": [
       "27.897342763877365"
      ]
     },
     "execution_count": 23,
     "metadata": {},
     "output_type": "execute_result"
    }
   ],
   "source": [
    "circy = Circle(4.44)\n",
    "circy.getPerimeter()"
   ]
  },
  {
   "cell_type": "markdown",
   "id": "e29f7f3c-4915-4515-8471-04048cceca2b",
   "metadata": {},
   "source": [
    "Question4\n",
    "\n",
    "Create a function that takes a list of strings and return a list, sorted from shortest to longest.\n",
    "```\n",
    "Examples\n",
    "sort_by_length([\"Google\", \"Apple\", \"Microsoft\"])\n",
    "➞ [\"Apple\", \"Google\", \"Microsoft\"]\n",
    "\n",
    "sort_by_length([\"Leonardo\", \"Michelangelo\", \"Raphael\", \"Donatello\"])\n",
    "➞ [\"Raphael\", \"Leonardo\", \"Donatello\", \"Michelangelo\"]\n",
    "\n",
    "sort_by_length([\"Turing\", \"Einstein\", \"Jung\"])\n",
    "➞ [\"Jung\", \"Turing\", \"Einstein\"]\n",
    "```\n",
    "Notes: \n",
    "All test cases contain lists with strings of different lengths, so you won't have to deal with multiple strings of the same length.\n"
   ]
  },
  {
   "cell_type": "code",
   "execution_count": 24,
   "id": "2ddfae88-35c0-4b69-8d9b-7b234eddf86c",
   "metadata": {},
   "outputs": [],
   "source": [
    "def sort_by_length(list1):\n",
    "    list2 = sorted(list1,key = lambda x : len(x))\n",
    "    return list2"
   ]
  },
  {
   "cell_type": "code",
   "execution_count": 25,
   "id": "4d26fcae-81a8-4160-a85d-f1a2a3035f6c",
   "metadata": {},
   "outputs": [
    {
     "data": {
      "text/plain": [
       "['Apple', 'Google', 'Microsoft']"
      ]
     },
     "execution_count": 25,
     "metadata": {},
     "output_type": "execute_result"
    }
   ],
   "source": [
    "sort_by_length([\"Google\", \"Apple\", \"Microsoft\"])"
   ]
  },
  {
   "cell_type": "code",
   "execution_count": 26,
   "id": "463c8717-4a47-459f-a3e3-f6bb5dc67bb9",
   "metadata": {},
   "outputs": [
    {
     "data": {
      "text/plain": [
       "['Raphael', 'Leonardo', 'Donatello', 'Michelangelo']"
      ]
     },
     "execution_count": 26,
     "metadata": {},
     "output_type": "execute_result"
    }
   ],
   "source": [
    "sort_by_length([\"Leonardo\", \"Michelangelo\", \"Raphael\", \"Donatello\"])"
   ]
  },
  {
   "cell_type": "code",
   "execution_count": 27,
   "id": "3d2fa311-3641-4fa3-9738-5a33ef59935d",
   "metadata": {},
   "outputs": [
    {
     "data": {
      "text/plain": [
       "['Jung', 'Turing', 'Einstein']"
      ]
     },
     "execution_count": 27,
     "metadata": {},
     "output_type": "execute_result"
    }
   ],
   "source": [
    "sort_by_length([\"Turing\", \"Einstein\", \"Jung\"])"
   ]
  },
  {
   "cell_type": "markdown",
   "id": "2b2df28d-23f4-4940-9229-6f28b787ba7d",
   "metadata": {},
   "source": [
    "---------------\n",
    "Question5\n",
    "\n",
    "Create a function that validates whether three given integers form a Pythagorean triplet. The sum of the squares of the two smallest integers must equal the square of the largest number to be validated.\n",
    "\n",
    "```\n",
    "Examples\n",
    "is_triplet(3, 4, 5) ➞ True\n",
    "# 3² + 4² = 25\n",
    "# 5² = 25\n",
    "\n",
    "is_triplet(13, 5, 12) ➞ True\n",
    "# 5² + 12² = 169\n",
    "# 13² = 169\n",
    "\n",
    "is_triplet(1, 2, 3) ➞ False\n",
    "# 1² + 2² = 5\n",
    "# 3² = 9\n",
    "```\n",
    "Notes : \n",
    "Numbers may not be given in a sorted order."
   ]
  },
  {
   "cell_type": "code",
   "execution_count": 28,
   "id": "bafd1236-83da-404d-b582-cfa4f441e2f6",
   "metadata": {},
   "outputs": [],
   "source": [
    "def is_triplet(a,b,c):\n",
    "    \n",
    "    if ((a**2) + (b**2)) == (c**2):\n",
    "        return True\n",
    "    \n",
    "    if ((a**2) + (c**2)) == (b**2):\n",
    "        return True\n",
    "    \n",
    "    if ((c**2) + (b**2)) == (a**2):\n",
    "        return True\n",
    "    \n",
    "    return False"
   ]
  },
  {
   "cell_type": "code",
   "execution_count": 29,
   "id": "31e0387c-fe57-40ee-9552-7eaea6c81c80",
   "metadata": {},
   "outputs": [
    {
     "data": {
      "text/plain": [
       "True"
      ]
     },
     "execution_count": 29,
     "metadata": {},
     "output_type": "execute_result"
    }
   ],
   "source": [
    "is_triplet(3, 4, 5)"
   ]
  },
  {
   "cell_type": "code",
   "execution_count": 30,
   "id": "4cfcbabb-947d-4364-9034-d956d4e89474",
   "metadata": {},
   "outputs": [
    {
     "data": {
      "text/plain": [
       "True"
      ]
     },
     "execution_count": 30,
     "metadata": {},
     "output_type": "execute_result"
    }
   ],
   "source": [
    "is_triplet(13, 5, 12)"
   ]
  },
  {
   "cell_type": "code",
   "execution_count": 31,
   "id": "314687fa-57c1-434a-bec2-0859465eb2d6",
   "metadata": {},
   "outputs": [
    {
     "data": {
      "text/plain": [
       "False"
      ]
     },
     "execution_count": 31,
     "metadata": {},
     "output_type": "execute_result"
    }
   ],
   "source": [
    "is_triplet(1, 2, 3)"
   ]
  },
  {
   "cell_type": "code",
   "execution_count": null,
   "id": "1c2b1a62-2ec2-4448-98d7-0e03cd488325",
   "metadata": {},
   "outputs": [],
   "source": []
  }
 ],
 "metadata": {
  "kernelspec": {
   "display_name": "Python 3 (ipykernel)",
   "language": "python",
   "name": "python3"
  },
  "language_info": {
   "codemirror_mode": {
    "name": "ipython",
    "version": 3
   },
   "file_extension": ".py",
   "mimetype": "text/x-python",
   "name": "python",
   "nbconvert_exporter": "python",
   "pygments_lexer": "ipython3",
   "version": "3.10.6"
  }
 },
 "nbformat": 4,
 "nbformat_minor": 5
}
