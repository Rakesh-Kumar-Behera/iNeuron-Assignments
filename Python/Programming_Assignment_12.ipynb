{
 "cells": [
  {
   "cell_type": "markdown",
   "id": "cba13540-064b-45ed-9aa5-d027bf3b85c5",
   "metadata": {},
   "source": [
    "## Programming Assignment 12"
   ]
  },
  {
   "cell_type": "markdown",
   "id": "dca0fd31-a1eb-4a81-bb88-c78810840607",
   "metadata": {},
   "source": [
    "1.\tWrite a Python program to Extract Unique values dictionary values?\n",
    "\n",
    "2.\tWrite a Python program to find the sum of all items in a dictionary?\n",
    "\n",
    "3.\tWrite a Python program to Merging two Dictionaries?\n",
    "\n",
    "4.\tWrite a Python program to convert key-values list to flat dictionary?\n",
    "\n",
    "5.\tWrite a Python program to insertion at the beginning in OrderedDict?\n",
    "\n",
    "6.\tWrite a Python program to check order of character in string using OrderedDict()?\n",
    "\n",
    "7.\tWrite a Python program to sort Python Dictionaries by Key or Value?\n"
   ]
  },
  {
   "cell_type": "markdown",
   "id": "7c673e09-e521-4540-b6fe-44954727b7fb",
   "metadata": {},
   "source": [
    "1. Write a Python program to Extract Unique values dictionary values?"
   ]
  },
  {
   "cell_type": "code",
   "execution_count": 7,
   "id": "bf7cb036-9127-4f8e-8997-0c3d52563ee3",
   "metadata": {},
   "outputs": [
    {
     "name": "stdout",
     "output_type": "stream",
     "text": [
      "The original dictionary is :  {'A': [1, 3, 5, 4], 'B': [4, 6, 8, 10], 'C': [6, 12, 4, 8], 'D': [5, 7, 2]}\n",
      "The unique values list is :  [1, 2, 3, 4, 5, 6, 7, 8, 10, 12]\n"
     ]
    }
   ],
   "source": [
    "dict1 = {'A' : [1, 3, 5, 4],\n",
    "             'B' : [4, 6, 8, 10],\n",
    "             'C' : [6, 12, 4 ,8],\n",
    "             'D' : [5, 7, 2]}\n",
    "\n",
    "print(\"The original dictionary is : \" ,dict1)\n",
    "  \n",
    "res = list(set({ele for val in dict1.values() for ele in val}))\n",
    "  \n",
    "print(\"The unique values list is : \" , res) "
   ]
  },
  {
   "cell_type": "markdown",
   "id": "b7cf5849-dcc9-4e7c-9f13-c464d6d970be",
   "metadata": {},
   "source": [
    "2. Write a Python program to find the sum of all items in a dictionary?"
   ]
  },
  {
   "cell_type": "code",
   "execution_count": 3,
   "id": "edccac32-037c-430d-bd86-87435d5fe22b",
   "metadata": {},
   "outputs": [
    {
     "name": "stdout",
     "output_type": "stream",
     "text": [
      "Sum of values : 1000\n"
     ]
    }
   ],
   "source": [
    "dict1 = {'num1':100, 'num2':200 , 'num3':300 , 'num4':400}\n",
    "print(f\"Sum of values : {sum(dict1.values())}\")\n",
    "    "
   ]
  },
  {
   "cell_type": "markdown",
   "id": "ebb1344e-97cc-4b31-8b11-ddd60eb8d8ba",
   "metadata": {},
   "source": [
    "3. Write a Python program to Merging two Dictionaries?"
   ]
  },
  {
   "cell_type": "code",
   "execution_count": 6,
   "id": "91690268-82de-4916-8d44-c068e9288c70",
   "metadata": {},
   "outputs": [
    {
     "name": "stdout",
     "output_type": "stream",
     "text": [
      "{'day1': 'Monday', 'day2': 'Tuesday', 'day3': 'Wednesday', 'day4': 'Thursday', 'day5': 'Friday', 'day6': 'Saturday'}\n"
     ]
    }
   ],
   "source": [
    "dict2 = {'day1': 'Monday' , 'day2' : 'Tuesday' , 'day3':'Wednesday'}\n",
    "dict3 = {'day4': 'Thursday' , 'day5':'Friday' , 'day6':'Saturday'}\n",
    "\n",
    "dict2.update(dict3)\n",
    "print(dict2)"
   ]
  },
  {
   "cell_type": "code",
   "execution_count": 5,
   "id": "9cccbf47-753e-4221-bbe3-d13f6bd12672",
   "metadata": {},
   "outputs": [
    {
     "data": {
      "text/plain": [
       "{'day1': 'Monday',\n",
       " 'day2': 'Tuesday',\n",
       " 'day3': 'Wednesday',\n",
       " 'day4': 'Thursday',\n",
       " 'day5': 'Friday',\n",
       " 'day6': 'Saturday'}"
      ]
     },
     "execution_count": 5,
     "metadata": {},
     "output_type": "execute_result"
    }
   ],
   "source": [
    "dict2"
   ]
  },
  {
   "cell_type": "code",
   "execution_count": 14,
   "id": "4d488b4d-db9e-4075-a9b5-4a3f6831bf64",
   "metadata": {},
   "outputs": [
    {
     "name": "stdout",
     "output_type": "stream",
     "text": [
      "MERGED: \n",
      "{'x': 4, 'y': 8, 'z': 5, 1: 8, 2: 6}\n"
     ]
    }
   ],
   "source": [
    "dic1= {'x': 3, 'y' : 8, 'z': 5 }\n",
    "dic2= {1: 8, 'x': 4, 2: 6}\n",
    "\n",
    "merge_dic= {**dic1,**dic2}\n",
    "\n",
    "print(\"MERGED: \")\n",
    "print(merge_dic)\n"
   ]
  },
  {
   "cell_type": "markdown",
   "id": "cee103d8-e2a7-4243-9f9c-02e2fb5bdbb0",
   "metadata": {},
   "source": [
    "4. Write a Python program to convert key-values list to flat dictionary?"
   ]
  },
  {
   "cell_type": "markdown",
   "id": "58d29a5c-e5f9-43c9-a8c3-7fa53f282797",
   "metadata": {},
   "source": [
    "The `zip()` method is a built-in function that accepts iterables as parameters and returns a tuple of the elements from each iterable\n",
    "\n",
    "The `dict()` method is a built-in function used to create a dictionary in Python."
   ]
  },
  {
   "cell_type": "code",
   "execution_count": 9,
   "id": "476b9453-f330-4910-ae35-0e34537ca5de",
   "metadata": {},
   "outputs": [
    {
     "name": "stdout",
     "output_type": "stream",
     "text": [
      "Original dictionary:  {'day': [1, 2, 3], 'name': ['Mon', 'Tues', 'Wed']}\n",
      "FLATTENED DICTIONARY:  {1: 'Mon', 2: 'Tues', 3: 'Wed'}\n"
     ]
    }
   ],
   "source": [
    "dict1= { \"day\": [1, 2, 3], \"name\": ['Mon', 'Tues', 'Wed' ] }\n",
    "print(\"Original dictionary: \",dict1)\n",
    "\n",
    "# convert to flat dictionary\n",
    "\n",
    "f_dict= dict(zip(dict1[\"day\"], dict1[\"name\"]))\n",
    "print(\"FLATTENED DICTIONARY: \", f_dict)"
   ]
  },
  {
   "cell_type": "markdown",
   "id": "974719e3-c075-46af-ba7e-257713de5684",
   "metadata": {},
   "source": [
    "5. Write a Python program to insertion at the beginning in OrderedDict?"
   ]
  },
  {
   "cell_type": "code",
   "execution_count": 3,
   "id": "a8c76fad-f9e0-4e66-82cc-bb594698a882",
   "metadata": {},
   "outputs": [
    {
     "name": "stdout",
     "output_type": "stream",
     "text": [
      "OrderedDict([('Name', 'Raka'), ('Age', 24), ('Course', 'FSDS')])\n"
     ]
    },
    {
     "name": "stdin",
     "output_type": "stream",
     "text": [
      "Enter Key to insert id\n",
      "Enter its corresponding value 123\n"
     ]
    },
    {
     "name": "stdout",
     "output_type": "stream",
     "text": [
      "Output :\n",
      "OrderedDict([('id', '123'), ('Name', 'Raka'), ('Age', 24), ('Course', 'FSDS')])\n"
     ]
    }
   ],
   "source": [
    "from collections import OrderedDict\n",
    "\n",
    "dict1 = OrderedDict([('Name', 'Raka'), ('Age', 24), ('Course', 'FSDS')])\n",
    "print(dict1)\n",
    "key = input(\"Enter Key to insert\")\n",
    "value = input(\"Enter its corresponding value\")\n",
    "dict2 = OrderedDict([(key,value)])\n",
    "\n",
    "  \n",
    "new_dict = OrderedDict(list(dict2.items()) + list(dict1.items()))\n",
    "  \n",
    "\n",
    "print (\"Output :\")\n",
    "print(new_dict)"
   ]
  },
  {
   "cell_type": "markdown",
   "id": "429457bf-6d4c-4307-9a98-3eb8b3851cc4",
   "metadata": {},
   "source": [
    "6. Write a Python program to check order of character in string using OrderedDict()?"
   ]
  },
  {
   "cell_type": "code",
   "execution_count": 9,
   "id": "566da65a-698a-44be-a838-c183e282be98",
   "metadata": {},
   "outputs": [
    {
     "name": "stdin",
     "output_type": "stream",
     "text": [
      "Enter a string:  Student of fsds\n",
      "Enter a Pattern Stud\n"
     ]
    },
    {
     "name": "stdout",
     "output_type": "stream",
     "text": [
      "True\n"
     ]
    }
   ],
   "source": [
    "from collections import OrderedDict \n",
    "def checkOrder(string, pattern): \n",
    "    dic = OrderedDict.fromkeys(string) \n",
    "    ptr = 0\n",
    "    for key,value in dic.items(): \n",
    "        if (key == pattern[ptr]): \n",
    "            ptr = ptr + 1\n",
    "        if (ptr == (len(pattern))): \n",
    "            return 'True'\n",
    "    return 'False'\n",
    "\n",
    "string = input(\"Enter a string: \")\n",
    "pattern = input(\"Enter a Pattern\")\n",
    "print(checkOrder(string,pattern))\n"
   ]
  },
  {
   "cell_type": "markdown",
   "id": "b775480f-1ab3-4ad4-871b-ada159b249d8",
   "metadata": {},
   "source": [
    "5. Write a Python program to sort Python Dictionaries by Key or Value?"
   ]
  },
  {
   "cell_type": "code",
   "execution_count": 13,
   "id": "7f5116d1-c9ce-41fe-aea6-fadb5cc9e810",
   "metadata": {},
   "outputs": [
    {
     "name": "stdout",
     "output_type": "stream",
     "text": [
      "The original dictionary is :  {'q': [5, 3, 7], 'r': [11, 4, 2, 6], 'p': [10, 9]}\n",
      "The sorted dictionary :  {'p': [9, 10], 'q': [3, 5, 7], 'r': [2, 4, 6, 11]}\n"
     ]
    }
   ],
   "source": [
    "dict1 = {'q': [5, 3, 7], \n",
    "             'r': [11, 4, 2, 6], \n",
    "             'p': [10, 9]}\n",
    "  \n",
    "\n",
    "print(\"The original dictionary is : \" ,dict1)\n",
    "  \n",
    "sorted_dict = {}\n",
    "for key in sorted(dict1):\n",
    "    sorted_dict[key] = sorted(dict1[key])\n",
    "\n",
    "print(\"The sorted dictionary : \" , sorted_dict) "
   ]
  },
  {
   "cell_type": "code",
   "execution_count": null,
   "id": "04925e17-41ca-449d-893a-3437b650f236",
   "metadata": {},
   "outputs": [],
   "source": []
  }
 ],
 "metadata": {
  "kernelspec": {
   "display_name": "Python 3 (ipykernel)",
   "language": "python",
   "name": "python3"
  },
  "language_info": {
   "codemirror_mode": {
    "name": "ipython",
    "version": 3
   },
   "file_extension": ".py",
   "mimetype": "text/x-python",
   "name": "python",
   "nbconvert_exporter": "python",
   "pygments_lexer": "ipython3",
   "version": "3.10.6"
  }
 },
 "nbformat": 4,
 "nbformat_minor": 5
}
