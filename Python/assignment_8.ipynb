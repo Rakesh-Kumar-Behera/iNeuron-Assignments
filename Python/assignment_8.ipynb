{
 "cells": [
  {
   "cell_type": "markdown",
   "metadata": {},
   "source": [
    "## Assignment 8"
   ]
  },
  {
   "cell_type": "markdown",
   "metadata": {},
   "source": [
    "1. Is the Python Standard Library included with PyInputPlus?\n"
   ]
  },
  {
   "cell_type": "markdown",
   "metadata": {},
   "source": [
    "No, PyInputPlus is not part of the Python Standard Library. You need to install it separately using `pip install PyInputPlus`."
   ]
  },
  {
   "cell_type": "markdown",
   "metadata": {},
   "source": [
    "2. Why is PyInputPlus commonly imported with import pyinputplus as pyip?"
   ]
  },
  {
   "cell_type": "markdown",
   "metadata": {},
   "source": [
    "Importing it as pyip allows you to use a shorter name when calling the module’s functions. It’s a common convention to make code more concise."
   ]
  },
  {
   "cell_type": "markdown",
   "metadata": {},
   "source": [
    "3. How do you distinguish between `inputInt()` and `inputFloat()` in PyInputPlus?"
   ]
  },
  {
   "cell_type": "markdown",
   "metadata": {},
   "source": [
    "- `inputInt()` accepts an integer value and can have additional parameters like `min, max, greaterThan, and lessThan`.\n",
    "- `inputFloat()` accepts a floating-point numeric value and also takes similar additional parameters."
   ]
  },
  {
   "cell_type": "markdown",
   "metadata": {},
   "source": [
    "4. Using PyInputPlus, how do you ensure that the user enters a whole number between 0 and 99?"
   ]
  },
  {
   "cell_type": "markdown",
   "metadata": {},
   "source": [
    "To ensure that the user enters a whole number between 0 and 99 using PyInputPlus, you can use the inputInt() function with appropriate bounds. Here’s how you can achieve that:"
   ]
  },
  {
   "cell_type": "raw",
   "metadata": {
    "vscode": {
     "languageId": "raw"
    }
   },
   "source": [
    "import pyinputplus as pyip\n",
    "\n",
    "# Get an integer input between 0 and 99\n",
    "user_input = pyip.inputInt(prompt=\"Enter a whole number between 0 and 99: \", min=0, max=99)\n",
    "\n",
    "print(f\"You entered: {user_input}\")\n"
   ]
  },
  {
   "cell_type": "code",
   "execution_count": null,
   "metadata": {},
   "outputs": [],
   "source": []
  },
  {
   "cell_type": "markdown",
   "metadata": {},
   "source": [
    "5. What is transferred to the keyword arguments allowRegexes and blockRegexes?"
   ]
  },
  {
   "cell_type": "markdown",
   "metadata": {},
   "source": [
    "### allowRegexes:\n",
    "- The allowRegexes parameter allows you to specify a list of regular expression strings.\n",
    "- These regex patterns define what input values are explicitly allowed.\n",
    "- If an input matches any of the specified regex patterns in allowRegexes, it is considered valid.\n",
    "- Essentially, allowRegexes lets you override the default validation behavior and explicitly allow specific input patterns1.\n",
    "### blockRegexes:\n",
    "- The blockRegexes parameter also takes a list of regular expression strings.\n",
    "- These regex patterns define what input values should be invalidated (blocked).\n",
    "- If an input matches any of the specified regex patterns in blockRegexes, it is considered invalid.\n",
    "- Use blockRegexes to prevent specific input patterns from being accepted2."
   ]
  },
  {
   "cell_type": "markdown",
   "metadata": {},
   "source": [
    "6. If a blank input is entered three times, what does inputStr(limit=3) do?"
   ]
  },
  {
   "cell_type": "markdown",
   "metadata": {},
   "source": [
    "If the user enters a blank input three times, inputStr(limit=3) raises a RetryLimitException."
   ]
  },
  {
   "cell_type": "markdown",
   "metadata": {},
   "source": [
    "7. If blank input is entered three times, what does inputStr(limit=3, default='hello') do?"
   ]
  },
  {
   "cell_type": "markdown",
   "metadata": {},
   "source": [
    "If the user enters a blank input three times, it returns the default value 'hello'."
   ]
  },
  {
   "cell_type": "markdown",
   "metadata": {},
   "source": []
  }
 ],
 "metadata": {
  "kernelspec": {
   "display_name": "Python 3",
   "language": "python",
   "name": "python3"
  },
  "language_info": {
   "codemirror_mode": {
    "name": "ipython",
    "version": 3
   },
   "file_extension": ".py",
   "mimetype": "text/x-python",
   "name": "python",
   "nbconvert_exporter": "python",
   "pygments_lexer": "ipython3",
   "version": "3.10.11"
  }
 },
 "nbformat": 4,
 "nbformat_minor": 2
}
