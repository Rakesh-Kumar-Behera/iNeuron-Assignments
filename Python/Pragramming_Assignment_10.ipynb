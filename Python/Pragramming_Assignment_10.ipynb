{
 "cells": [
  {
   "cell_type": "markdown",
   "id": "2fe1fad5-06cf-4406-a499-56547fc25b20",
   "metadata": {},
   "source": [
    "## Programming Assignment 10"
   ]
  },
  {
   "cell_type": "markdown",
   "id": "7d6ad431-51f2-49c4-b981-a6924382bb1f",
   "metadata": {},
   "source": [
    "1.\tWrite a Python program to find sum of elements in list?\n",
    "\n",
    "2.\tWrite a Python program to  Multiply all numbers in the list?\n",
    "\n",
    "3.\tWrite a Python program to find smallest number in a list?\n",
    "\n",
    "4.\tWrite a Python program to find largest number in a list?\n",
    "\n",
    "5.\tWrite a Python program to find second largest number in a list?\n",
    "\n",
    "6.\tWrite a Python program to find N largest elements from a list?\n",
    "\n",
    "7.\tWrite a Python program to print even numbers in a list?\n",
    "\n",
    "8.\tWrite a Python program to print odd numbers in a List?\n",
    "\n",
    "9.\tWrite a Python program to Remove empty List from List?\n",
    "\n",
    "10.\tWrite a Python program to Cloning or Copying a list?\n",
    "\n",
    "11.\tWrite a Python program to Count occurrences of an element in a list?\n"
   ]
  },
  {
   "cell_type": "markdown",
   "id": "e52af3af-e13e-4ef9-9cf9-d6bce4bcd0fd",
   "metadata": {},
   "source": [
    "1. Write a Python program to find sum of elements in list?"
   ]
  },
  {
   "cell_type": "code",
   "execution_count": 10,
   "id": "f2af3823-389d-4ccd-b35a-44287b90262e",
   "metadata": {},
   "outputs": [
    {
     "name": "stdout",
     "output_type": "stream",
     "text": [
      "[12, 34, 62, 75, 89, 234, 472, 5]\n",
      "Sum of elements in tghe list = 983\n"
     ]
    }
   ],
   "source": [
    "#using for loop\n",
    "list1 = [12,34,62,75,89,234,472,5]\n",
    "print(list1)\n",
    "sum_ele = 0\n",
    "for i in list1:\n",
    "    sum_ele += i\n",
    "print(f\"Sum of elements in tghe list = {sum_ele}\")\n",
    "    "
   ]
  },
  {
   "cell_type": "code",
   "execution_count": 11,
   "id": "61878ce5-79fe-4180-96bf-1b6c39aab688",
   "metadata": {},
   "outputs": [
    {
     "name": "stdout",
     "output_type": "stream",
     "text": [
      "[12, 34, 62, 75, 89, 234, 472, 5]\n",
      "Sum of elements in tghe list = 983\n"
     ]
    }
   ],
   "source": [
    "#using reduce\n",
    "from functools import reduce\n",
    "print(list1)\n",
    "sum_of_elements = reduce(lambda x,y : x+y,list1)\n",
    "print(f\"Sum of elements in tghe list = {sum_of_elements}\")"
   ]
  },
  {
   "cell_type": "code",
   "execution_count": 5,
   "id": "a7cd16aa-857f-461e-aa12-f800f1c5d393",
   "metadata": {},
   "outputs": [
    {
     "data": {
      "text/plain": [
       "983"
      ]
     },
     "execution_count": 5,
     "metadata": {},
     "output_type": "execute_result"
    }
   ],
   "source": [
    "sum(list1)"
   ]
  },
  {
   "cell_type": "markdown",
   "id": "9b2c0d1c-ccbd-4634-926e-41448650075a",
   "metadata": {},
   "source": [
    "2.Write a Python program to  Multiply all numbers in the list?"
   ]
  },
  {
   "cell_type": "code",
   "execution_count": 12,
   "id": "aacde140-b91b-4966-aa0e-645f610e4477",
   "metadata": {},
   "outputs": [
    {
     "name": "stdout",
     "output_type": "stream",
     "text": [
      "[4, 2, 5, 13, 25, 43]\n",
      "Product of all the elements : 559000\n"
     ]
    }
   ],
   "source": [
    "#using for loop\n",
    "list2 = [4,2,5, 13,25,43]\n",
    "print(list2)\n",
    "prod_ele = 1\n",
    "for i in list2:\n",
    "    prod_ele *= i\n",
    "print(f\"Product of all the elements : {prod_ele}\")"
   ]
  },
  {
   "cell_type": "code",
   "execution_count": 13,
   "id": "5f931285-8e0b-4cbb-96ac-79c36a1bff94",
   "metadata": {},
   "outputs": [
    {
     "name": "stdout",
     "output_type": "stream",
     "text": [
      "[4, 2, 5, 13, 25, 43]\n",
      "Product of all the elements :559000\n"
     ]
    }
   ],
   "source": [
    "#using reduce\n",
    "print(list2)\n",
    "product_of_elements = reduce(lambda x,y : x*y,list2)\n",
    "print(f\"Product of all the elements :{product_of_elements}\")"
   ]
  },
  {
   "cell_type": "markdown",
   "id": "165e63f4-5f68-457e-a2fd-f0bdc3381d5c",
   "metadata": {},
   "source": [
    "3. Write a Python program to find smallest number in a list?"
   ]
  },
  {
   "cell_type": "code",
   "execution_count": 8,
   "id": "7fbfa4b5-3e4f-4fc6-89dc-c8d6b0cc2205",
   "metadata": {},
   "outputs": [
    {
     "name": "stdout",
     "output_type": "stream",
     "text": [
      "[12, 45, 78, 56, 23, 31, 9]\n",
      "Smallest number in the list : 9\n"
     ]
    }
   ],
   "source": [
    "list3 = [12,45,78,56,23,31,9]\n",
    "print(list3)\n",
    "print(f\"Smallest number in the list : {min(list3)}\")"
   ]
  },
  {
   "cell_type": "code",
   "execution_count": 9,
   "id": "7954a693-fd78-476f-b03c-d715a59c1cfa",
   "metadata": {},
   "outputs": [
    {
     "name": "stdout",
     "output_type": "stream",
     "text": [
      "[12, 45, 78, 56, 23, 31, 9]\n",
      "Smallest number in the list : 9\n"
     ]
    }
   ],
   "source": [
    "#using for loop\n",
    "print(list3)\n",
    "min_ele = list3[0]\n",
    "for i in range(1,len(list3)):\n",
    "    if list3[i] < min_ele:\n",
    "        min_ele = list3[i]\n",
    "print(f\"Smallest number in the list : {min_ele}\")  "
   ]
  },
  {
   "cell_type": "markdown",
   "id": "422a9114-f275-4748-859e-ff8fee8384bb",
   "metadata": {},
   "source": [
    "4. Write a Python program to find largest number in a list?"
   ]
  },
  {
   "cell_type": "code",
   "execution_count": 4,
   "id": "0de69ef0-1128-476d-a63e-b71b2b21f79f",
   "metadata": {},
   "outputs": [
    {
     "name": "stdout",
     "output_type": "stream",
     "text": [
      "[12, 45, 78, 111, 56, 23, 4, 31, 9]\n",
      "Largest number in the list : 111\n"
     ]
    }
   ],
   "source": [
    "list4 = [12,45,78,111,56,23,4,31,9]\n",
    "print(list4)\n",
    "print(f\"Largest number in the list : {max(list4)}\")"
   ]
  },
  {
   "cell_type": "code",
   "execution_count": 5,
   "id": "61c60ea3-c762-468d-b11e-0f282daea724",
   "metadata": {},
   "outputs": [
    {
     "name": "stdout",
     "output_type": "stream",
     "text": [
      "[12, 45, 78, 111, 56, 23, 4, 31, 9]\n",
      "Largest number in the list : 111\n"
     ]
    }
   ],
   "source": [
    "#using for loop\n",
    "print(list4)\n",
    "max_ele = list4[0]\n",
    "for i in range(1,len(list4)):\n",
    "    if list4[i] > max_ele:\n",
    "        max_ele = list4[i]\n",
    "print(f\"Largest number in the list : {max_ele}\")  "
   ]
  },
  {
   "cell_type": "markdown",
   "id": "96f12153-2d3c-4a17-a2ee-b56e8738d0a6",
   "metadata": {},
   "source": [
    "5. Write a Python program to find second largest number in a list?"
   ]
  },
  {
   "cell_type": "code",
   "execution_count": 6,
   "id": "dced0d09-f16f-414c-8567-5d26ad3e3b7f",
   "metadata": {},
   "outputs": [
    {
     "name": "stdout",
     "output_type": "stream",
     "text": [
      "[12, 67, 89, 93, 6, 112, 39]\n",
      "Second Largest number in the list : 93\n"
     ]
    }
   ],
   "source": [
    "list5 = [12,67,89,93,6,112,39]\n",
    "print(list5)\n",
    "\n",
    "list5.sort()\n",
    "print(f\"Second Largest number in the list : {list5[-2]}\")"
   ]
  },
  {
   "cell_type": "markdown",
   "id": "81d284f1-6e42-418f-9f59-86ba980b421c",
   "metadata": {},
   "source": [
    "6. Write a Python program to find N largest elements from a list?"
   ]
  },
  {
   "cell_type": "code",
   "execution_count": 17,
   "id": "21a68007-a862-42fc-b936-8c60e68acc20",
   "metadata": {},
   "outputs": [
    {
     "name": "stdout",
     "output_type": "stream",
     "text": [
      "[12, 67, 89, 93, 6, 112, 39, 154, 28]\n"
     ]
    },
    {
     "name": "stdin",
     "output_type": "stream",
     "text": [
      "Enter the value of n :  4\n"
     ]
    },
    {
     "name": "stdout",
     "output_type": "stream",
     "text": [
      "4 Largest number in the list : 89\n"
     ]
    }
   ],
   "source": [
    "list6 = [12,67,89,93,6,112,39,154,28]\n",
    "print(list6)\n",
    "n = int(input(\"Enter the value of n : \"))\n",
    "list6.sort()\n",
    "print(f\"{n} Largest number in the list : {list6[-n]}\")"
   ]
  },
  {
   "cell_type": "markdown",
   "id": "04883cf3-1c64-4661-8a64-ecea459d9cbc",
   "metadata": {},
   "source": [
    "7. Write a Python program to print even numbers in a list?"
   ]
  },
  {
   "cell_type": "code",
   "execution_count": 20,
   "id": "2a72ecd5-0106-420c-8db0-b2f5728512bd",
   "metadata": {},
   "outputs": [
    {
     "name": "stdout",
     "output_type": "stream",
     "text": [
      "[12, 67, 89, 93, 6, 112, 39, 154, 28, 19, 24]\n",
      "Even numbers in the list are : \n",
      "12\n",
      "6\n",
      "112\n",
      "154\n",
      "28\n",
      "24\n"
     ]
    }
   ],
   "source": [
    "list7 = [12,67,89,93,6,112,39,154,28,19,24]\n",
    "print(list7)\n",
    "\n",
    "#using for loop\n",
    "print(\"Even numbers in the list are : \")\n",
    "for i in list7:\n",
    "    if i % 2 == 0:\n",
    "        print(i)"
   ]
  },
  {
   "cell_type": "code",
   "execution_count": 24,
   "id": "5883e8c0-4f30-4703-bbc5-ecd330cca490",
   "metadata": {},
   "outputs": [
    {
     "name": "stdout",
     "output_type": "stream",
     "text": [
      "[12, 67, 89, 93, 6, 112, 39, 154, 28, 19, 24]\n",
      "Even numbers = [12, 6, 112, 154, 28, 24]\n"
     ]
    }
   ],
   "source": [
    "# using filter\n",
    "list7 = [12,67,89,93,6,112,39,154,28,19,24]\n",
    "print(list7)\n",
    "\n",
    "print(f\"Even numbers = {list(filter(lambda x : x%2 == 0 , list7))}\")"
   ]
  },
  {
   "cell_type": "code",
   "execution_count": 25,
   "id": "9c969870-e732-47e1-ac8f-f4baa6e004ca",
   "metadata": {},
   "outputs": [
    {
     "data": {
      "text/plain": [
       "[12, 6, 112, 154, 28, 24]"
      ]
     },
     "execution_count": 25,
     "metadata": {},
     "output_type": "execute_result"
    }
   ],
   "source": [
    "#using list comprehension\n",
    "even_list = [x for x in list7 if x % 2 == 0]\n",
    "even_list"
   ]
  },
  {
   "cell_type": "markdown",
   "id": "72f52e73-3928-41c6-bb3a-2164283ed0d1",
   "metadata": {},
   "source": [
    "8. Write a Python program to print odd numbers in a List?"
   ]
  },
  {
   "cell_type": "code",
   "execution_count": 26,
   "id": "df642ac7-3faa-4fde-bda0-b73ad332ee0a",
   "metadata": {},
   "outputs": [
    {
     "name": "stdout",
     "output_type": "stream",
     "text": [
      "[12, 67, 89, 93, 6, 112, 39, 154, 28, 19, 24]\n",
      "Odd numbers in the list are : \n",
      "67\n",
      "89\n",
      "93\n",
      "39\n",
      "19\n"
     ]
    }
   ],
   "source": [
    "#list7 = [12,67,89,93,6,112,39,154,28,19,24]\n",
    "print(list7)\n",
    "\n",
    "#using for loop\n",
    "print(\"Odd numbers in the list are : \")\n",
    "for i in list7:\n",
    "    if i % 2 != 0:\n",
    "        print(i)"
   ]
  },
  {
   "cell_type": "code",
   "execution_count": 27,
   "id": "9d71ed9a-6af8-496d-b2c3-3b72e6640b2c",
   "metadata": {},
   "outputs": [
    {
     "name": "stdout",
     "output_type": "stream",
     "text": [
      "[12, 67, 89, 93, 6, 112, 39, 154, 28, 19, 24]\n",
      "Odd numbers = [67, 89, 93, 39, 19]\n"
     ]
    }
   ],
   "source": [
    "# using filter\n",
    "print(list7)\n",
    "\n",
    "print(f\"Odd numbers = {list(filter(lambda x : x%2 != 0 , list7))}\")"
   ]
  },
  {
   "cell_type": "code",
   "execution_count": 28,
   "id": "278bdaea-38a9-4674-b233-2ad2ea2ac5c5",
   "metadata": {},
   "outputs": [
    {
     "data": {
      "text/plain": [
       "[67, 89, 93, 39, 19]"
      ]
     },
     "execution_count": 28,
     "metadata": {},
     "output_type": "execute_result"
    }
   ],
   "source": [
    "#using list comprehension\n",
    "odd_list = [x for x in list7 if x % 2 != 0]\n",
    "odd_list"
   ]
  },
  {
   "cell_type": "markdown",
   "id": "13516fb5-2ec7-461a-87a1-71c942ad4a63",
   "metadata": {},
   "source": [
    "9. Write a Python program to Remove empty List from List?"
   ]
  },
  {
   "cell_type": "code",
   "execution_count": 7,
   "id": "18b5d094-6040-4420-9743-bc161af147f4",
   "metadata": {},
   "outputs": [
    {
     "name": "stdout",
     "output_type": "stream",
     "text": [
      "Before: [12, 67, 89, [93, 6, 112], 39, [], 154, 28, [19, 24], []]\n",
      "After: [12, 67, 89, [93, 6, 112], 39, 154, 28, [19, 24]]\n"
     ]
    }
   ],
   "source": [
    "list8 = [12,67,89,[93,6,112,],39,[],154,28,[19,24],[]]\n",
    "print(f\"Before: {list8}\")\n",
    "\n",
    "for i in list8:\n",
    "    if type(i) == list and len(i) == 0:\n",
    "        list8.remove(i)\n",
    "print(f\"After: {list8}\")  "
   ]
  },
  {
   "cell_type": "markdown",
   "id": "0bc622dd-9798-4fc8-8df1-3dcb48eddaf3",
   "metadata": {},
   "source": [
    "10. Write a Python program to Cloning or Copying a list?"
   ]
  },
  {
   "cell_type": "code",
   "execution_count": 8,
   "id": "28675816-d057-435e-b15e-5794c15c4b75",
   "metadata": {},
   "outputs": [
    {
     "name": "stdout",
     "output_type": "stream",
     "text": [
      "original list : [12, 2, 34, 5, 56, 7]\n",
      "copy of the original list : [12, 2, 34, 5, 56, 7]\n"
     ]
    }
   ],
   "source": [
    "list9 = [12,2,34,5,56,7]\n",
    "print(f\"original list : {list9}\")\n",
    "list10 = list9.copy()\n",
    "print(f\"copy of the original list : {list10}\")"
   ]
  },
  {
   "cell_type": "code",
   "execution_count": 10,
   "id": "d820e397-26c7-4bb2-80a2-ae354b4e7dd9",
   "metadata": {},
   "outputs": [
    {
     "data": {
      "text/plain": [
       "140349971235328"
      ]
     },
     "execution_count": 10,
     "metadata": {},
     "output_type": "execute_result"
    }
   ],
   "source": [
    "id(list9)"
   ]
  },
  {
   "cell_type": "code",
   "execution_count": 11,
   "id": "dac3d262-8a33-4ab4-8e9b-c55872f75372",
   "metadata": {},
   "outputs": [
    {
     "data": {
      "text/plain": [
       "140349971208704"
      ]
     },
     "execution_count": 11,
     "metadata": {},
     "output_type": "execute_result"
    }
   ],
   "source": [
    "id(list10)"
   ]
  },
  {
   "cell_type": "code",
   "execution_count": 12,
   "id": "d803c117-e375-48a5-b6ba-f3509bfa8622",
   "metadata": {},
   "outputs": [
    {
     "data": {
      "text/plain": [
       "[12, 2, 34, 5, 56, 7]"
      ]
     },
     "execution_count": 12,
     "metadata": {},
     "output_type": "execute_result"
    }
   ],
   "source": [
    "#alternate method\n",
    "\n",
    "list11 = list9[:]\n",
    "list11"
   ]
  },
  {
   "cell_type": "markdown",
   "id": "77e4e73b-0f5f-4ff7-acc8-52e79d58fb02",
   "metadata": {},
   "source": [
    "11. Write a Python program to Count occurrences of an element in a list?"
   ]
  },
  {
   "cell_type": "code",
   "execution_count": 14,
   "id": "ac533799-d577-4a9b-86a0-fc733792463b",
   "metadata": {},
   "outputs": [
    {
     "name": "stdout",
     "output_type": "stream",
     "text": [
      "[11, 12, 13, 12, 15, 18, 12, 15, 18, 12, 11]\n"
     ]
    },
    {
     "name": "stdin",
     "output_type": "stream",
     "text": [
      "Enter a number in the list to check occurances :  12\n"
     ]
    },
    {
     "name": "stdout",
     "output_type": "stream",
     "text": [
      "Number of occurances of 12 = 4\n"
     ]
    }
   ],
   "source": [
    "list12 = [11,12,13,12,15,18,12,15,18,12,11]\n",
    "print(list12)\n",
    "n = int(input(\"Enter a number in the list to check occurances : \"))\n",
    "c = list12.count(n)\n",
    "print(f\"Number of occurances of {n} = {c}\")"
   ]
  },
  {
   "cell_type": "code",
   "execution_count": null,
   "id": "81d69e4d-ac5e-4de1-b362-16c7369ed6a8",
   "metadata": {},
   "outputs": [],
   "source": []
  }
 ],
 "metadata": {
  "kernelspec": {
   "display_name": "Python 3 (ipykernel)",
   "language": "python",
   "name": "python3"
  },
  "language_info": {
   "codemirror_mode": {
    "name": "ipython",
    "version": 3
   },
   "file_extension": ".py",
   "mimetype": "text/x-python",
   "name": "python",
   "nbconvert_exporter": "python",
   "pygments_lexer": "ipython3",
   "version": "3.10.6"
  }
 },
 "nbformat": 4,
 "nbformat_minor": 5
}
