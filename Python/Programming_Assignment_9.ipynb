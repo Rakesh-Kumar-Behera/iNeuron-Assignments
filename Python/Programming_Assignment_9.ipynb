{
 "cells": [
  {
   "cell_type": "markdown",
   "id": "e42b763d-61d1-4af1-810e-bc1209990f80",
   "metadata": {},
   "source": [
    "## Programming Assignment 9"
   ]
  },
  {
   "cell_type": "markdown",
   "id": "84da2475-c3da-4027-9253-97088269aedc",
   "metadata": {},
   "source": [
    "1.\tWrite a Python program to check if the given number is a Disarium Number?\n",
    "\n",
    "2.\tWrite a Python program to print all disarium numbers between 1 to 100?\n",
    "\n",
    "3.\tWrite a Python program to check if the given number is Happy Number?\n",
    "\n",
    "4.\tWrite a Python program to print all happy numbers between 1 and 100?\n",
    "\n",
    "5.\tWrite a Python program to determine whether the given number is a Harshad Number?\n",
    "\n",
    "6.\tWrite a Python program to print all pronic numbers between 1 and 100?\n"
   ]
  },
  {
   "cell_type": "markdown",
   "id": "e7175e1d-6654-40ed-ad4f-9b9b53ed103c",
   "metadata": {},
   "source": [
    "1. Write a Python program to check if the given number is a Disarium Number?"
   ]
  },
  {
   "cell_type": "markdown",
   "id": "519b57ac-ac96-4d7c-9e53-8208f8fe6319",
   "metadata": {},
   "source": [
    "> A number is said to be the <b>Disarium number </b> when the <b>sum of its digit raised to the power of their respective positions is equal to the number itself</b>. Some of the other examples of Disarium number are 89, 135, 518 etc.\n",
    "- 89 = 8 + 9^2 = 8 + 81 = 89\n",
    "- 135 = 1 + 3^2 + 5^3 = 1+9+125 = 135\n",
    "- 518 = 5 + 1 + 8^3 = 5+1+512 = 518"
   ]
  },
  {
   "cell_type": "code",
   "execution_count": 7,
   "id": "9079f6ec-cd88-4782-b585-a74927e5519c",
   "metadata": {},
   "outputs": [
    {
     "name": "stdin",
     "output_type": "stream",
     "text": [
      "Enter a number:  518\n"
     ]
    },
    {
     "name": "stdout",
     "output_type": "stream",
     "text": [
      "518 is a Disarium number.\n"
     ]
    }
   ],
   "source": [
    "num = input(\"Enter a number: \")\n",
    "\n",
    "def checkDisarium(num):\n",
    "    temp = 0\n",
    "    for i in range(len(str(num))):\n",
    "        temp += int(str(num)[i]) ** (i + 1)\n",
    "    return temp == num\n",
    "\n",
    "if checkDisarium(int(num)):\n",
    "    print(f\"{num} is a Disarium number.\")\n",
    "else:\n",
    "    print(f\"{num} is not a Disarium number.\")\n",
    "    "
   ]
  },
  {
   "cell_type": "markdown",
   "id": "0ad5fac1-e739-417c-9915-a132918f544e",
   "metadata": {},
   "source": [
    "Write a Python program to print all disarium numbers between 1 to 100?"
   ]
  },
  {
   "cell_type": "code",
   "execution_count": 8,
   "id": "1ab70292-b9a1-4eb2-83eb-43a1e94286c3",
   "metadata": {},
   "outputs": [
    {
     "name": "stdout",
     "output_type": "stream",
     "text": [
      "0\n",
      "1\n",
      "2\n",
      "3\n",
      "4\n",
      "5\n",
      "6\n",
      "7\n",
      "8\n",
      "9\n",
      "89\n"
     ]
    }
   ],
   "source": [
    "def is_disarium(num):\n",
    "    temp = 0\n",
    "    for i in range(len(str(num))):\n",
    "        temp += int(str(num)[i]) ** (i + 1)\n",
    "    return temp == num\n",
    "\n",
    "for i in range(100):\n",
    "    if is_disarium(i):\n",
    "        print(i)"
   ]
  },
  {
   "cell_type": "markdown",
   "id": "f17f1bdc-e90c-4c18-8b70-46a496726561",
   "metadata": {},
   "source": [
    "3. Write a Python program to check if the given number is Happy Number?"
   ]
  },
  {
   "cell_type": "markdown",
   "id": "4cafbe23-cc11-4fe8-a80c-068983715ea7",
   "metadata": {},
   "source": [
    "A number is called happy if it leads to 1 after a sequence of steps wherein each step number is replaced by the sum of squares of its digit that is if we start with Happy Number and keep replacing it with digits square sum, we reach 1. "
   ]
  },
  {
   "cell_type": "raw",
   "id": "894627d5-2d2c-40fa-aab7-e7020202c773",
   "metadata": {},
   "source": [
    "Input: n = 19\n",
    "Output: True\n",
    "19 is Happy Number,\n",
    "1^2 + 9^2 = 82\n",
    "8^2 + 2^2 = 68\n",
    "6^2 + 8^2 = 100\n",
    "1^2 + 0^2 + 0^2 = 1\n",
    "As we reached to 1, 19 is a Happy Number."
   ]
  },
  {
   "cell_type": "code",
   "execution_count": 3,
   "id": "793466c1-5660-4bbd-ac4e-20ac5be5e4c7",
   "metadata": {},
   "outputs": [],
   "source": [
    "def is_happy(num):\n",
    "    while(num != 1 and num != 4):\n",
    "        sum = 0\n",
    "        for i in range(len(str(num))):\n",
    "            sum += int(str(num)[i])**2\n",
    "            \n",
    "        if sum == 1:\n",
    "            return True\n",
    "        elif sum == 4:\n",
    "            return False\n",
    "        else:\n",
    "            num = sum\n",
    "            continue"
   ]
  },
  {
   "cell_type": "code",
   "execution_count": 4,
   "id": "d18c7452-a1d4-408b-8a65-712e0b270406",
   "metadata": {},
   "outputs": [
    {
     "data": {
      "text/plain": [
       "True"
      ]
     },
     "execution_count": 4,
     "metadata": {},
     "output_type": "execute_result"
    }
   ],
   "source": [
    "is_happy(19)"
   ]
  },
  {
   "cell_type": "code",
   "execution_count": 5,
   "id": "5456e89a-053d-4ee8-a0e3-37e639cc2eda",
   "metadata": {},
   "outputs": [
    {
     "data": {
      "text/plain": [
       "True"
      ]
     },
     "execution_count": 5,
     "metadata": {},
     "output_type": "execute_result"
    }
   ],
   "source": [
    "is_happy(32)"
   ]
  },
  {
   "cell_type": "code",
   "execution_count": 6,
   "id": "8ac0c649-3c61-4cfb-8e8a-8aaac6845fb9",
   "metadata": {},
   "outputs": [
    {
     "data": {
      "text/plain": [
       "True"
      ]
     },
     "execution_count": 6,
     "metadata": {},
     "output_type": "execute_result"
    }
   ],
   "source": [
    "is_happy(100)"
   ]
  },
  {
   "cell_type": "code",
   "execution_count": 7,
   "id": "e97c7a87-5b87-4cca-93dd-22cc0e99026a",
   "metadata": {},
   "outputs": [
    {
     "data": {
      "text/plain": [
       "False"
      ]
     },
     "execution_count": 7,
     "metadata": {},
     "output_type": "execute_result"
    }
   ],
   "source": [
    "is_happy(33)"
   ]
  },
  {
   "cell_type": "code",
   "execution_count": 8,
   "id": "6807d672-2dd6-49b5-adab-b28646944e0a",
   "metadata": {},
   "outputs": [
    {
     "data": {
      "text/plain": [
       "False"
      ]
     },
     "execution_count": 8,
     "metadata": {},
     "output_type": "execute_result"
    }
   ],
   "source": [
    "is_happy(25)"
   ]
  },
  {
   "cell_type": "code",
   "execution_count": 9,
   "id": "e6322686-c96b-4ed9-bec8-7562237b6cf4",
   "metadata": {},
   "outputs": [
    {
     "name": "stdin",
     "output_type": "stream",
     "text": [
      "Enter a number:  32\n"
     ]
    },
    {
     "name": "stdout",
     "output_type": "stream",
     "text": [
      "32 is a Happy number.\n"
     ]
    }
   ],
   "source": [
    "num = input(\"Enter a number: \")\n",
    "\n",
    "def is_happy(num):\n",
    "    while(num != 1 and num != 4):\n",
    "        sum = 0\n",
    "        for i in range(len(str(num))):\n",
    "            sum += int(str(num)[i])**2\n",
    "            \n",
    "        if sum == 1:\n",
    "            return True\n",
    "        elif sum == 4:\n",
    "            return False\n",
    "        else:\n",
    "            num = sum\n",
    "            continue\n",
    "            \n",
    "if is_happy(int(num)):\n",
    "    print(f\"{num} is a Happy number.\")\n",
    "else:\n",
    "    print(f\"{num} is not a Happy number.\")"
   ]
  },
  {
   "cell_type": "markdown",
   "id": "d492d197-992a-4ebc-a37e-579b90c63b7d",
   "metadata": {},
   "source": [
    "4.Write a Python program to print all happy numbers between 1 and 100?"
   ]
  },
  {
   "cell_type": "code",
   "execution_count": null,
   "id": "7c4013ec-39e6-4c97-9075-d389531acd99",
   "metadata": {},
   "outputs": [],
   "source": [
    "def is_happy(num):\n",
    "    while(num != 1 and num != 4):\n",
    "        sum = 0\n",
    "        for i in range(len(str(num))):\n",
    "            sum += int(str(num)[i])**2\n",
    "            \n",
    "        if sum == 1:\n",
    "            return True\n",
    "        elif sum == 4:\n",
    "            return False\n",
    "        else:\n",
    "            num = sum\n",
    "            continue\n",
    "            \n",
    "for i in range(100):\n",
    "    if is_happy(i):\n",
    "        print(i)\n",
    "\n"
   ]
  },
  {
   "cell_type": "code",
   "execution_count": null,
   "id": "b7fe45ae-4d05-4c7b-bc99-1e744d86ff93",
   "metadata": {},
   "outputs": [],
   "source": [
    "def sumDigitSquare(n) :\n",
    "    sq = 0\n",
    "    while (n) :\n",
    "        digit = n % 10\n",
    "        sq = sq + digit * digit\n",
    "        n = n // 10\n",
    "     \n",
    "    return sq\n",
    " \n",
    "def isHappy(n) :\n",
    " \n",
    "    while (1) :\n",
    "        if (n == 1) :\n",
    "            return True\n",
    "        n = sumDigitSquare(n)\n",
    "        if (n == 4) :\n",
    "            return False\n",
    "     \n",
    "    return False\n",
    "\n",
    "for i in range(100):\n",
    "    if is_happy(i):\n",
    "        print(i)"
   ]
  },
  {
   "cell_type": "markdown",
   "id": "02f8ac1e-a514-4ec5-bc1c-38408db7ea94",
   "metadata": {},
   "source": [
    "5.\tWrite a Python program to determine whether the given number is a Harshad Number?"
   ]
  },
  {
   "cell_type": "markdown",
   "id": "f479d875-6a2d-49d0-b699-49874870c544",
   "metadata": {},
   "source": [
    "> An integer number in base 10 which is divisible by the sum of its digits is said to be a Harshad Number. An n-Harshad number is an integer number divisible by the sum of its digit in base n."
   ]
  },
  {
   "cell_type": "markdown",
   "id": "eeb15cfa-7122-414a-92dc-7119fd826497",
   "metadata": {},
   "source": [
    "- 18: 18 / (1+8) = 2\n",
    "- 21: 21 / (2+1) = 7"
   ]
  },
  {
   "cell_type": "code",
   "execution_count": 10,
   "id": "bacc1dcd-9716-4da1-ae85-57ac885aeeba",
   "metadata": {},
   "outputs": [],
   "source": [
    "def is_harshad(num):\n",
    "    dig_sum = 0\n",
    "    for i in range(len(str(num))):\n",
    "        dig_sum = dig_sum + int(str(num)[i])\n",
    "        \n",
    "    if num % dig_sum == 0:\n",
    "        return True\n",
    "    else:\n",
    "        return False\n",
    "    "
   ]
  },
  {
   "cell_type": "code",
   "execution_count": 15,
   "id": "ac95832d-ae26-4c3d-acca-8a0247a7f6ab",
   "metadata": {},
   "outputs": [
    {
     "data": {
      "text/plain": [
       "False"
      ]
     },
     "execution_count": 15,
     "metadata": {},
     "output_type": "execute_result"
    }
   ],
   "source": [
    "is_harshad(15)"
   ]
  },
  {
   "cell_type": "code",
   "execution_count": 16,
   "id": "b073f0b3-7a3e-46d2-b081-969306f79992",
   "metadata": {},
   "outputs": [
    {
     "data": {
      "text/plain": [
       "True"
      ]
     },
     "execution_count": 16,
     "metadata": {},
     "output_type": "execute_result"
    }
   ],
   "source": [
    "is_harshad(21)"
   ]
  },
  {
   "cell_type": "code",
   "execution_count": 17,
   "id": "af96cf0f-ce05-4d58-a758-314805dc2694",
   "metadata": {},
   "outputs": [
    {
     "data": {
      "text/plain": [
       "True"
      ]
     },
     "execution_count": 17,
     "metadata": {},
     "output_type": "execute_result"
    }
   ],
   "source": [
    "is_harshad(18)"
   ]
  },
  {
   "cell_type": "markdown",
   "id": "9f009c78-3d00-4a69-bd4a-72181c30641b",
   "metadata": {},
   "source": [
    "6. Write a Python program to print all pronic numbers between 1 and 100?"
   ]
  },
  {
   "cell_type": "code",
   "execution_count": 20,
   "id": "cdd184a7-8dbd-4e80-9e01-4c4b757a1f98",
   "metadata": {},
   "outputs": [
    {
     "name": "stdout",
     "output_type": "stream",
     "text": [
      "1,2,3,4,5,6,7,8,9,10,12,18,20,21,24,27,30,36,40,42,45,48,50,54,60,63,70,72,80,81,84,90,"
     ]
    }
   ],
   "source": [
    "def is_harshad(num):\n",
    "    dig_sum = 0\n",
    "    for i in range(len(str(num))):\n",
    "        dig_sum = dig_sum + int(str(num)[i])\n",
    "        \n",
    "    if num % dig_sum == 0:\n",
    "        return True\n",
    "    else:\n",
    "        return False\n",
    "    \n",
    "for i in range(1,100):\n",
    "    if is_harshad(i):\n",
    "        print(i,end=\",\")"
   ]
  },
  {
   "cell_type": "code",
   "execution_count": null,
   "id": "f946b16e-565e-4199-a695-e2d9544471e8",
   "metadata": {},
   "outputs": [],
   "source": []
  }
 ],
 "metadata": {
  "kernelspec": {
   "display_name": "Python 3 (ipykernel)",
   "language": "python",
   "name": "python3"
  },
  "language_info": {
   "codemirror_mode": {
    "name": "ipython",
    "version": 3
   },
   "file_extension": ".py",
   "mimetype": "text/x-python",
   "name": "python",
   "nbconvert_exporter": "python",
   "pygments_lexer": "ipython3",
   "version": "3.10.6"
  }
 },
 "nbformat": 4,
 "nbformat_minor": 5
}
