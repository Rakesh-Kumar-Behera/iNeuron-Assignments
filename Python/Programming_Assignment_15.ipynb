{
 "cells": [
  {
   "cell_type": "markdown",
   "id": "22b4f517-8c3f-4c02-89a1-ef0018642de0",
   "metadata": {},
   "source": [
    "## Programming Assignment 15"
   ]
  },
  {
   "cell_type": "markdown",
   "id": "655e1cca-3570-4d46-ac64-401d61460972",
   "metadata": {},
   "source": []
  },
  {
   "cell_type": "markdown",
   "id": "d8664306-7fb6-465c-99c5-4ead224bf628",
   "metadata": {},
   "source": [
    "Question 1:\n",
    "Please write a program using generator to print the numbers which can be divisible by 5 and 7 between 0 and n in comma separated form while n is input by console.\n",
    "\n",
    "Example:\n",
    "\n",
    "If the following n is given as input to the program:\n",
    "\n",
    "100\n",
    "\n",
    "Then, the output of the program should be:\n",
    "\n",
    "0,35,70\n"
   ]
  },
  {
   "cell_type": "code",
   "execution_count": 2,
   "id": "e2e80b16-92e9-4e66-9e1c-9be0dce6ee62",
   "metadata": {},
   "outputs": [
    {
     "name": "stdin",
     "output_type": "stream",
     "text": [
      "Enter n(range) value :  100\n"
     ]
    },
    {
     "name": "stdout",
     "output_type": "stream",
     "text": [
      "Number which are divisible by 5 and 7 in range of 0 and 100 are :\n",
      "0,35,70,"
     ]
    }
   ],
   "source": [
    "n = int(input(\"Enter n(range) value : \"))\n",
    "\n",
    "def divisibilityBy57(n):\n",
    "    for i in range(n):\n",
    "        if i % 5 == 0 and i % 7 == 0:\n",
    "            yield i\n",
    "            \n",
    "gen1 = divisibilityBy57(n)\n",
    "print(f\"Number which are divisible by 5 and 7 in range of 0 and {n} are :\")\n",
    "for i in gen1:\n",
    "    print(i , end=\",\")"
   ]
  },
  {
   "cell_type": "markdown",
   "id": "4e42c014-f653-4135-9c1b-ee2538bc09fd",
   "metadata": {},
   "source": [
    "-----------------\n",
    "Question 2:\n",
    "\n",
    "Please write a program using generator to print the even numbers between 0 and n in comma separated form while n is input by console.\n",
    "\n",
    "Example:\n",
    "\n",
    "If the following n is given as input to the program:\n",
    "\n",
    "10\n",
    "\n",
    "Then, the output of the program should be:\n",
    "\n",
    "0,2,4,6,8,10"
   ]
  },
  {
   "cell_type": "code",
   "execution_count": 4,
   "id": "66d378c3-e0b3-43d6-8ac9-a699e1d1dc44",
   "metadata": {},
   "outputs": [
    {
     "name": "stdin",
     "output_type": "stream",
     "text": [
      "Enter n(range) value :  10\n"
     ]
    },
    {
     "name": "stdout",
     "output_type": "stream",
     "text": [
      "Even numbers in range of 0 and 10 are :\n",
      "0,2,4,6,8,10,"
     ]
    }
   ],
   "source": [
    "n = int(input(\"Enter n(range) value : \"))\n",
    "\n",
    "def even_numbers(n):\n",
    "    for i in range(n+1):\n",
    "        if i % 2 == 0:\n",
    "            yield i\n",
    "            \n",
    "gen2 = even_numbers(n)\n",
    "print(f\"Even numbers in range of 0 and {n} are :\")\n",
    "for i in gen2:\n",
    "    print(i , end=\",\")"
   ]
  },
  {
   "cell_type": "markdown",
   "id": "4db7d43d-d9ce-4b57-89a2-de4dadee8ec6",
   "metadata": {},
   "source": [
    "----------------\n",
    "Question 3:\n",
    "\n",
    "The Fibonacci Sequence is computed based on the following formula:<br>\n",
    "f(n)=0 if n=0<br>\n",
    "f(n)=1 if n=1<br>\n",
    "f(n)=f(n-1)+f(n-2) if n>1<br>\n",
    "Please write a program using list comprehension to print the Fibonacci Sequence in comma separated form with a given n input by console.<br>\n",
    "\n",
    "Example:\n",
    "\n",
    "If the following n is given as input to the program:\n",
    "7\n",
    "\n",
    "Then, the output of the program should be:<br>\n",
    "0,1,1,2,3,5,8,13"
   ]
  },
  {
   "cell_type": "code",
   "execution_count": 6,
   "id": "4b94ab1b-f75b-4f1b-907b-1e556f5bf08a",
   "metadata": {},
   "outputs": [
    {
     "name": "stdin",
     "output_type": "stream",
     "text": [
      "Enter n value :  7\n"
     ]
    },
    {
     "name": "stdout",
     "output_type": "stream",
     "text": [
      "0,1,1,2,3,5,8,13,"
     ]
    }
   ],
   "source": [
    "n = int(input(\"Enter n value : \"))\n",
    "a,b = 0,1\n",
    "\n",
    "for i in range(n+1):\n",
    "    print(a , end=\",\")\n",
    "    c = a+b\n",
    "    a = b \n",
    "    b = c\n",
    "    "
   ]
  },
  {
   "cell_type": "code",
   "execution_count": 8,
   "id": "f96a5f26-bb54-4bbf-96b2-2a4566e7d5d9",
   "metadata": {},
   "outputs": [
    {
     "name": "stdin",
     "output_type": "stream",
     "text": [
      "Enter n value :  7\n"
     ]
    },
    {
     "name": "stdout",
     "output_type": "stream",
     "text": [
      "0,1,1,2,3,5,8,13,"
     ]
    },
    {
     "data": {
      "text/plain": [
       "[None, None, None, None, None, None, None, None]"
      ]
     },
     "execution_count": 8,
     "metadata": {},
     "output_type": "execute_result"
    }
   ],
   "source": [
    "#using list comprehension\n",
    "n = int(input(\"Enter n value : \"))\n",
    "\n",
    "\n",
    "def result(n):\n",
    "    a,b = 0,1\n",
    "    for i in range(n+1):\n",
    "        yield a\n",
    "        c = a+b\n",
    "        a = b \n",
    "        b = c\n",
    "        \n",
    "[print(x,end=\",\") for x in result(n)]"
   ]
  },
  {
   "cell_type": "markdown",
   "id": "4f505346-98b7-414c-82c0-13e92468b9c6",
   "metadata": {},
   "source": [
    "-------------------\n",
    "Question 4:\n",
    "\n",
    "Assuming that we have some email addresses in the `\"username@companyname.com\"` format, please write program to print the user name of a given email address. Both user names and company names are composed of letters only.\n",
    "\n",
    "Example:\n",
    "\n",
    "If the following email address is given as input to the program:\n",
    "\n",
    "john@google.com\n",
    "\n",
    "Then, the output of the program should be:\n",
    "\n",
    "john"
   ]
  },
  {
   "cell_type": "code",
   "execution_count": 11,
   "id": "8c07485d-9c36-46e5-80c6-d822a24243fe",
   "metadata": {},
   "outputs": [
    {
     "name": "stdin",
     "output_type": "stream",
     "text": [
      "Enter Email address:  john@google.com\n"
     ]
    },
    {
     "name": "stdout",
     "output_type": "stream",
     "text": [
      "john\n"
     ]
    }
   ],
   "source": [
    "st = input(\"Enter Email address: \")\n",
    "index = st.index('@')\n",
    "print(st[:index])"
   ]
  },
  {
   "cell_type": "markdown",
   "id": "c596b4a0-4472-4839-a25b-76d4d1c512b8",
   "metadata": {},
   "source": [
    "----------------------------\n",
    "Question 5:\n",
    "Define a class named Shape and its subclass Square. The Square class has an init function which takes a length as argument. Both classes have a area function which can print the area of the shape where Shape's area is 0 by default."
   ]
  },
  {
   "cell_type": "code",
   "execution_count": 21,
   "id": "331d47c0-8759-4789-878d-92e612965a2d",
   "metadata": {},
   "outputs": [],
   "source": [
    "class Shape:\n",
    "        \n",
    "    def area(self):\n",
    "        print(\"Area = 0\")\n",
    "        \n",
    "class Square(Shape):\n",
    "    \n",
    "    def __init__(self,length):\n",
    "        self.length = length\n",
    "    \n",
    "    def area(self):\n",
    "        print(f\"Area = {self.length * self.length}\")"
   ]
  },
  {
   "cell_type": "code",
   "execution_count": 22,
   "id": "c26cbf07-d313-41d2-9c5f-b75991082405",
   "metadata": {},
   "outputs": [],
   "source": [
    "s = Square(4)"
   ]
  },
  {
   "cell_type": "code",
   "execution_count": 23,
   "id": "077827fd-4cb9-4889-93c1-4474032f29de",
   "metadata": {},
   "outputs": [
    {
     "name": "stdout",
     "output_type": "stream",
     "text": [
      "Area = 16\n"
     ]
    }
   ],
   "source": [
    "s.area()"
   ]
  },
  {
   "cell_type": "code",
   "execution_count": null,
   "id": "9ef6aa13-3bc0-4640-ac97-c3935c813ddf",
   "metadata": {},
   "outputs": [],
   "source": []
  },
  {
   "cell_type": "code",
   "execution_count": null,
   "id": "4beea209-c4a0-44c4-8d4a-a9aea6f8dbaa",
   "metadata": {},
   "outputs": [],
   "source": []
  }
 ],
 "metadata": {
  "kernelspec": {
   "display_name": "Python 3 (ipykernel)",
   "language": "python",
   "name": "python3"
  },
  "language_info": {
   "codemirror_mode": {
    "name": "ipython",
    "version": 3
   },
   "file_extension": ".py",
   "mimetype": "text/x-python",
   "name": "python",
   "nbconvert_exporter": "python",
   "pygments_lexer": "ipython3",
   "version": "3.10.6"
  }
 },
 "nbformat": 4,
 "nbformat_minor": 5
}
