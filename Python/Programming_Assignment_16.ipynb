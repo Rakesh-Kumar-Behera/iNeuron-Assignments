{
 "cells": [
  {
   "cell_type": "markdown",
   "id": "c37820fb-5950-469c-9045-2b4589fdec2f",
   "metadata": {},
   "source": [
    "## Programming Assignment 16"
   ]
  },
  {
   "cell_type": "markdown",
   "id": "25864565-b01e-403e-a771-77f0fcac7bbc",
   "metadata": {},
   "source": [
    "-------------------\n",
    "Question1. \n",
    "\n",
    "Write a function that stutters a word as if someone is struggling to read it. The first two letters are repeated twice with an ellipsis ... and space after each, and then the word is pronounced with a question mark ?.\n",
    "\n",
    "Examples\n",
    "\n",
    "stutter(\"incredible\") ➞ \"in... in... incredible?\"\n",
    "\n",
    "stutter(\"enthusiastic\") ➞ \"en... en... enthusiastic?\"\n",
    "\n",
    "stutter(\"outstanding\") ➞ \"ou... ou... outstanding?\"\n",
    "\n",
    "Hint :- Assume all input is in lower case and at least two characters long.\n"
   ]
  },
  {
   "cell_type": "code",
   "execution_count": 3,
   "id": "d04922ef-5827-48f8-81d4-e72eaa5adaed",
   "metadata": {},
   "outputs": [
    {
     "name": "stdout",
     "output_type": "stream",
     "text": [
      "in... in... incredible\n",
      "en... en... enthusiastic\n",
      "ou... ou... outstanding\n"
     ]
    }
   ],
   "source": [
    "def stutter(st):\n",
    "    sub_st = st[:2] + \"...\" + \" \"\n",
    "    print(f\"{sub_st * 2}{st}\")\n",
    "    \n",
    "stutter(\"incredible\")\n",
    "stutter(\"enthusiastic\")\n",
    "stutter(\"outstanding\") "
   ]
  },
  {
   "cell_type": "markdown",
   "id": "7e9bf821-7591-44fe-be04-0f05b805bca7",
   "metadata": {},
   "source": [
    "---------------\n",
    "Question 2.\n",
    "\n",
    "Create a function that takes an angle in radians and returns the corresponding angle in degrees rounded to one decimal place.\n",
    "\n",
    "Examples\n",
    "\n",
    "radians_to_degrees(1) ➞ 57.3\n",
    "\n",
    "radians_to_degrees(20) ➞ 1145.9\n",
    "\n",
    "radians_to_degrees(50) ➞ 2864.8\n"
   ]
  },
  {
   "cell_type": "code",
   "execution_count": 4,
   "id": "6d5876cc-f96f-4539-b8ab-d628a2f2b200",
   "metadata": {},
   "outputs": [
    {
     "name": "stdin",
     "output_type": "stream",
     "text": [
      "Enter value in radian :  1\n"
     ]
    },
    {
     "data": {
      "text/plain": [
       "57.3"
      ]
     },
     "execution_count": 4,
     "metadata": {},
     "output_type": "execute_result"
    }
   ],
   "source": [
    "#The mmath.degrees() method converts an angle from radians to degrees.\n",
    "import math\n",
    "\n",
    "def radians_to_degree(n):\n",
    "    return round(math.degrees(n),1)\n",
    "\n",
    "n = int(input(\"Enter value in radian : \"))\n",
    "radians_to_degree(n)\n"
   ]
  },
  {
   "cell_type": "code",
   "execution_count": 5,
   "id": "7a59d05a-9527-4ed4-a247-74ce33bcf0bd",
   "metadata": {},
   "outputs": [
    {
     "data": {
      "text/plain": [
       "1145.9"
      ]
     },
     "execution_count": 5,
     "metadata": {},
     "output_type": "execute_result"
    }
   ],
   "source": [
    "radians_to_degree(20)"
   ]
  },
  {
   "cell_type": "code",
   "execution_count": 6,
   "id": "a2748342-e8b6-405d-b171-2ed6350bcf78",
   "metadata": {},
   "outputs": [
    {
     "data": {
      "text/plain": [
       "2864.8"
      ]
     },
     "execution_count": 6,
     "metadata": {},
     "output_type": "execute_result"
    }
   ],
   "source": [
    "radians_to_degree(50)"
   ]
  },
  {
   "cell_type": "markdown",
   "id": "9e26f741-7326-450c-a49f-0908722b685e",
   "metadata": {},
   "source": [
    "-------\n",
    "Question 3. \n",
    "\n",
    "In this challenge, establish if a given integer num is a Curzon number. If 1 plus 2 elevated to num is exactly divisible by 1 plus 2 multiplied by num, then num is a Curzon number.\n",
    "\n",
    "Given a non-negative integer num, implement a function that returns True if num is a Curzon number, or False otherwise.\n",
    "\n",
    "Examples\n",
    "```\n",
    "is_curzon(5) ➞ True\n",
    "#2 ** 5 + 1 = 33\n",
    "#2 * 5 + 1 = 11\n",
    "#33 is a multiple of 11\n",
    "\n",
    "is_curzon(10) ➞ False\n",
    "#2 ** 10 + 1 = 1025\n",
    "#2 * 10 + 1 = 21\n",
    "#1025 is not a multiple of 21\n",
    "\n",
    "is_curzon(14) ➞ True\n",
    "#2 ** 14 + 1 = 16385\n",
    "#2 * 14 + 1 = 29\n",
    "#16385 is a multiple of 29\n",
    "```"
   ]
  },
  {
   "cell_type": "code",
   "execution_count": 8,
   "id": "b16dd532-f931-4088-88ac-820e15e3d4c5",
   "metadata": {},
   "outputs": [
    {
     "name": "stdin",
     "output_type": "stream",
     "text": [
      "Enter a number :  5\n"
     ]
    },
    {
     "data": {
      "text/plain": [
       "True"
      ]
     },
     "execution_count": 8,
     "metadata": {},
     "output_type": "execute_result"
    }
   ],
   "source": [
    "n = int(input(\"Enter a number : \"))\n",
    "\n",
    "def is_cuzron(n):\n",
    "    x = 2**n+1\n",
    "    y = 2*n+1\n",
    "    if x % y == 0:\n",
    "        return True\n",
    "    return False\n",
    "\n",
    "is_cuzron(n)"
   ]
  },
  {
   "cell_type": "code",
   "execution_count": 9,
   "id": "e8aef0b6-1357-4647-a85c-ca17debcf40e",
   "metadata": {},
   "outputs": [
    {
     "data": {
      "text/plain": [
       "False"
      ]
     },
     "execution_count": 9,
     "metadata": {},
     "output_type": "execute_result"
    }
   ],
   "source": [
    "is_cuzron(10)"
   ]
  },
  {
   "cell_type": "code",
   "execution_count": 10,
   "id": "bc6429cd-3e29-4b0d-abd3-09988c4a98cb",
   "metadata": {},
   "outputs": [
    {
     "data": {
      "text/plain": [
       "True"
      ]
     },
     "execution_count": 10,
     "metadata": {},
     "output_type": "execute_result"
    }
   ],
   "source": [
    "is_cuzron(14)"
   ]
  },
  {
   "cell_type": "markdown",
   "id": "7069f7f7-5462-4065-9cd2-7741f697fbe5",
   "metadata": {},
   "source": [
    "-------------------------\n",
    "Question 4.\n",
    "\n",
    "Given the side length x find the area of a hexagon.\n",
    " \n",
    "Examples\n",
    "\n",
    "area_of_hexagon(1) ➞ 2.6\n",
    "\n",
    "area_of_hexagon(2) ➞ 10.4\n",
    "\n",
    "area_of_hexagon(3) ➞ 23.4\n",
    "\n",
    "`Area of Hexagon = {3 * (3)^1/2 * (side*side)} / 2`\n"
   ]
  },
  {
   "cell_type": "code",
   "execution_count": 16,
   "id": "c5f4a268-84a4-47b0-8c5e-53c393fbf7dc",
   "metadata": {},
   "outputs": [
    {
     "name": "stdin",
     "output_type": "stream",
     "text": [
      "Enter the side length :  2\n"
     ]
    },
    {
     "data": {
      "text/plain": [
       "10.4"
      ]
     },
     "execution_count": 16,
     "metadata": {},
     "output_type": "execute_result"
    }
   ],
   "source": [
    "n = int(input(\"Enter the side length : \"))\n",
    "\n",
    "def area_of_hexagon(s):\n",
    "    return round((3**(3/2)) * (s**2)  / 2,1)\n",
    "\n",
    "area_of_hexagon(n)\n",
    "    "
   ]
  },
  {
   "cell_type": "code",
   "execution_count": 17,
   "id": "140b912e-0e55-4e2f-8adb-34d946f69eae",
   "metadata": {},
   "outputs": [
    {
     "data": {
      "text/plain": [
       "2.6"
      ]
     },
     "execution_count": 17,
     "metadata": {},
     "output_type": "execute_result"
    }
   ],
   "source": [
    "area_of_hexagon(1)"
   ]
  },
  {
   "cell_type": "code",
   "execution_count": 18,
   "id": "342ae86d-de9d-4f06-8ef0-7abc10e4b32c",
   "metadata": {},
   "outputs": [
    {
     "data": {
      "text/plain": [
       "23.4"
      ]
     },
     "execution_count": 18,
     "metadata": {},
     "output_type": "execute_result"
    }
   ],
   "source": [
    "area_of_hexagon(3)"
   ]
  },
  {
   "cell_type": "markdown",
   "id": "adcba52c-5eb0-4723-8828-3598ef506362",
   "metadata": {},
   "source": [
    "\n",
    "--------------\n",
    "Question 5. \n",
    "Create a function that returns a base-2 (binary) representation of a base-10 (decimal) string number. To convert is simple: ((2) means base-2 and (10) means base-10) 010101001(2) = 1 + 8 + 32 + 128.\n",
    "\n",
    "Going from right to left, the value of the most right bit is 1, now from that every bit to the left will be x2 the value, value of an 8 bit binary numbers are (256, 128, 64, 32, 16, 8, 4, 2, 1).\n",
    "```\n",
    "Examples\n",
    "binary(1) ➞ \"1\"\n",
    "# 1*1 = 1\n",
    "\n",
    "binary(5) ➞ \"101\"\n",
    "# 1*1 + 1*4 = 5\n",
    "\n",
    "binary(10) ➞ \"1010\"\n",
    "# 1*2 + 1*8 = 10\n",
    "```"
   ]
  },
  {
   "cell_type": "code",
   "execution_count": 4,
   "id": "d70bd556-77b0-4dd9-ab86-001f69b770aa",
   "metadata": {},
   "outputs": [
    {
     "name": "stdin",
     "output_type": "stream",
     "text": [
      "Enter decimal value :  5\n"
     ]
    },
    {
     "data": {
      "text/plain": [
       "101"
      ]
     },
     "execution_count": 4,
     "metadata": {},
     "output_type": "execute_result"
    }
   ],
   "source": [
    "n = int(input(\"Enter decimal value : \"))\n",
    "\n",
    "def decimal_to_binary(n):\n",
    "    p = 1\n",
    "    res = 0\n",
    "    while(n > 0):\n",
    "        d = int(n % 2)\n",
    "        res = d*p + res\n",
    "        p = p*10\n",
    "        n = n//2\n",
    "        \n",
    "    return res\n",
    "\n",
    "decimal_to_binary(n)\n",
    "        "
   ]
  },
  {
   "cell_type": "code",
   "execution_count": 6,
   "id": "ac69d4e0-2180-46cc-b098-707d53845dec",
   "metadata": {},
   "outputs": [
    {
     "data": {
      "text/plain": [
       "1111011"
      ]
     },
     "execution_count": 6,
     "metadata": {},
     "output_type": "execute_result"
    }
   ],
   "source": [
    "decimal_to_binary(123)"
   ]
  },
  {
   "cell_type": "code",
   "execution_count": 5,
   "id": "19cb3d48-51b8-4896-9f3a-e1739b76c9f8",
   "metadata": {},
   "outputs": [
    {
     "data": {
      "text/plain": [
       "1010"
      ]
     },
     "execution_count": 5,
     "metadata": {},
     "output_type": "execute_result"
    }
   ],
   "source": [
    "decimal_to_binary(10)"
   ]
  },
  {
   "cell_type": "code",
   "execution_count": null,
   "id": "deb7e840-90aa-43ba-8bed-b3a948ec4896",
   "metadata": {},
   "outputs": [],
   "source": []
  }
 ],
 "metadata": {
  "kernelspec": {
   "display_name": "Python 3 (ipykernel)",
   "language": "python",
   "name": "python3"
  },
  "language_info": {
   "codemirror_mode": {
    "name": "ipython",
    "version": 3
   },
   "file_extension": ".py",
   "mimetype": "text/x-python",
   "name": "python",
   "nbconvert_exporter": "python",
   "pygments_lexer": "ipython3",
   "version": "3.10.6"
  }
 },
 "nbformat": 4,
 "nbformat_minor": 5
}
