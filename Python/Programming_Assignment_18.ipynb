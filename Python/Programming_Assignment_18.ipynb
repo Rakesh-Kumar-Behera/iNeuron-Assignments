{
 "cells": [
  {
   "cell_type": "markdown",
   "id": "3c2f2c19-9b2b-493f-8448-ca4f801c349a",
   "metadata": {},
   "source": [
    "## Programming Assignment 18"
   ]
  },
  {
   "cell_type": "markdown",
   "id": "20f7b008-4eea-4092-95ba-bbee3fba9f51",
   "metadata": {},
   "source": [
    "Question 1\n",
    "\n",
    "Create a function that takes a list of non-negative integers and strings and return a new list without the strings.\n",
    "```\n",
    "Examples\n",
    "filter_list([1, 2, \"a\", \"b\"]) ➞ [1, 2]\n",
    "\n",
    "filter_list([1, \"a\", \"b\", 0, 15]) ➞ [1, 0, 15]\n",
    "\n",
    "filter_list([1, 2, \"aasf\", \"1\", \"123\", 123]) ➞ [1, 2, 123]\n"
   ]
  },
  {
   "cell_type": "code",
   "execution_count": 7,
   "id": "84e86d36-1e0d-4b94-8a8d-e9847ac33e17",
   "metadata": {},
   "outputs": [],
   "source": [
    "def filter_list(list1):\n",
    "    return list(filter(lambda x : type(x) != str , list1))"
   ]
  },
  {
   "cell_type": "code",
   "execution_count": 8,
   "id": "8ab0bac9-a8ff-46cb-9cad-fcccf4ab4632",
   "metadata": {},
   "outputs": [
    {
     "data": {
      "text/plain": [
       "[1, 2]"
      ]
     },
     "execution_count": 8,
     "metadata": {},
     "output_type": "execute_result"
    }
   ],
   "source": [
    "filter_list([1, 2, \"a\", \"b\"])"
   ]
  },
  {
   "cell_type": "code",
   "execution_count": 9,
   "id": "761f6f2f-535c-4ec7-9fcf-0d3489243850",
   "metadata": {},
   "outputs": [
    {
     "data": {
      "text/plain": [
       "[1, 0, 15]"
      ]
     },
     "execution_count": 9,
     "metadata": {},
     "output_type": "execute_result"
    }
   ],
   "source": [
    "filter_list([1, \"a\", \"b\", 0, 15])"
   ]
  },
  {
   "cell_type": "code",
   "execution_count": 10,
   "id": "ca5010c2-c8f4-4c88-9bc2-81714082c0b6",
   "metadata": {},
   "outputs": [
    {
     "data": {
      "text/plain": [
       "[1, 2, 123]"
      ]
     },
     "execution_count": 10,
     "metadata": {},
     "output_type": "execute_result"
    }
   ],
   "source": [
    "filter_list([1, 2, \"aasf\", \"1\", \"123\", 123])"
   ]
  },
  {
   "cell_type": "code",
   "execution_count": 11,
   "id": "3c23300a-7474-497d-8bdd-e3bdcbe890b9",
   "metadata": {},
   "outputs": [],
   "source": [
    "def filter_list(list2):\n",
    "    new = []\n",
    "    for i in list2:\n",
    "        if type(i) != str:\n",
    "            new.append(i)\n",
    "    return new"
   ]
  },
  {
   "cell_type": "code",
   "execution_count": 12,
   "id": "235023d4-15f3-46da-ae47-e33e99947b54",
   "metadata": {},
   "outputs": [
    {
     "data": {
      "text/plain": [
       "[1, 2]"
      ]
     },
     "execution_count": 12,
     "metadata": {},
     "output_type": "execute_result"
    }
   ],
   "source": [
    "filter_list([1, 2, \"a\", \"b\"])"
   ]
  },
  {
   "cell_type": "code",
   "execution_count": 13,
   "id": "568e50e3-0e46-46b8-b47f-fbd6cfc6c367",
   "metadata": {},
   "outputs": [
    {
     "data": {
      "text/plain": [
       "[1, 0, 15]"
      ]
     },
     "execution_count": 13,
     "metadata": {},
     "output_type": "execute_result"
    }
   ],
   "source": [
    "filter_list([1, \"a\", \"b\", 0, 15])"
   ]
  },
  {
   "cell_type": "code",
   "execution_count": 14,
   "id": "94073f2c-8cbc-461f-a786-6849fca8466f",
   "metadata": {},
   "outputs": [
    {
     "data": {
      "text/plain": [
       "[1, 2, 123]"
      ]
     },
     "execution_count": 14,
     "metadata": {},
     "output_type": "execute_result"
    }
   ],
   "source": [
    "filter_list([1, 2, \"aasf\", \"1\", \"123\", 123])"
   ]
  },
  {
   "cell_type": "markdown",
   "id": "e5fa1eb3-7820-434d-a241-0fb259e098db",
   "metadata": {},
   "source": [
    "------------------------\n",
    "Question 2\n",
    "\n",
    "The \"Reverser\" takes a string as input and returns that string in reverse order, with the opposite case.\n",
    "\n",
    "```\n",
    "Examples\n",
    "reverse(\"Hello World\") ➞ \"DLROw OLLEh\"\n",
    "\n",
    "reverse(\"ReVeRsE\") ➞ \"eSrEvEr\"\n",
    "\n",
    "reverse(\"Radar\") ➞ \"RADAr\"\n"
   ]
  },
  {
   "cell_type": "code",
   "execution_count": 15,
   "id": "df570b90-7e93-4d47-b219-1a0fc3e41074",
   "metadata": {},
   "outputs": [],
   "source": [
    "def reverse(st):\n",
    "    return st[::-1].swapcase()"
   ]
  },
  {
   "cell_type": "code",
   "execution_count": 16,
   "id": "502401b3-eff0-4424-9363-12682485d5f8",
   "metadata": {},
   "outputs": [
    {
     "data": {
      "text/plain": [
       "'DLROw OLLEh'"
      ]
     },
     "execution_count": 16,
     "metadata": {},
     "output_type": "execute_result"
    }
   ],
   "source": [
    "reverse(\"Hello World\")"
   ]
  },
  {
   "cell_type": "code",
   "execution_count": 17,
   "id": "6e681b47-be35-4ae5-bd70-71404960c946",
   "metadata": {},
   "outputs": [
    {
     "data": {
      "text/plain": [
       "'eSrEvEr'"
      ]
     },
     "execution_count": 17,
     "metadata": {},
     "output_type": "execute_result"
    }
   ],
   "source": [
    "reverse(\"ReVeRsE\")"
   ]
  },
  {
   "cell_type": "code",
   "execution_count": 18,
   "id": "754fd32f-0dcc-49a1-9d1c-241db260883d",
   "metadata": {},
   "outputs": [
    {
     "data": {
      "text/plain": [
       "'RADAr'"
      ]
     },
     "execution_count": 18,
     "metadata": {},
     "output_type": "execute_result"
    }
   ],
   "source": [
    "reverse(\"Radar\")"
   ]
  },
  {
   "cell_type": "markdown",
   "id": "818d6fa5-5789-4fd1-a21a-86add808bfa4",
   "metadata": {},
   "source": [
    "-------------\n",
    "Question 3\n",
    "\n",
    "You can assign variables from lists like this:\n",
    "```\n",
    "lst = [1, 2, 3, 4, 5, 6]\n",
    "first = lst[0]\n",
    "middle = lst[1:-1]\n",
    "last = lst[-1]\n",
    "\n",
    "print(first) ➞ outputs 1\n",
    "print(middle) ➞ outputs [2, 3, 4, 5]\n",
    "print(last) ➞ outputs 6\n",
    "```\n",
    "\n",
    "With Python 3, you can assign variables from lists in a much more succinct way. Create variables first, middle and last from the given list using destructuring assignment (check the Resources tab for some examples), where:\n",
    "```\n",
    "first  ➞ 1\n",
    "\n",
    "middle ➞ [2, 3, 4, 5]\n",
    "\n",
    "last ➞ 6\n",
    "```\n",
    "Your task is to unpack the list writeyourcodehere into three variables, being first, middle, and last, with middle being everything in between the first and last element. Then print all three variables.\n"
   ]
  },
  {
   "cell_type": "code",
   "execution_count": 24,
   "id": "eec527df-2a95-4490-9c0f-738459647a63",
   "metadata": {},
   "outputs": [
    {
     "name": "stdout",
     "output_type": "stream",
     "text": [
      "[1, 2, 3, 4, 5, 6]\n",
      "first :  1\n",
      "middle : [2, 3, 4, 5]\n",
      "last : 6\n"
     ]
    }
   ],
   "source": [
    "lst = [1, 2, 3, 4, 5, 6]\n",
    "print(lst)\n",
    "\n",
    "first,*middle,last = lst\n",
    "print(f\"first :  {first}\")\n",
    "print(f\"middle : {middle}\")\n",
    "print(f\"last : {last}\")"
   ]
  },
  {
   "cell_type": "markdown",
   "id": "2846e4c0-4639-4bdb-adac-ff8bdea4bdde",
   "metadata": {},
   "source": [
    "------------------\n",
    "Question 4\n",
    "\n",
    "Write a function that calculates the factorial of a number recursively.\n",
    "```\n",
    "Examples\n",
    "factorial(5) ➞ 120\n",
    "\n",
    "factorial(3) ➞ 6\n",
    "\n",
    "factorial(1) ➞ 1\n",
    "\n",
    "factorial(0) ➞ 1\n"
   ]
  },
  {
   "cell_type": "code",
   "execution_count": 26,
   "id": "aa27abc6-adc5-441f-8bc3-2e0b938e7a3a",
   "metadata": {},
   "outputs": [],
   "source": [
    "def factorial(n):\n",
    "    if n == 0:\n",
    "        return 1\n",
    "    return n*factorial(n-1)"
   ]
  },
  {
   "cell_type": "code",
   "execution_count": 27,
   "id": "b577399d-a032-4838-b521-347f48cd3364",
   "metadata": {},
   "outputs": [
    {
     "data": {
      "text/plain": [
       "120"
      ]
     },
     "execution_count": 27,
     "metadata": {},
     "output_type": "execute_result"
    }
   ],
   "source": [
    "factorial(5)"
   ]
  },
  {
   "cell_type": "code",
   "execution_count": 28,
   "id": "b5deed11-2993-4ba4-9bc1-369480be5329",
   "metadata": {},
   "outputs": [
    {
     "data": {
      "text/plain": [
       "6"
      ]
     },
     "execution_count": 28,
     "metadata": {},
     "output_type": "execute_result"
    }
   ],
   "source": [
    "factorial(3)"
   ]
  },
  {
   "cell_type": "code",
   "execution_count": 29,
   "id": "230f4283-f63e-4f28-a86e-711199254394",
   "metadata": {},
   "outputs": [
    {
     "data": {
      "text/plain": [
       "1"
      ]
     },
     "execution_count": 29,
     "metadata": {},
     "output_type": "execute_result"
    }
   ],
   "source": [
    "factorial(1)"
   ]
  },
  {
   "cell_type": "code",
   "execution_count": 30,
   "id": "77fbc6b9-174c-4b65-8991-7e64fad7a962",
   "metadata": {},
   "outputs": [
    {
     "data": {
      "text/plain": [
       "1"
      ]
     },
     "execution_count": 30,
     "metadata": {},
     "output_type": "execute_result"
    }
   ],
   "source": [
    "factorial(0)"
   ]
  },
  {
   "cell_type": "markdown",
   "id": "4bc823d8-77c7-4c23-ae23-edde073f3ec5",
   "metadata": {},
   "source": [
    "---------\n",
    "Question 5\n",
    "\n",
    "Write a function that moves all elements of one type to the end of the list.\n",
    "```\n",
    "Examples\n",
    "move_to_end([1, 3, 2, 4, 4, 1], 1) ➞ [3, 2, 4, 4, 1, 1]\n",
    "# Move all the 1s to the end of the array.\n",
    "\n",
    "move_to_end([7, 8, 9, 1, 2, 3, 4], 9) ➞ [7, 8, 1, 2, 3, 4, 9]\n",
    "\n",
    "move_to_end([\"a\", \"a\", \"a\", \"b\"], \"a\") ➞ [\"b\", \"a\", \"a\", \"a\"]\n"
   ]
  },
  {
   "cell_type": "code",
   "execution_count": 33,
   "id": "7288e922-0e0c-4e59-bcda-87fcb69184a4",
   "metadata": {},
   "outputs": [],
   "source": [
    "def move_to_end(list1,ch):\n",
    "    new_list = list(filter(lambda x: x != ch,list1))\n",
    "    for i in range(list1.count(ch)):\n",
    "        new_list.append(ch)\n",
    "    return new_list\n",
    "    "
   ]
  },
  {
   "cell_type": "code",
   "execution_count": 34,
   "id": "4e74cf7c-0669-47f3-95b8-2bcba73d0df3",
   "metadata": {},
   "outputs": [
    {
     "data": {
      "text/plain": [
       "[3, 2, 4, 4, 1, 1]"
      ]
     },
     "execution_count": 34,
     "metadata": {},
     "output_type": "execute_result"
    }
   ],
   "source": [
    "move_to_end([1, 3, 2, 4, 4, 1], 1)"
   ]
  },
  {
   "cell_type": "code",
   "execution_count": 35,
   "id": "04f486d6-2375-42c6-9f7d-5887a017d312",
   "metadata": {},
   "outputs": [
    {
     "data": {
      "text/plain": [
       "[7, 8, 1, 2, 3, 4, 9]"
      ]
     },
     "execution_count": 35,
     "metadata": {},
     "output_type": "execute_result"
    }
   ],
   "source": [
    "move_to_end([7, 8, 9, 1, 2, 3, 4], 9)"
   ]
  },
  {
   "cell_type": "code",
   "execution_count": 36,
   "id": "7d16c492-01a0-4f5f-b8eb-286881cc926c",
   "metadata": {},
   "outputs": [
    {
     "data": {
      "text/plain": [
       "['b', 'a', 'a', 'a']"
      ]
     },
     "execution_count": 36,
     "metadata": {},
     "output_type": "execute_result"
    }
   ],
   "source": [
    "move_to_end([\"a\", \"a\", \"a\", \"b\"], \"a\")"
   ]
  },
  {
   "cell_type": "code",
   "execution_count": null,
   "id": "f2bab826-9881-4334-b1a1-31994fe3b7b3",
   "metadata": {},
   "outputs": [],
   "source": []
  }
 ],
 "metadata": {
  "kernelspec": {
   "display_name": "Python 3 (ipykernel)",
   "language": "python",
   "name": "python3"
  },
  "language_info": {
   "codemirror_mode": {
    "name": "ipython",
    "version": 3
   },
   "file_extension": ".py",
   "mimetype": "text/x-python",
   "name": "python",
   "nbconvert_exporter": "python",
   "pygments_lexer": "ipython3",
   "version": "3.10.6"
  }
 },
 "nbformat": 4,
 "nbformat_minor": 5
}
