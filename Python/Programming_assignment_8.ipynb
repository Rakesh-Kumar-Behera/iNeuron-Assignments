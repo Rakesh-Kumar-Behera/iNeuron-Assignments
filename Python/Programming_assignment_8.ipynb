{
 "cells": [
  {
   "cell_type": "markdown",
   "metadata": {},
   "source": [
    "## Programming Assignment 8\n",
    "\n",
    "1.\tWrite a Python Program to Add Two Matrices?"
   ]
  },
  {
   "cell_type": "code",
   "execution_count": 2,
   "metadata": {},
   "outputs": [
    {
     "name": "stdout",
     "output_type": "stream",
     "text": [
      "[17, 15, 4]\n",
      "[10, 12, 9]\n",
      "[11, 13, 18]\n"
     ]
    }
   ],
   "source": [
    "# Program to add two matrices using nested loop\n",
    "X = [[12, 7, 3], [4, 5, 6], [7, 8, 9]]\n",
    "Y = [[5, 8, 1], [6, 7, 3], [4, 5, 9]]\n",
    "\n",
    "# Initialize an empty matrix for the result\n",
    "result = [[0, 0, 0], [0, 0, 0], [0, 0, 0]]\n",
    "\n",
    "# Iterate through rows\n",
    "for i in range(len(X)):\n",
    "    # Iterate through columns\n",
    "    for j in range(len(X[0])):\n",
    "        result[i][j] = X[i][j] + Y[i][j]\n",
    "\n",
    "# Print the result\n",
    "for r in result:\n",
    "    print(r)\n"
   ]
  },
  {
   "cell_type": "code",
   "execution_count": 1,
   "metadata": {},
   "outputs": [
    {
     "name": "stdout",
     "output_type": "stream",
     "text": [
      "[17, 15, 4]\n",
      "[10, 12, 9]\n",
      "[11, 13, 18]\n"
     ]
    }
   ],
   "source": [
    "# Program to add two matrices using list comprehension\n",
    "X = [[12, 7, 3], [4, 5, 6], [7, 8, 9]]\n",
    "Y = [[5, 8, 1], [6, 7, 3], [4, 5, 9]]\n",
    "\n",
    "# Calculate the result using list comprehension\n",
    "result = [[X[i][j] + Y[i][j] for j in range(len(X[0]))] for i in range(len(X))]\n",
    "\n",
    "# Print the result\n",
    "for r in result:\n",
    "    print(r)\n"
   ]
  },
  {
   "cell_type": "markdown",
   "metadata": {},
   "source": [
    "2.\tWrite a Python Program to Multiply Two Matrices?"
   ]
  },
  {
   "cell_type": "code",
   "execution_count": 5,
   "metadata": {},
   "outputs": [
    {
     "name": "stdout",
     "output_type": "stream",
     "text": [
      "[114, 160, 60, 27]\n",
      "[74, 97, 73, 14]\n",
      "[119, 157, 112, 23]\n"
     ]
    }
   ],
   "source": [
    "# Define two matrices (adjust the values as needed)\n",
    "X = [[12, 7, 3], [4, 5, 6], [7, 8, 9]]\n",
    "Y = [[5, 8, 1, 2], [6, 7, 3, 0], [4, 5, 9, 1]]\n",
    "\n",
    "# Initialize the result matrix with zeros\n",
    "result = [[0] * len(Y[0]) for _ in range(len(X))]\n",
    "\n",
    "# Multiply matrices X and Y\n",
    "for i in range(len(X)):\n",
    "    for j in range(len(Y[0])):\n",
    "        for k in range(len(Y)):\n",
    "            result[i][j] += X[i][k] * Y[k][j]\n",
    "\n",
    "# Display the result\n",
    "for row in result:\n",
    "    print(row)\n"
   ]
  },
  {
   "cell_type": "code",
   "execution_count": null,
   "metadata": {},
   "outputs": [],
   "source": []
  },
  {
   "cell_type": "code",
   "execution_count": 8,
   "metadata": {},
   "outputs": [
    {
     "name": "stdout",
     "output_type": "stream",
     "text": [
      "[[114 160  60  27]\n",
      " [ 74  97  73  14]\n",
      " [119 157 112  23]]\n"
     ]
    }
   ],
   "source": [
    "import numpy as np\n",
    "\n",
    "# Define matrices (same as above)\n",
    "X = np.array([[12, 7, 3], [4, 5, 6], [7, 8, 9]])\n",
    "Y = np.array([[5, 8, 1, 2], [6, 7, 3, 0], [4, 5, 9, 1]])\n",
    "\n",
    "# Multiply matrices using NumPy\n",
    "result = np.dot(X, Y)\n",
    "\n",
    "# Print the result\n",
    "print(result)\n"
   ]
  },
  {
   "cell_type": "markdown",
   "metadata": {},
   "source": [
    "3.\tWrite a Python Program to Transpose a Matrix?"
   ]
  },
  {
   "cell_type": "code",
   "execution_count": 9,
   "metadata": {},
   "outputs": [
    {
     "name": "stdout",
     "output_type": "stream",
     "text": [
      "[[12  4  3]\n",
      " [ 7  5  8]]\n"
     ]
    }
   ],
   "source": [
    "import numpy as np\n",
    "\n",
    "# Define matrix X (same as above)\n",
    "X = np.array([[12, 7], [4, 5], [3, 8]])\n",
    "\n",
    "# Transpose using NumPy\n",
    "result = X.T\n",
    "\n",
    "# Print the transposed matrix\n",
    "print(result)\n"
   ]
  },
  {
   "cell_type": "markdown",
   "metadata": {},
   "source": [
    "4.\tWrite a Python Program to Sort Words in Alphabetic Order?"
   ]
  },
  {
   "cell_type": "code",
   "execution_count": 10,
   "metadata": {},
   "outputs": [
    {
     "name": "stdout",
     "output_type": "stream",
     "text": [
      "The sorted words are:\n",
      "an\n",
      "cased\n",
      "example\n",
      "hello\n",
      "is\n",
      "letters\n",
      "this\n",
      "with\n"
     ]
    }
   ],
   "source": [
    "my_str = \"Hello this Is an Example With cased letters\"\n",
    "\n",
    "# Convert the string to lowercase and split into words\n",
    "words = [word.lower() for word in my_str.split()]\n",
    "\n",
    "# Sort the list of words\n",
    "words.sort()\n",
    "\n",
    "# Display the sorted words\n",
    "print(\"The sorted words are:\")\n",
    "for word in words:\n",
    "    print(word)\n"
   ]
  },
  {
   "cell_type": "markdown",
   "metadata": {},
   "source": [
    "5.\tWrite a Python Program to Remove Punctuation From a String?"
   ]
  },
  {
   "cell_type": "code",
   "execution_count": 3,
   "metadata": {},
   "outputs": [
    {
     "name": "stdout",
     "output_type": "stream",
     "text": [
      "Hello he said and went\n"
     ]
    }
   ],
   "source": [
    "# Define punctuation characters\n",
    "punctuations = '''!()-[]{};:'\"\\,<>./?@#$%^&*_~'''\n",
    "\n",
    "# Input string (you can also take input from the user)\n",
    "my_str = \"Hello!!!, he said ---and went.\"\n",
    "\n",
    "# Remove punctuation from the string\n",
    "no_punct = \"\"\n",
    "for char in my_str:\n",
    "    if char not in punctuations:\n",
    "        no_punct += char\n",
    "\n",
    "# Display the unpunctuated string\n",
    "print(no_punct)\n"
   ]
  },
  {
   "cell_type": "code",
   "execution_count": 4,
   "metadata": {},
   "outputs": [
    {
     "name": "stdout",
     "output_type": "stream",
     "text": [
      "String With some punctuations\n"
     ]
    }
   ],
   "source": [
    "import string\n",
    "\n",
    "def remove_punctuations(text):\n",
    "    for c in string.punctuation:\n",
    "        text = text.replace(c, \"\")\n",
    "    return text\n",
    "\n",
    "# Example usage\n",
    "text_with_punctuations = \"String! With, some; punctuations.\"\n",
    "cleaned_text = remove_punctuations(text_with_punctuations)\n",
    "print(cleaned_text)\n"
   ]
  },
  {
   "cell_type": "markdown",
   "metadata": {},
   "source": []
  }
 ],
 "metadata": {
  "kernelspec": {
   "display_name": "Python 3",
   "language": "python",
   "name": "python3"
  },
  "language_info": {
   "codemirror_mode": {
    "name": "ipython",
    "version": 3
   },
   "file_extension": ".py",
   "mimetype": "text/x-python",
   "name": "python",
   "nbconvert_exporter": "python",
   "pygments_lexer": "ipython3",
   "version": "3.10.11"
  }
 },
 "nbformat": 4,
 "nbformat_minor": 2
}
